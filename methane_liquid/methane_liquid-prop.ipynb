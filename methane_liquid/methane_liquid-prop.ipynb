{
 "cells": [
  {
   "cell_type": "code",
   "execution_count": 1,
   "metadata": {},
   "outputs": [
    {
     "data": {
      "text/plain": [
       "4"
      ]
     },
     "execution_count": 1,
     "metadata": {},
     "output_type": "execute_result"
    }
   ],
   "source": [
    "!export OMP_NUM_THREADS=4\n",
    "!export NUMBA_NUM_THREADS=4\n",
    "from mkl import set_num_threads\n",
    "set_num_threads(4)"
   ]
  },
  {
   "cell_type": "code",
   "execution_count": 2,
   "metadata": {},
   "outputs": [],
   "source": [
    "%matplotlib inline\n",
    "import numpy as np\n",
    "import ase\n",
    "from ase.io import read\n",
    "from ase.neighborlist import neighbor_list\n",
    "from ase.visualize import view\n",
    "from itertools import product\n",
    "import matplotlib.pyplot as plt\n",
    "import seaborn as sns\n",
    "from tqdm.notebook import tqdm\n",
    "import pandas as pd\n",
    "from copy import deepcopy"
   ]
  },
  {
   "cell_type": "code",
   "execution_count": 3,
   "metadata": {},
   "outputs": [],
   "source": [
    "import sys\n",
    "sys.path.insert(0,'../build/_deps/rascal-build/')\n",
    "from rascal.utils import ostream_redirect, FPSFilter, CURFilter, dump_obj, load_obj\n",
    "from rascal.representations import SphericalInvariants, SphericalExpansion\n",
    "from rascal.models import Kernel"
   ]
  },
  {
   "cell_type": "code",
   "execution_count": 4,
   "metadata": {},
   "outputs": [],
   "source": [
    "PATH = './'\n",
    "sys.path.insert(0, '../scripts/')\n",
    "from utils.io import fromfile, tofile, frompickle, topickle, _decode\n"
   ]
  },
  {
   "cell_type": "markdown",
   "metadata": {},
   "source": [
    "# utils"
   ]
  },
  {
   "cell_type": "code",
   "execution_count": 5,
   "metadata": {
    "code_folding": [
     0
    ]
   },
   "outputs": [],
   "source": [
    "def extract_ref(frames,info_key='energy',array_key='forces'):\n",
    "    y,f = [], []\n",
    "    for frame in frames:\n",
    "        y.append(frame.info[info_key])\n",
    "        if array_key is None:\n",
    "            pass\n",
    "        elif array_key == 'zeros':\n",
    "            f.append(np.zeros(frame.get_positions().shape))\n",
    "        else:\n",
    "            f.append(frame.get_array(array_key))\n",
    "    y= np.array(y)\n",
    "    try:\n",
    "        f = np.concatenate(f)\n",
    "    except:\n",
    "        pass\n",
    "    return y,f"
   ]
  },
  {
   "cell_type": "code",
   "execution_count": 6,
   "metadata": {
    "code_folding": [
     7,
     20,
     34
    ]
   },
   "outputs": [],
   "source": [
    "from utils.colormap import get_energyCmap\n",
    "\n",
    "cmap = get_energyCmap()\n",
    "\n",
    "from matplotlib.colors import Normalize\n",
    "import matplotlib.cm as cm\n",
    "import seaborn as sns\n",
    "def plot_contour_overlay(df, x, y, values , row, col, **kwargs):\n",
    "    vmin=df[values].min()\n",
    "    vmax=df[values].max()\n",
    "    g = sns.FacetGrid(df, col=col, row=row, height=5, dropna=False, **kwargs)\n",
    "    g.map_dataframe(draw_heatmap, x, y, values, annot=True, fmt=\".0f\", cmap=cmap, square=True, cbar=False,\n",
    "                    vmin=vmin, vmax=vmax)\n",
    "    fig = g.fig\n",
    "    fig.tight_layout(h_pad=1.5, w_pad=1.5)\n",
    "    fig.subplots_adjust(right=0.9)\n",
    "    cbar_ax = fig.add_axes([0.93, 0.17, 0.05, 0.7])\n",
    "    norm = Normalize(vmin=vmin, vmax=vmax)\n",
    "    fig.colorbar(cm.ScalarMappable(norm=norm, cmap=cmap), cax=cbar_ax, label= values)\n",
    "    return g\n",
    "def plot_contour(df, x, y, values , row, col, **kwargs):\n",
    "    vmin=df[values].min()\n",
    "    vmax=df[values].max()\n",
    "    g = sns.FacetGrid(df, col=col, row=row, height=5, dropna=False, **kwargs)\n",
    "    g.map_dataframe(draw_heatmap, x, y, values, cmap=cmap, square=True, cbar=False,\n",
    "                    vmin=vmin, vmax=vmax)\n",
    "    fig = g.fig\n",
    "    fig.tight_layout(h_pad=1.5, w_pad=1.5)\n",
    "    fig.subplots_adjust(right=0.9)\n",
    "    cbar_ax = fig.add_axes([0.93, 0.17, 0.05, 0.7])\n",
    "    norm = Normalize(vmin=vmin, vmax=vmax)\n",
    "    fig.colorbar(cm.ScalarMappable(norm=norm, cmap=cmap), cax=cbar_ax, label= values)\n",
    "    return g\n",
    "\n",
    "def draw_heatmap(*args, **kwargs):\n",
    "    data = kwargs.pop('data')\n",
    "    d = data.pivot(index=args[1], columns=args[0], values=args[2])\n",
    "    d = d.sort_index('index',ascending=False) \n",
    "    sns.heatmap(d, **kwargs)"
   ]
  },
  {
   "cell_type": "markdown",
   "metadata": {},
   "source": [
    "## model"
   ]
  },
  {
   "cell_type": "code",
   "execution_count": 7,
   "metadata": {},
   "outputs": [],
   "source": [
    "class KRR(object):\n",
    "    def __init__(self, weights, kernel, X_train):\n",
    "        # Weights of the krr model\n",
    "        self.weights = weights\n",
    "        self.kernel = kernel\n",
    "        self.X_train = X_train\n",
    "    def predict(self, X):\n",
    "        K = self.kernel(X, self.X_train)\n",
    "        return np.dot(K, self.weights).reshape((-1))\n",
    "        \n",
    "def train_krr(X, K_,y,kernel, sigma, jitter=1e-7):\n",
    "    K = K_.copy()\n",
    "    delta = np.std(y) / np.mean(K.diagonal())\n",
    "    K[np.diag_indices_from(K)] += sigma**2/ delta **2 + jitter\n",
    "    weights = np.linalg.solve(K,y)\n",
    "    return KRR(weights, kernel, X)\n",
    "\n"
   ]
  },
  {
   "cell_type": "code",
   "execution_count": 8,
   "metadata": {},
   "outputs": [],
   "source": [
    "def test_krr(train, test, K, y, sigma, jitter=1e-7):\n",
    "    Kt = K[np.ix_(train,train)]\n",
    "    delta = np.std(y[train]) / np.mean(Kt.diagonal())\n",
    "    Kt[np.diag_indices_from(Kt)] += sigma**2/ delta **2 + jitter\n",
    "    weights = np.linalg.solve(Kt,y[train])\n",
    "    y_pred = np.dot(K[np.ix_(test,train)], weights)\n",
    "    score = get_score(y_pred, y[test])\n",
    "    return score, y_pred, y[test]"
   ]
  },
  {
   "cell_type": "markdown",
   "metadata": {},
   "source": [
    "## LC"
   ]
  },
  {
   "cell_type": "code",
   "execution_count": 9,
   "metadata": {
    "code_folding": [
     2,
     29
    ]
   },
   "outputs": [],
   "source": [
    "from scipy.stats import spearmanr\n",
    "\n",
    "def get_r2(y_pred,y_true):\n",
    "    weight = 1\n",
    "    sample_weight = None\n",
    "    numerator = (weight * (y_true - y_pred) ** 2).sum(axis=0,dtype=np.float64)\n",
    "    denominator = (weight * (y_true - np.average(\n",
    "        y_true, axis=0, weights=sample_weight)) ** 2).sum(axis=0,dtype=np.float64)\n",
    "    output_scores = 1 - (numerator/ denominator)\n",
    "    return np.mean(output_scores)\n",
    "\n",
    "def get_mae(ypred,y):\n",
    "    return np.mean(np.abs(ypred-y))\n",
    "def get_rmse(ypred,y):\n",
    "    return np.sqrt(np.mean((ypred-y)**2))\n",
    "def get_sup(ypred,y):\n",
    "    return np.amax(np.abs((ypred-y)))\n",
    "def get_spearman(ypred,y):\n",
    "    corr,_ = spearmanr(ypred,y)\n",
    "    return corr\n",
    "\n",
    "score_func = dict(\n",
    "    MAE=get_mae,\n",
    "    RMSE=get_rmse,\n",
    "    SUP=get_sup,\n",
    "    R2=get_r2,\n",
    "    CORR=get_spearman\n",
    ")\n",
    "\n",
    "def get_score(ypred,y):\n",
    "    scores = {}\n",
    "    for k,func in list(score_func.items()):\n",
    "        scores[k] = func(ypred,y)\n",
    "    return scores"
   ]
  },
  {
   "cell_type": "code",
   "execution_count": 10,
   "metadata": {
    "code_folding": [
     9
    ]
   },
   "outputs": [],
   "source": [
    "from sklearn.model_selection._split import ShuffleSplit, KFold\n",
    "from abc import ABCMeta, abstractmethod\n",
    "import collections\n",
    "from sklearn.model_selection._split import (_BaseKFold,\n",
    "        BaseCrossValidator,_validate_shuffle_split,BaseShuffleSplit)\n",
    "from sklearn.utils.validation import _num_samples\n",
    "from sklearn.utils import check_random_state\n",
    "from abc import ABCMeta, abstractmethod\n",
    "\n",
    "class LCSplit(object):\n",
    "    def __init__(self, cv, n_repeats=[10],train_sizes=[10],test_size=\"default\", random_state=None, **cvargs):\n",
    "\n",
    "        self.cv = cv\n",
    "        self.n_repeats = n_repeats\n",
    "        self.train_sizes = train_sizes\n",
    "        self.random_state = random_state\n",
    "        self.cvargs = cvargs\n",
    "        self.test_size = test_size\n",
    "        self.n_splits = np.sum(n_repeats)\n",
    "    \n",
    "    def get_params(self):\n",
    "        params = dict(cv=self.cv.get_params(),n_repeats=self.n_repeats,train_sizes=self.train_sizes,\n",
    "                     test_size=self.test_size,random_state=self.random_state,cvargs=self.cvargs)\n",
    "        return params\n",
    "\n",
    "    def split(self, X, y=None, groups=None):\n",
    "        \"\"\"Generates indices to split data into training and test set.\n",
    "        Parameters\n",
    "        ----------\n",
    "        X : array-like, shape (n_samples, n_features)\n",
    "            Training data, where n_samples is the number of samples\n",
    "            and n_features is the number of features.\n",
    "        y : array-like, of length n_samples\n",
    "            The target variable for supervised learning problems.\n",
    "        groups : array-like, with shape (n_samples,), optional\n",
    "            Group labels for the samples used while splitting the dataset into\n",
    "            train/test set.\n",
    "        Returns\n",
    "        -------\n",
    "        train : ndarray\n",
    "            The training set indices for that split.\n",
    "        test : ndarray\n",
    "            The testing set indices for that split.\n",
    "        \"\"\"\n",
    "\n",
    "        rng = check_random_state(self.random_state)\n",
    "        \n",
    "        for n_repeat,train_size in zip(self.n_repeats,self.train_sizes):\n",
    "            cv = self.cv(random_state=rng, n_splits=n_repeat,test_size=self.test_size,train_size=train_size,\n",
    "                             **self.cvargs)\n",
    "            for train_index, test_index in cv.split(X, y, groups):\n",
    "                yield train_index, test_index\n",
    "                \n",
    "    def get_n_splits(self, X=None, y=None, groups=None):\n",
    "        \"\"\"Returns the number of splitting iterations in the cross-validator\n",
    "        Parameters\n",
    "        ----------\n",
    "        X : object\n",
    "            Always ignored, exists for compatibility.\n",
    "            ``np.zeros(n_samples)`` may be used as a placeholder.\n",
    "        y : object\n",
    "            Always ignored, exists for compatibility.\n",
    "            ``np.zeros(n_samples)`` may be used as a placeholder.\n",
    "        groups : array-like, with shape (n_samples,), optional\n",
    "            Group labels for the samples used while splitting the dataset into\n",
    "            train/test set.\n",
    "        Returns\n",
    "        -------\n",
    "        n_splits : int\n",
    "            Returns the number of splitting iterations in the cross-validator.\n",
    "        \"\"\"\n",
    "        rng = check_random_state(self.random_state)\n",
    "        n_splits = 0\n",
    "        for n_repeat,train_size in zip(self.n_repeats,self.train_sizes):\n",
    "            cv = self.cv(random_state=rng, n_splits=n_repeat,test_size=self.test_size,train_size=train_size,\n",
    "                             **self.cvargs)\n",
    "            n_splits += cv.get_n_splits(X, y, groups)\n",
    "        return n_splits\n",
    "    "
   ]
  },
  {
   "cell_type": "code",
   "execution_count": 11,
   "metadata": {
    "code_folding": [
     10,
     96,
     107,
     126,
     155,
     227,
     280,
     283,
     296,
     302,
     308
    ]
   },
   "outputs": [],
   "source": [
    "from rascal.utils.io import BaseIO\n",
    "from rascal.lib import sparsification\n",
    "\n",
    "from rascal.utils.filter_utils import (get_index_mappings_sample_per_species,\n",
    "                           convert_selected_global_index2perstructure_index_per_species,\n",
    "                           get_index_mappings_sample,\n",
    "                           convert_selected_global_index2perstructure_index)\n",
    "import numpy as np\n",
    "\n",
    "\n",
    "def fps(feature_matrix, n_select, starting_index=None,\n",
    "        method='simple', restart=None):\n",
    "    \"\"\"\n",
    "    Farthest Point Sampling [1] routine using librascal.\n",
    "\n",
    "    Parameters\n",
    "    ----------\n",
    "    feature_matrix : numpy.ndarray[float64[n, m], flags.c_contiguous]\n",
    "        Feature matrix with n samples and m features.\n",
    "    n_select : int\n",
    "        Number of sample to select\n",
    "    starting_index : int, optional\n",
    "        Index of the first sample to select (the default is None,\n",
    "                           which corresponds to starting_index == 0)\n",
    "    restart : dictionary, optional (only valid for method=\"simple\")\n",
    "        the return value of a previous call to FPS. the selection\n",
    "        will continue where it has been left off. the dictionary\n",
    "        should contain at least \"fps_indices\"; if \"fps_minmax_d2\" and\n",
    "        \"fps_hausdorff_d2\" are present, they will be used to restart,\n",
    "        otherwise they'll be recomputed\n",
    "\n",
    "    method : str, optional\n",
    "        Select which kind of FPS selection to perform:\n",
    "        + 'simple' is the basic fps selection [1].\n",
    "        + 'voronoi' uses voronoi polyhedra to avoid some\n",
    "                    distance computations.\n",
    "\n",
    "    Returns\n",
    "    -------\n",
    "    A dictionary containing the following quantities\n",
    "    \"fps_indices\" : numpy.ndarray[int[n_select]]\n",
    "        Selected indices refering to the feature_matrix order.\n",
    "    \"fps_minmax_d2\": numpy.ndarray[float64[n_select]]\n",
    "        MIN-MAX distance^2 at each step in the selection\n",
    "    \"fps_hausforff_d2\": numpy.ndarray[float64[n]]\n",
    "        array of Hausdorff distances between the n points and the\n",
    "        n_select FPS points\n",
    "    In addition, when method=\"voronoi\", the following arrays are returned\n",
    "    \"fps_voronoi_indices\": numpy.ndarray[int[n]]\n",
    "        the indices that assign each of the n inputs to the closest FPS point\n",
    "    \"fps_voronoi_r2\": numpy.ndarray[float64[n_select]]\n",
    "        the squared \"Voronoi radius\" of each FPS point (the largest distance to\n",
    "        one of the points associated to its Voronoi cell\n",
    "\n",
    "\n",
    "    .. [1] Ceriotti, M., Tribello, G. A., & Parrinello, M. (2013).\n",
    "        Demonstrating the Transferability and the Descriptive Power of Sketch-Map.\n",
    "        Journal of Chemical Theory and Computation, 9(3), 1521–1532.\n",
    "        https://doi.org/10.1021/ct3010563\n",
    "    \"\"\"\n",
    "\n",
    "    if starting_index is None:\n",
    "        starting_index = 0\n",
    "\n",
    "    return_dict = {}\n",
    "    if method == 'simple':\n",
    "        if restart is None:\n",
    "            sparse_indices, sparse_minmax_d2, lmin_d2 = \\\n",
    "                sparsification.fps(feature_matrix, n_select, starting_index)\n",
    "        else:\n",
    "            res_tuple = (restart[\"fps_indices\"],\n",
    "                         (restart[\"fps_minmax_d2\"] if \"fps_minmax_d2\" in restart\n",
    "                          else np.zeros(0, float)),\n",
    "                         (restart[\"fps_hausdorff_d2\"] if \"fps_hausdorff_d2\" in restart\n",
    "                          else np.zeros(0, float)))\n",
    "            sparse_indices, sparse_minmax_d2, lmin_d2 = \\\n",
    "                sparsification.fps(feature_matrix, n_select,\n",
    "                                   starting_index, res_tuple)\n",
    "\n",
    "    elif method == 'voronoi':\n",
    "        sparse_indices, sparse_minmax_d2, lmin_d2, \\\n",
    "            voronoi_indices, voronoi_r2 = \\\n",
    "            sparsification.fps_voronoi(feature_matrix,\n",
    "                                       n_select, starting_index)\n",
    "        return_dict[\"fps_voronoi_indices\"] = voronoi_indices\n",
    "        return_dict[\"fps_voronoi_r2\"] = voronoi_r2\n",
    "\n",
    "    else:\n",
    "        raise Exception('Unknown FPS algorithm {}'.format(method))\n",
    "\n",
    "    return_dict[\"fps_indices\"] = sparse_indices\n",
    "    return_dict[\"fps_minmax_d2\"] = sparse_minmax_d2\n",
    "    return_dict[\"fps_hausdorff_d2\"] = lmin_d2\n",
    "\n",
    "    return return_dict\n",
    "\n",
    "def avg_structure(manangers,X):\n",
    "    strides = [0]\n",
    "    for manager in managers:\n",
    "        strides.append(len(manager))\n",
    "    strides = np.cumsum(strides)\n",
    "    X_avg = np.zeros((len(managers),X.shape[1]))\n",
    "    i_str = 0\n",
    "    for st,nd in zip(strides[:-1],strides[1:]):\n",
    "        X_avg[i_str] = np.mean(X[st:nd],axis=0)\n",
    "    return X_avg\n",
    "\n",
    "class FPSFilter(BaseIO):\n",
    "    \"\"\"Farthest Point Sampling (FPS) to select samples or features in a given feature matrix.\n",
    "    Wrapper around the fps function for convenience.\n",
    "    Parameters\n",
    "    ----------\n",
    "    representation : Calculator\n",
    "        Representation calculator associated with the kernel\n",
    "    Nselect: int\n",
    "        number of points to select. if act_on='sample per specie' then it should\n",
    "        be a dictionary mapping atom type to the number of samples, e.g.\n",
    "        Nselect = {1:200,6:100,8:50}.\n",
    "    act_on: string\n",
    "        Select how to apply the selection. Can be either of 'sample',\n",
    "        'sample per species','feature'.\n",
    "    starting_index: int\n",
    "        Index used to start the FPS selection with.\n",
    "\n",
    "    \"\"\"\n",
    "\n",
    "    def __init__(self, representation, Nselect, act_on='sample per species',\n",
    "                 starting_index=0, method='simple', average=False):\n",
    "        self._representation = representation\n",
    "        self.Nselect = Nselect\n",
    "        self.starting_index = starting_index\n",
    "        modes = ['sample', 'sample per species', 'feature']\n",
    "        if act_on in modes:\n",
    "            self.act_on = act_on\n",
    "        else:\n",
    "            raise ValueError(\n",
    "                '\"act_on\" should be either of: \"{}\", \"{}\", \"{}\"'.format(*modes))\n",
    "\n",
    "        # effectively selected list of indices at the filter step\n",
    "        # the indices have been reordered for effiency and compatibility with\n",
    "        # the c++ routines\n",
    "        self.selected_ids = None\n",
    "        # for 'sample' selection\n",
    "        self.selected_sample_ids = None\n",
    "        # for 'sample per species' selection\n",
    "        self.selected_sample_ids_by_sp = None\n",
    "        # for feature selection\n",
    "        self.selected_feature_ids_global = None\n",
    "\n",
    "        self.fps_minmax_d2_by_sp = None\n",
    "        self.fps_minmax_d2 = None\n",
    "        self.method=method\n",
    "        self.fps_out = None\n",
    "        self.average = average\n",
    "\n",
    "    def select(self, managers, restart=False):\n",
    "        \"\"\"Perform FPS selection of samples/features.\n",
    "        Parameters\n",
    "        ----------\n",
    "        managers : AtomsList\n",
    "            list of structures containing features computed with representation\n",
    "        Returns\n",
    "        -------\n",
    "        PseudoPoints\n",
    "            Selected samples\n",
    "        Raises\n",
    "        ------\n",
    "        ValueError\n",
    "            [description]\n",
    "        NotImplementedError\n",
    "            [description]\n",
    "        \"\"\"\n",
    "\n",
    "        # get the dense feature matrix\n",
    "        X = managers.get_features(self._representation)\n",
    "        \n",
    "        \n",
    "        if restart and self.fps_out:\n",
    "            restart = self.fps_out\n",
    "        else:\n",
    "            restart = None\n",
    "            \n",
    "        if self.act_on == 'sample per species':\n",
    "            sps = list(self.Nselect.keys())\n",
    "\n",
    "            # get various info from the structures about the center atom species and indexing\n",
    "            (strides_by_sp, global_counter, map_by_manager,\n",
    "             indices_by_sp) = get_index_mappings_sample_per_species(managers, sps)\n",
    "\n",
    "            print('The number of pseudo points selected by central atom species is: {}'.format(\n",
    "                self.Nselect))\n",
    "\n",
    "            # organize features w.r.t. central atom type\n",
    "            X_by_sp = {}\n",
    "            for sp in sps:\n",
    "                X_by_sp[sp] = X[indices_by_sp[sp]]\n",
    "            self._XX = X_by_sp\n",
    "\n",
    "            # split the dense feature matrix by center species and apply CUR decomposition\n",
    "            self.selected_sample_ids_by_sp = {}\n",
    "            self.fps_minmax_d2_by_sp = {}\n",
    "            self.fps_hausforff_d2_by_sp = {}\n",
    "            for sp in sps:\n",
    "                print('Selecting species: {}'.format(sp))\n",
    "                fps_out = fps(X_by_sp[sp], self.Nselect[sp], method=self.method,\n",
    "                              starting_index=self.starting_index, restart=restart)\n",
    "                \n",
    "                self.selected_sample_ids_by_sp[sp] = fps_out['fps_indices']\n",
    "                self.fps_minmax_d2_by_sp[sp] = fps_out['fps_minmax_d2']\n",
    "\n",
    "            return self\n",
    "        elif self.act_on == 'feature':\n",
    "            if self.average:\n",
    "                X = avg_structure(manangers,X)\n",
    "            fps_out = fps(X.T, self.Nselect,method=self.method,\n",
    "                          starting_index=self.starting_index,restart=restart)\n",
    "            self.selected_feature_ids_global = fps_out['fps_indices']\n",
    "            self.fps_minmax_d2 = fps_out['fps_minmax_d2']\n",
    "        elif self.act_on == 'sample':\n",
    "            fps_out = fps(X, self.Nselect,method=self.method,\n",
    "                          starting_index=self.starting_index,restart=restart)\n",
    "            self.selected_sample_ids = fps_out['fps_indices']\n",
    "            self.fps_minmax_d2 = fps_out['fps_minmax_d2']\n",
    "        else:\n",
    "            raise NotImplementedError(\"method: {}\".format(self.act_on))\n",
    "        self.fps_out = fps_out\n",
    "\n",
    "    def filter(self, managers, n_select=None):\n",
    "        from rascal.models import SparsePoints\n",
    "        if n_select is None:\n",
    "            n_select = self.Nselect\n",
    "\n",
    "        if self.act_on == 'sample per species':\n",
    "            sps = list(n_select.keys())\n",
    "            # get various info from the structures about the center atom species and indexing\n",
    "            (strides_by_sp, global_counter, map_by_manager,\n",
    "             indices_by_sp) = get_index_mappings_sample_per_species(managers, sps)\n",
    "            selected_ids_by_sp = {key: np.sort(val[:n_select[key]])\n",
    "                                  for key, val in self.selected_sample_ids_by_sp.items()}\n",
    "            self.selected_ids = convert_selected_global_index2perstructure_index_per_species(\n",
    "                managers, selected_ids_by_sp, strides_by_sp, map_by_manager, sps)\n",
    "            # return self.selected_ids\n",
    "            # build the pseudo points\n",
    "            pseudo_points = SparsePoints(self._representation)\n",
    "            pseudo_points.extend(managers, self.selected_ids)\n",
    "            return pseudo_points\n",
    "\n",
    "        elif self.act_on == 'sample':\n",
    "            selected_ids_global = np.sort(self.selected_sample_ids[:n_select])\n",
    "            strides, _, map_by_manager = get_index_mappings_sample(managers)\n",
    "            self.selected_ids = convert_selected_global_index2perstructure_index(managers,\n",
    "                                                                            selected_ids_global, strides, map_by_manager)\n",
    "            return self.selected_ids\n",
    "            # SparsePoints is not compatible with a non center atom species\n",
    "            # dependant sparse points\n",
    "            # # build the pseudo points\n",
    "            # pseudo_points = SparsePoints(self._representation)\n",
    "            # pseudo_points.extend(managers, self.selected_ids)\n",
    "            # return pseudo_points\n",
    "\n",
    "        elif self.act_on == 'feature':\n",
    "            feat_idx2coeff_idx = self._representation.get_feature_index_mapping(\n",
    "                managers)\n",
    "            self.selected_ids = {key: []\n",
    "                                 for key in feat_idx2coeff_idx[0].keys()}\n",
    "            selected_ids_sorting = np.argsort(\n",
    "                self.selected_feature_ids_global[:n_select])\n",
    "            selected_feature_ids = self.selected_feature_ids_global[selected_ids_sorting]\n",
    "            for idx in selected_feature_ids:\n",
    "                coef_idx = feat_idx2coeff_idx[idx]\n",
    "                for key in self.selected_ids.keys():\n",
    "                    self.selected_ids[key].append(int(coef_idx[key]))\n",
    "            # keep the global indices and ordering for ease of use\n",
    "            self.selected_ids['selected_features_global_ids'] = selected_feature_ids.tolist(\n",
    "            )\n",
    "            self.selected_ids['selected_features_global_ids_fps_ordering'] = selected_ids_sorting.tolist(\n",
    "            )\n",
    "            self.selected_ids = dict(coefficient_subselection=self.selected_ids)\n",
    "            return self.selected_ids\n",
    "\n",
    "    def select_and_filter(self, managers):\n",
    "        return self.select(managers).filter(managers)\n",
    "\n",
    "    def plot_fps_error(self):\n",
    "        import matplotlib.pyplot as plt\n",
    "        if self.fps_minmax_d2_by_sp is None:\n",
    "            plt.semilogy(self.fps_minmax_d2, label=self.act_on)\n",
    "\n",
    "        else:\n",
    "            for sp in self.fps_minmax_d2_by_sp:\n",
    "                plt.semilogy(self.fps_minmax_d2_by_sp[sp],\n",
    "                             label='{} species {}'.format(self.act_on, sp))\n",
    "            plt.legend()\n",
    "        plt.title('FPSFilter')\n",
    "        plt.ylabel('fps minmax d^2')\n",
    "\n",
    "    def _get_data(self):\n",
    "        return dict(selected_ids=self.selected_ids,\n",
    "                    selected_sample_ids=self.selected_sample_ids,\n",
    "                    selected_sample_ids_by_sp=self.selected_sample_ids_by_sp,\n",
    "                    selected_feature_ids_global=self.selected_feature_ids_global)\n",
    "\n",
    "    def _set_data(self, data):\n",
    "        self.selected_ids = data['selected_ids']\n",
    "        self.selected_sample_ids = data['selected_sample_ids']\n",
    "        self.selected_sample_ids_by_sp = data['selected_sample_ids_by_sp']\n",
    "        self.selected_feature_ids_global = data['selected_feature_ids_global']\n",
    "\n",
    "    def _get_init_params(self):\n",
    "        return dict(representation=self._representation,\n",
    "                    Nselect=self.Nselect,\n",
    "                    act_on=self.act_on,\n",
    "                    starting_index=self.starting_index,)\n"
   ]
  },
  {
   "cell_type": "markdown",
   "metadata": {
    "heading_collapsed": true
   },
   "source": [
    "# soap"
   ]
  },
  {
   "cell_type": "code",
   "execution_count": 12,
   "metadata": {
    "hidden": true
   },
   "outputs": [
    {
     "data": {
      "text/plain": [
       "(array([    0, 30672,     0,     0,     0,     0,  7668]),\n",
       " array([1, 6]),\n",
       " {1: 0.8, 6: 0.2},\n",
       " 284)"
      ]
     },
     "execution_count": 12,
     "metadata": {},
     "output_type": "execute_result"
    }
   ],
   "source": [
    "frames = read('mebox-minimal-pbe0-b1b.xyz',':')\n",
    "frames.extend(read('mebox-minimal-oos-T110-pbe0-b1b.xyz',':'))\n",
    "frames.extend(read('mebox-minimal-oos-T188-pbe0-b1b.xyz',':'))\n",
    "y,f = extract_ref(frames,info_key='energy',array_key='force')\n",
    "global_species = []\n",
    "for frame in frames:\n",
    "    global_species.extend(frame.get_atomic_numbers())\n",
    "    frame.wrap(eps=1e-11)\n",
    "n_sp = np.bincount(global_species)\n",
    "global_species = np.unique(global_species)\n",
    "natoms = np.zeros(len(frames))\n",
    "for iframe,frame in enumerate(frames):\n",
    "    natoms[iframe] = len(frame)\n",
    "    \n",
    "tot = n_sp.sum()\n",
    "sparse_proportions = {sp:n_sp[sp]/tot for sp in global_species}\n",
    "\n",
    "n_sp, global_species,sparse_proportions,len(frames)"
   ]
  },
  {
   "cell_type": "code",
   "execution_count": 13,
   "metadata": {
    "code_folding": [],
    "hidden": true
   },
   "outputs": [],
   "source": [
    "rc = 5.\n",
    "gs = 0.5\n",
    "\n",
    "rep = {\n",
    "    \"interaction_cutoff\": rc,\n",
    "    \"cutoff_smooth_width\": 1.,\n",
    "    \"max_radial\": 8,\n",
    "    \"max_angular\": 6,\n",
    "    \"gaussian_sigma_type\": \"Constant\",\n",
    "    \"soap_type\": \"PowerSpectrum\",\n",
    "    \"normalize\": True,\n",
    "    \"expansion_by_species_method\": \"structure wise\",\n",
    "    \"compute_gradients\": False,\n",
    "    \"cutoff_function_type\": \"ShiftedCosine\",\n",
    "    \"gaussian_sigma_constant\": gs,\n",
    "    \"radial_basis\": \"GTO\",\n",
    "    \"optimization_args\":{\n",
    "      \"type\": \"Spline\", \"accuracy\": 1e-08, \"range\": [0, rc]\n",
    "    },\n",
    "}\n",
    "soap = SphericalInvariants(**rep)\n"
   ]
  },
  {
   "cell_type": "code",
   "execution_count": 21,
   "metadata": {
    "hidden": true,
    "scrolled": false
   },
   "outputs": [
    {
     "name": "stdout",
     "output_type": "stream",
     "text": [
      "CPU times: user 3.64 s, sys: 583 ms, total: 4.22 s\n",
      "Wall time: 4.22 s\n"
     ]
    }
   ],
   "source": [
    "%%time\n",
    "managers = soap.transform(frames)\n",
    "# pp = managers.get_features(soap)"
   ]
  },
  {
   "cell_type": "code",
   "execution_count": 22,
   "metadata": {
    "hidden": true
   },
   "outputs": [
    {
     "data": {
      "text/plain": [
       "array([1, 6])"
      ]
     },
     "execution_count": 22,
     "metadata": {},
     "output_type": "execute_result"
    }
   ],
   "source": [
    "global_species"
   ]
  },
  {
   "cell_type": "code",
   "execution_count": 23,
   "metadata": {
    "hidden": true
   },
   "outputs": [
    {
     "data": {
      "text/plain": [
       "(952.0, 1344.0)"
      ]
     },
     "execution_count": 23,
     "metadata": {},
     "output_type": "execute_result"
    }
   ],
   "source": [
    "nsp = 2\n",
    "n = 8\n",
    "l = 7\n",
    "nn = n*nsp\n",
    "l*nn*(nn+1)/2,l*n**2*nsp*(nsp+1)/2"
   ]
  },
  {
   "cell_type": "code",
   "execution_count": 24,
   "metadata": {
    "hidden": true
   },
   "outputs": [],
   "source": [
    "n_sparses = [100, 200, 500, 1000, 2000, 5000, 7000, 9000]"
   ]
  },
  {
   "cell_type": "code",
   "execution_count": 25,
   "metadata": {
    "hidden": true
   },
   "outputs": [
    {
     "name": "stdout",
     "output_type": "stream",
     "text": [
      "The number of pseudo points selected by central atom species is: {1: 7200, 6: 1800}\n",
      "Selecting species: 1\n",
      "Selecting species: 6\n",
      "CPU times: user 4min 12s, sys: 1.67 s, total: 4min 13s\n",
      "Wall time: 4min 11s\n"
     ]
    },
    {
     "data": {
      "image/png": "[encoded data removed]",
      "text/plain": [
       "<Figure size 432x288 with 1 Axes>"
      ]
     },
     "metadata": {
      "needs_background": "light"
     },
     "output_type": "display_data"
    }
   ],
   "source": [
    "%%time\n",
    "Nselect = {sp:int(n_sparses[-1]*f) for sp,f in sparse_proportions.items()}\n",
    "\n",
    "compressor = FPSFilter(soap, Nselect, act_on='sample per species')\n",
    "\n",
    "compressor.select(managers)\n",
    "compressor.plot_fps_error()"
   ]
  },
  {
   "cell_type": "code",
   "execution_count": 26,
   "metadata": {
    "hidden": true
   },
   "outputs": [],
   "source": [
    "n_features = [int(952*f) for f in [0.01, 0.02, 0.05, 0.1, 0.2, 0.3, 0.5, 0.7, 0.8, 0.9, 1]]"
   ]
  },
  {
   "cell_type": "code",
   "execution_count": 27,
   "metadata": {
    "hidden": true
   },
   "outputs": [
    {
     "name": "stdout",
     "output_type": "stream",
     "text": [
      "CPU times: user 42.6 s, sys: 512 ms, total: 43.1 s\n",
      "Wall time: 42.9 s\n"
     ]
    },
    {
     "data": {
      "image/png": "[encoded data removed]",
      "text/plain": [
       "<Figure size 432x288 with 1 Axes>"
      ]
     },
     "metadata": {
      "needs_background": "light"
     },
     "output_type": "display_data"
    }
   ],
   "source": [
    "%%time\n",
    "Nselect = n_features[-1]\n",
    "\n",
    "fcompressor = FPSFilter(soap, Nselect, act_on='feature')\n",
    "fcompressor.select(managers)\n",
    "\n",
    "# fcompressor = FPSFilter(soap, 100, act_on='feature')\n",
    "# fcompressor.select(managers)\n",
    "# for n_feat in tqdm(np.array(np.arange(200,Nselect+300,400),dtype=int)):\n",
    "#     fcompressor.Nselect = n_feat\n",
    "#     fcompressor.select(managers,restart=True)\n",
    "\n",
    "fcompressor.plot_fps_error()"
   ]
  },
  {
   "cell_type": "code",
   "execution_count": 28,
   "metadata": {
    "hidden": true
   },
   "outputs": [],
   "source": [
    "fcompressor.fps_out"
   ]
  },
  {
   "cell_type": "code",
   "execution_count": 25,
   "metadata": {
    "collapsed": true,
    "hidden": true
   },
   "outputs": [
    {
     "name": "stdout",
     "output_type": "stream",
     "text": [
      "total 15G\r\n",
      "drwxrwxrwx  3 musil COSMO-StaffU   25 Sep 15 07:43 .\r\n",
      "drwxrwxrwx 16 musil COSMO-StaffU   27 Sep 14 10:54 ..\r\n",
      "-rw-rw-rw-  1 musil COSMO-StaffU  45K Sep 10 17:04 cv-scores-1.pck\r\n",
      "-rw-rw-rw-  1 musil COSMO-StaffU  45K Sep 10 22:50 cv-scores-2.pck\r\n",
      "-rw-rw-rw-  1 musil COSMO-StaffU  22K Sep 11 12:59 cv-scores-3.pck\r\n",
      "-rw-rw-rw-  1 musil COSMO-StaffU  45K Sep 10 12:24 cv-scores.pck\r\n",
      "-rw-r--r--  1 musil COSMO-StaffU  33M Sep  1 18:08 dft-smiles_30000.xyz\r\n",
      "-rw-r--r--  1 musil COSMO-StaffU 235K Sep  1 18:08 dft-smiles_eV_30000.dHf_peratom.npy\r\n",
      "-rw-rw-rw-  1 musil COSMO-StaffU  57K Sep  8 12:13 fps_features_14000.pck\r\n",
      "-rw-rw-rw-  1 musil COSMO-StaffU  73K Sep 15 07:40 fps_features_18300.pck\r\n",
      "-rw-rw-rw-  1 musil COSMO-StaffU  80K Sep 15 07:40 fps_samples_20000.pck\r\n",
      "-rw-rw-rw-  1 musil COSMO-StaffU  26K Sep  3 19:36 fps_samples_6200.pck\r\n",
      "drwxrwxrwx  2 musil COSMO-StaffU    3 Sep  1 18:11 .ipynb_checkpoints\r\n",
      "-rw-rw-rw-  1 musil COSMO-StaffU 1.4G Sep  8 19:34 KNM_np6200_nf11200.npy\r\n",
      "-rw-rw-rw-  1 musil COSMO-StaffU 1.4G Sep  8 21:07 KNM_np6200_nf12600.npy\r\n",
      "-rw-rw-rw-  1 musil COSMO-StaffU 1.4G Sep  8 22:50 KNM_np6200_nf14000.npy\r\n",
      "-rw-rw-rw-  1 musil COSMO-StaffU 1.4G Sep  8 15:05 KNM_np6200_nf1400.npy\r\n",
      "-rw-rw-rw-  1 musil COSMO-StaffU 1.4G Sep  8 14:17 KNM_np6200_nf140.npy\r\n",
      "-rw-rw-rw-  1 musil COSMO-StaffU 1.4G Sep  8 15:36 KNM_np6200_nf2800.npy\r\n",
      "-rw-rw-rw-  1 musil COSMO-StaffU 1.4G Sep  8 14:27 KNM_np6200_nf280.npy\r\n",
      "-rw-rw-rw-  1 musil COSMO-StaffU 1.4G Sep  8 16:14 KNM_np6200_nf4200.npy\r\n",
      "-rw-rw-rw-  1 musil COSMO-StaffU 1.4G Sep  8 17:06 KNM_np6200_nf7000.npy\r\n",
      "-rw-rw-rw-  1 musil COSMO-StaffU 1.4G Sep  8 14:43 KNM_np6200_nf700.npy\r\n",
      "-rw-rw-rw-  1 musil COSMO-StaffU 1.4G Sep  8 18:16 KNM_np6200_nf9800.npy\r\n",
      "-rw-r--r--  1 musil COSMO-StaffU 238K Sep 15 07:42 QM9-prop.ipynb\r\n"
     ]
    }
   ],
   "source": [
    "!ls -lah $PATH"
   ]
  },
  {
   "cell_type": "code",
   "execution_count": 28,
   "metadata": {
    "hidden": true
   },
   "outputs": [],
   "source": [
    "topickle(PATH+'fps_features_{}.pck'.format(n_features[-1]),fcompressor)\n",
    "topickle(PATH+'fps_samples_{}.pck'.format(n_sparses[-1]),compressor)"
   ]
  },
  {
   "cell_type": "code",
   "execution_count": 15,
   "metadata": {
    "hidden": true
   },
   "outputs": [],
   "source": [
    "fcompressor = frompickle(PATH+'fps_features_952.pck')\n",
    "compressor = frompickle(PATH+'fps_samples_9000.pck')"
   ]
  },
  {
   "cell_type": "code",
   "execution_count": 29,
   "metadata": {
    "code_folding": [
     0
    ],
    "hidden": true
   },
   "outputs": [],
   "source": [
    "def get_per_sp_sparsepoints(n_sparse, sparse_proportions):\n",
    "    aa = np.zeros(np.max(list(sparse_proportions))+1,dtype=int)\n",
    "    for sp,f in sparse_proportions.items():\n",
    "        val = int(n_sparse*f)\n",
    "        if val == 0:\n",
    "            val = 1\n",
    "        aa[sp] = val\n",
    "\n",
    "    v = np.sum(aa)\n",
    "    if v != n_sparse:\n",
    "        diff = n_sparse-v\n",
    "        iaa = np.argmax(aa)\n",
    "        aa[iaa] = aa[iaa]+diff\n",
    "\n",
    "    Nselect = {sp:aa[sp] for sp,f in sparse_proportions.items()}\n",
    "    return Nselect"
   ]
  },
  {
   "cell_type": "code",
   "execution_count": 30,
   "metadata": {
    "code_folding": [],
    "collapsed": true,
    "hidden": true
   },
   "outputs": [
    {
     "data": {
      "application/vnd.jupyter.widget-view+json": {
       "model_id": "3186f0e7bf67465c9728396937f12b71",
       "version_major": 2,
       "version_minor": 0
      },
      "text/plain": [
       "HBox(children=(FloatProgress(value=0.0, max=11.0), HTML(value='')))"
      ]
     },
     "metadata": {},
     "output_type": "display_data"
    },
    {
     "data": {
      "application/vnd.jupyter.widget-view+json": {
       "model_id": "",
       "version_major": 2,
       "version_minor": 0
      },
      "text/plain": [
       "HBox(children=(FloatProgress(value=0.0, max=8.0), HTML(value='')))"
      ]
     },
     "metadata": {},
     "output_type": "display_data"
    },
    {
     "name": "stdout",
     "output_type": "stream",
     "text": [
      "100 100\n",
      "200 200\n",
      "500 500\n",
      "1000 1000\n",
      "2000 2000\n",
      "5000 5000\n",
      "7000 7000\n",
      "9000 9000\n"
     ]
    },
    {
     "data": {
      "application/vnd.jupyter.widget-view+json": {
       "model_id": "",
       "version_major": 2,
       "version_minor": 0
      },
      "text/plain": [
       "HBox(children=(FloatProgress(value=0.0, max=8.0), HTML(value='')))"
      ]
     },
     "metadata": {},
     "output_type": "display_data"
    },
    {
     "name": "stdout",
     "output_type": "stream",
     "text": [
      "100 100\n",
      "200 200\n",
      "500 500\n",
      "1000 1000\n",
      "2000 2000\n",
      "5000 5000\n",
      "7000 7000\n",
      "9000 9000\n"
     ]
    },
    {
     "data": {
      "application/vnd.jupyter.widget-view+json": {
       "model_id": "",
       "version_major": 2,
       "version_minor": 0
      },
      "text/plain": [
       "HBox(children=(FloatProgress(value=0.0, max=8.0), HTML(value='')))"
      ]
     },
     "metadata": {},
     "output_type": "display_data"
    },
    {
     "name": "stdout",
     "output_type": "stream",
     "text": [
      "100 100\n",
      "200 200\n",
      "500 500\n",
      "1000 1000\n",
      "2000 2000\n",
      "5000 5000\n",
      "7000 7000\n",
      "9000 9000\n"
     ]
    },
    {
     "data": {
      "application/vnd.jupyter.widget-view+json": {
       "model_id": "",
       "version_major": 2,
       "version_minor": 0
      },
      "text/plain": [
       "HBox(children=(FloatProgress(value=0.0, max=8.0), HTML(value='')))"
      ]
     },
     "metadata": {},
     "output_type": "display_data"
    },
    {
     "name": "stdout",
     "output_type": "stream",
     "text": [
      "100 100\n",
      "200 200\n",
      "500 500\n",
      "1000 1000\n",
      "2000 2000\n",
      "5000 5000\n",
      "7000 7000\n",
      "9000 9000\n"
     ]
    },
    {
     "data": {
      "application/vnd.jupyter.widget-view+json": {
       "model_id": "",
       "version_major": 2,
       "version_minor": 0
      },
      "text/plain": [
       "HBox(children=(FloatProgress(value=0.0, max=8.0), HTML(value='')))"
      ]
     },
     "metadata": {},
     "output_type": "display_data"
    },
    {
     "name": "stdout",
     "output_type": "stream",
     "text": [
      "100 100\n",
      "200 200\n",
      "500 500\n",
      "1000 1000\n",
      "2000 2000\n",
      "5000 5000\n",
      "7000 7000\n",
      "9000 9000\n"
     ]
    },
    {
     "data": {
      "application/vnd.jupyter.widget-view+json": {
       "model_id": "",
       "version_major": 2,
       "version_minor": 0
      },
      "text/plain": [
       "HBox(children=(FloatProgress(value=0.0, max=8.0), HTML(value='')))"
      ]
     },
     "metadata": {},
     "output_type": "display_data"
    },
    {
     "name": "stdout",
     "output_type": "stream",
     "text": [
      "100 100\n",
      "200 200\n",
      "500 500\n",
      "1000 1000\n",
      "2000 2000\n",
      "5000 5000\n",
      "7000 7000\n",
      "9000 9000\n"
     ]
    },
    {
     "data": {
      "application/vnd.jupyter.widget-view+json": {
       "model_id": "",
       "version_major": 2,
       "version_minor": 0
      },
      "text/plain": [
       "HBox(children=(FloatProgress(value=0.0, max=8.0), HTML(value='')))"
      ]
     },
     "metadata": {},
     "output_type": "display_data"
    },
    {
     "name": "stdout",
     "output_type": "stream",
     "text": [
      "100 100\n",
      "200 200\n",
      "500 500\n",
      "1000 1000\n",
      "2000 2000\n",
      "5000 5000\n",
      "7000 7000\n",
      "9000 9000\n"
     ]
    },
    {
     "data": {
      "application/vnd.jupyter.widget-view+json": {
       "model_id": "",
       "version_major": 2,
       "version_minor": 0
      },
      "text/plain": [
       "HBox(children=(FloatProgress(value=0.0, max=8.0), HTML(value='')))"
      ]
     },
     "metadata": {},
     "output_type": "display_data"
    },
    {
     "name": "stdout",
     "output_type": "stream",
     "text": [
      "100 100\n",
      "200 200\n",
      "500 500\n",
      "1000 1000\n",
      "2000 2000\n",
      "5000 5000\n",
      "7000 7000\n",
      "9000 9000\n"
     ]
    },
    {
     "data": {
      "application/vnd.jupyter.widget-view+json": {
       "model_id": "",
       "version_major": 2,
       "version_minor": 0
      },
      "text/plain": [
       "HBox(children=(FloatProgress(value=0.0, max=8.0), HTML(value='')))"
      ]
     },
     "metadata": {},
     "output_type": "display_data"
    },
    {
     "name": "stdout",
     "output_type": "stream",
     "text": [
      "100 100\n",
      "200 200\n",
      "500 500\n",
      "1000 1000\n",
      "2000 2000\n",
      "5000 5000\n",
      "7000 7000\n",
      "9000 9000\n"
     ]
    },
    {
     "data": {
      "application/vnd.jupyter.widget-view+json": {
       "model_id": "",
       "version_major": 2,
       "version_minor": 0
      },
      "text/plain": [
       "HBox(children=(FloatProgress(value=0.0, max=8.0), HTML(value='')))"
      ]
     },
     "metadata": {},
     "output_type": "display_data"
    },
    {
     "name": "stdout",
     "output_type": "stream",
     "text": [
      "100 100\n",
      "200 200\n",
      "500 500\n",
      "1000 1000\n",
      "2000 2000\n",
      "5000 5000\n",
      "7000 7000\n",
      "9000 9000\n"
     ]
    },
    {
     "data": {
      "application/vnd.jupyter.widget-view+json": {
       "model_id": "",
       "version_major": 2,
       "version_minor": 0
      },
      "text/plain": [
       "HBox(children=(FloatProgress(value=0.0, max=8.0), HTML(value='')))"
      ]
     },
     "metadata": {},
     "output_type": "display_data"
    },
    {
     "name": "stdout",
     "output_type": "stream",
     "text": [
      "100 100\n",
      "200 200\n",
      "500 500\n",
      "1000 1000\n",
      "2000 2000\n",
      "5000 5000\n",
      "7000 7000\n",
      "9000 9000\n",
      "\n"
     ]
    }
   ],
   "source": [
    "hypers = deepcopy(rep)\n",
    "for n_feature in  tqdm(n_features):\n",
    "    sel = fcompressor.filter(managers, n_feature)\n",
    "    hypers.update(**sel)\n",
    "    fsoap = SphericalInvariants(**hypers)\n",
    "    fmanagers = fsoap.transform(frames)\n",
    "    compressor._representation = fsoap\n",
    "    for n_sparse in tqdm(n_sparses,leave=False):\n",
    "        Nselect = get_per_sp_sparsepoints(n_sparse, sparse_proportions)\n",
    "        X_sparse = compressor.filter(fmanagers, Nselect)\n",
    "        print(X_sparse.size(), n_sparse)\n",
    "        dump_obj('./sparse_points_np{}_nf{}.json'.format(n_sparse,n_feature), X_sparse)"
   ]
  },
  {
   "cell_type": "code",
   "execution_count": 31,
   "metadata": {
    "hidden": true
   },
   "outputs": [],
   "source": [
    "zeta = 4"
   ]
  },
  {
   "cell_type": "code",
   "execution_count": 32,
   "metadata": {
    "hidden": true
   },
   "outputs": [],
   "source": [
    "Nstructures = len(frames)\n",
    "Ngrad_stride = [0]\n",
    "Ngrads = 0\n",
    "for frame in frames:\n",
    "    n_at = len(frame)\n",
    "    Ngrad_stride.append(n_at*3)\n",
    "    Ngrads += n_at*3\n",
    "Ngrad_stride = np.cumsum(Ngrad_stride) + Nstructures"
   ]
  },
  {
   "cell_type": "code",
   "execution_count": 34,
   "metadata": {
    "code_folding": [
     1,
     11,
     21
    ],
    "hidden": true,
    "scrolled": true
   },
   "outputs": [
    {
     "data": {
      "application/vnd.jupyter.widget-view+json": {
       "model_id": "8036c850af3f49b483d129b865ebb3b6",
       "version_major": 2,
       "version_minor": 0
      },
      "text/plain": [
       "HBox(children=(FloatProgress(value=0.0, max=11.0), HTML(value='')))"
      ]
     },
     "metadata": {},
     "output_type": "display_data"
    },
    {
     "data": {
      "application/vnd.jupyter.widget-view+json": {
       "model_id": "745aa5c9d3e4456dbac8f0789ab71488",
       "version_major": 2,
       "version_minor": 0
      },
      "text/plain": [
       "HBox(children=(FloatProgress(value=0.0, max=8.0), HTML(value='')))"
      ]
     },
     "metadata": {},
     "output_type": "display_data"
    },
    {
     "name": "stdout",
     "output_type": "stream",
     "text": [
      "9 100\n"
     ]
    },
    {
     "data": {
      "application/vnd.jupyter.widget-view+json": {
       "model_id": "0f1e1a6254ac42baa461248234da1aae",
       "version_major": 2,
       "version_minor": 0
      },
      "text/plain": [
       "HBox(children=(FloatProgress(value=0.0, max=284.0), HTML(value='')))"
      ]
     },
     "metadata": {},
     "output_type": "display_data"
    },
    {
     "name": "stdout",
     "output_type": "stream",
     "text": [
      "9 200\n"
     ]
    },
    {
     "data": {
      "application/vnd.jupyter.widget-view+json": {
       "model_id": "7b24afbf23824d7faa4e8be2dce02413",
       "version_major": 2,
       "version_minor": 0
      },
      "text/plain": [
       "HBox(children=(FloatProgress(value=0.0, max=284.0), HTML(value='')))"
      ]
     },
     "metadata": {},
     "output_type": "display_data"
    },
    {
     "name": "stdout",
     "output_type": "stream",
     "text": [
      "9 500\n"
     ]
    },
    {
     "data": {
      "application/vnd.jupyter.widget-view+json": {
       "model_id": "0ccb38e88126441f9f7327e127306217",
       "version_major": 2,
       "version_minor": 0
      },
      "text/plain": [
       "HBox(children=(FloatProgress(value=0.0, max=284.0), HTML(value='')))"
      ]
     },
     "metadata": {},
     "output_type": "display_data"
    },
    {
     "name": "stdout",
     "output_type": "stream",
     "text": [
      "9 1000\n"
     ]
    },
    {
     "data": {
      "application/vnd.jupyter.widget-view+json": {
       "model_id": "7b61de96dc0d426983e4098ad7b96dcc",
       "version_major": 2,
       "version_minor": 0
      },
      "text/plain": [
       "HBox(children=(FloatProgress(value=0.0, max=284.0), HTML(value='')))"
      ]
     },
     "metadata": {},
     "output_type": "display_data"
    },
    {
     "name": "stdout",
     "output_type": "stream",
     "text": [
      "9 2000\n"
     ]
    },
    {
     "data": {
      "application/vnd.jupyter.widget-view+json": {
       "model_id": "1eb5643347f14b21a1b69773612b9c4b",
       "version_major": 2,
       "version_minor": 0
      },
      "text/plain": [
       "HBox(children=(FloatProgress(value=0.0, max=284.0), HTML(value='')))"
      ]
     },
     "metadata": {},
     "output_type": "display_data"
    },
    {
     "name": "stdout",
     "output_type": "stream",
     "text": [
      "9 5000\n"
     ]
    },
    {
     "data": {
      "application/vnd.jupyter.widget-view+json": {
       "model_id": "7710014b20ac4a5dbec65b008f147e47",
       "version_major": 2,
       "version_minor": 0
      },
      "text/plain": [
       "HBox(children=(FloatProgress(value=0.0, max=284.0), HTML(value='')))"
      ]
     },
     "metadata": {},
     "output_type": "display_data"
    },
    {
     "name": "stdout",
     "output_type": "stream",
     "text": [
      "9 7000\n"
     ]
    },
    {
     "data": {
      "application/vnd.jupyter.widget-view+json": {
       "model_id": "8d50b2a273544c78aed5719c818f0016",
       "version_major": 2,
       "version_minor": 0
      },
      "text/plain": [
       "HBox(children=(FloatProgress(value=0.0, max=284.0), HTML(value='')))"
      ]
     },
     "metadata": {},
     "output_type": "display_data"
    },
    {
     "name": "stdout",
     "output_type": "stream",
     "text": [
      "9 9000\n"
     ]
    },
    {
     "data": {
      "application/vnd.jupyter.widget-view+json": {
       "model_id": "b8fca245609045bba3ef7eeb16e8fa7d",
       "version_major": 2,
       "version_minor": 0
      },
      "text/plain": [
       "HBox(children=(FloatProgress(value=0.0, max=284.0), HTML(value='')))"
      ]
     },
     "metadata": {},
     "output_type": "display_data"
    },
    {
     "name": "stdout",
     "output_type": "stream",
     "text": [
      "\n"
     ]
    },
    {
     "data": {
      "application/vnd.jupyter.widget-view+json": {
       "model_id": "35f8d0a04fc4402784ff6b82f8c80f17",
       "version_major": 2,
       "version_minor": 0
      },
      "text/plain": [
       "HBox(children=(FloatProgress(value=0.0, max=8.0), HTML(value='')))"
      ]
     },
     "metadata": {},
     "output_type": "display_data"
    },
    {
     "name": "stdout",
     "output_type": "stream",
     "text": [
      "19 100\n"
     ]
    },
    {
     "data": {
      "application/vnd.jupyter.widget-view+json": {
       "model_id": "f03807759f0d4fb2b266d583341f5cc2",
       "version_major": 2,
       "version_minor": 0
      },
      "text/plain": [
       "HBox(children=(FloatProgress(value=0.0, max=284.0), HTML(value='')))"
      ]
     },
     "metadata": {},
     "output_type": "display_data"
    },
    {
     "name": "stdout",
     "output_type": "stream",
     "text": [
      "19 200\n"
     ]
    },
    {
     "data": {
      "application/vnd.jupyter.widget-view+json": {
       "model_id": "88de1305fe984e5e894da05d96c5267d",
       "version_major": 2,
       "version_minor": 0
      },
      "text/plain": [
       "HBox(children=(FloatProgress(value=0.0, max=284.0), HTML(value='')))"
      ]
     },
     "metadata": {},
     "output_type": "display_data"
    },
    {
     "name": "stdout",
     "output_type": "stream",
     "text": [
      "19 500\n"
     ]
    },
    {
     "data": {
      "application/vnd.jupyter.widget-view+json": {
       "model_id": "0830c7e2049b4737ab3037fbfce275d5",
       "version_major": 2,
       "version_minor": 0
      },
      "text/plain": [
       "HBox(children=(FloatProgress(value=0.0, max=284.0), HTML(value='')))"
      ]
     },
     "metadata": {},
     "output_type": "display_data"
    },
    {
     "name": "stdout",
     "output_type": "stream",
     "text": [
      "19 1000\n"
     ]
    },
    {
     "data": {
      "application/vnd.jupyter.widget-view+json": {
       "model_id": "6481a59c8deb4f40ab874e780dc5abac",
       "version_major": 2,
       "version_minor": 0
      },
      "text/plain": [
       "HBox(children=(FloatProgress(value=0.0, max=284.0), HTML(value='')))"
      ]
     },
     "metadata": {},
     "output_type": "display_data"
    },
    {
     "name": "stdout",
     "output_type": "stream",
     "text": [
      "19 2000\n"
     ]
    },
    {
     "data": {
      "application/vnd.jupyter.widget-view+json": {
       "model_id": "54cc45f0671a47039bd3b4e0634c34cc",
       "version_major": 2,
       "version_minor": 0
      },
      "text/plain": [
       "HBox(children=(FloatProgress(value=0.0, max=284.0), HTML(value='')))"
      ]
     },
     "metadata": {},
     "output_type": "display_data"
    },
    {
     "name": "stdout",
     "output_type": "stream",
     "text": [
      "19 5000\n"
     ]
    },
    {
     "data": {
      "application/vnd.jupyter.widget-view+json": {
       "model_id": "62a7160c05d346afb203c7cfbeb46ea8",
       "version_major": 2,
       "version_minor": 0
      },
      "text/plain": [
       "HBox(children=(FloatProgress(value=0.0, max=284.0), HTML(value='')))"
      ]
     },
     "metadata": {},
     "output_type": "display_data"
    },
    {
     "name": "stdout",
     "output_type": "stream",
     "text": [
      "19 7000\n"
     ]
    },
    {
     "data": {
      "application/vnd.jupyter.widget-view+json": {
       "model_id": "9576ac8c41af42888dd4775ac03c77f1",
       "version_major": 2,
       "version_minor": 0
      },
      "text/plain": [
       "HBox(children=(FloatProgress(value=0.0, max=284.0), HTML(value='')))"
      ]
     },
     "metadata": {},
     "output_type": "display_data"
    },
    {
     "name": "stdout",
     "output_type": "stream",
     "text": [
      "19 9000\n"
     ]
    },
    {
     "data": {
      "application/vnd.jupyter.widget-view+json": {
       "model_id": "0ae83f4209134e789b4492fd07784e7a",
       "version_major": 2,
       "version_minor": 0
      },
      "text/plain": [
       "HBox(children=(FloatProgress(value=0.0, max=284.0), HTML(value='')))"
      ]
     },
     "metadata": {},
     "output_type": "display_data"
    },
    {
     "name": "stdout",
     "output_type": "stream",
     "text": [
      "\n"
     ]
    },
    {
     "data": {
      "application/vnd.jupyter.widget-view+json": {
       "model_id": "b5f0f7fc399e436f8d0048eac795b9fc",
       "version_major": 2,
       "version_minor": 0
      },
      "text/plain": [
       "HBox(children=(FloatProgress(value=0.0, max=8.0), HTML(value='')))"
      ]
     },
     "metadata": {},
     "output_type": "display_data"
    },
    {
     "name": "stdout",
     "output_type": "stream",
     "text": [
      "47 100\n"
     ]
    },
    {
     "data": {
      "application/vnd.jupyter.widget-view+json": {
       "model_id": "0ce24fd5d6bf41f5bff805c5cf1e4f9a",
       "version_major": 2,
       "version_minor": 0
      },
      "text/plain": [
       "HBox(children=(FloatProgress(value=0.0, max=284.0), HTML(value='')))"
      ]
     },
     "metadata": {},
     "output_type": "display_data"
    },
    {
     "name": "stdout",
     "output_type": "stream",
     "text": [
      "47 200\n"
     ]
    },
    {
     "data": {
      "application/vnd.jupyter.widget-view+json": {
       "model_id": "5777ee9ff9834bb989a18adee7e7ada1",
       "version_major": 2,
       "version_minor": 0
      },
      "text/plain": [
       "HBox(children=(FloatProgress(value=0.0, max=284.0), HTML(value='')))"
      ]
     },
     "metadata": {},
     "output_type": "display_data"
    },
    {
     "name": "stdout",
     "output_type": "stream",
     "text": [
      "47 500\n"
     ]
    },
    {
     "data": {
      "application/vnd.jupyter.widget-view+json": {
       "model_id": "e6d739a8d9d24a5ab61d854a27f3af13",
       "version_major": 2,
       "version_minor": 0
      },
      "text/plain": [
       "HBox(children=(FloatProgress(value=0.0, max=284.0), HTML(value='')))"
      ]
     },
     "metadata": {},
     "output_type": "display_data"
    },
    {
     "name": "stdout",
     "output_type": "stream",
     "text": [
      "47 1000\n"
     ]
    },
    {
     "data": {
      "application/vnd.jupyter.widget-view+json": {
       "model_id": "4c218df1191c41cc93819e420b42faf7",
       "version_major": 2,
       "version_minor": 0
      },
      "text/plain": [
       "HBox(children=(FloatProgress(value=0.0, max=284.0), HTML(value='')))"
      ]
     },
     "metadata": {},
     "output_type": "display_data"
    },
    {
     "name": "stdout",
     "output_type": "stream",
     "text": [
      "47 2000\n"
     ]
    },
    {
     "data": {
      "application/vnd.jupyter.widget-view+json": {
       "model_id": "c9d3a8be94da4d8f8c0501eee9e521d5",
       "version_major": 2,
       "version_minor": 0
      },
      "text/plain": [
       "HBox(children=(FloatProgress(value=0.0, max=284.0), HTML(value='')))"
      ]
     },
     "metadata": {},
     "output_type": "display_data"
    },
    {
     "name": "stdout",
     "output_type": "stream",
     "text": [
      "47 5000\n"
     ]
    },
    {
     "data": {
      "application/vnd.jupyter.widget-view+json": {
       "model_id": "20ac619e80034beaac2e942c65a96be1",
       "version_major": 2,
       "version_minor": 0
      },
      "text/plain": [
       "HBox(children=(FloatProgress(value=0.0, max=284.0), HTML(value='')))"
      ]
     },
     "metadata": {},
     "output_type": "display_data"
    },
    {
     "name": "stdout",
     "output_type": "stream",
     "text": [
      "47 7000\n"
     ]
    },
    {
     "data": {
      "application/vnd.jupyter.widget-view+json": {
       "model_id": "65a29ae797ed46b6854ae55862697933",
       "version_major": 2,
       "version_minor": 0
      },
      "text/plain": [
       "HBox(children=(FloatProgress(value=0.0, max=284.0), HTML(value='')))"
      ]
     },
     "metadata": {},
     "output_type": "display_data"
    },
    {
     "name": "stdout",
     "output_type": "stream",
     "text": [
      "47 9000\n"
     ]
    },
    {
     "data": {
      "application/vnd.jupyter.widget-view+json": {
       "model_id": "d717f46d432f47cc95c17b2c185edacc",
       "version_major": 2,
       "version_minor": 0
      },
      "text/plain": [
       "HBox(children=(FloatProgress(value=0.0, max=284.0), HTML(value='')))"
      ]
     },
     "metadata": {},
     "output_type": "display_data"
    },
    {
     "name": "stdout",
     "output_type": "stream",
     "text": [
      "\n"
     ]
    },
    {
     "data": {
      "application/vnd.jupyter.widget-view+json": {
       "model_id": "d09f1dbb6576494a914c228303561a6c",
       "version_major": 2,
       "version_minor": 0
      },
      "text/plain": [
       "HBox(children=(FloatProgress(value=0.0, max=8.0), HTML(value='')))"
      ]
     },
     "metadata": {},
     "output_type": "display_data"
    },
    {
     "name": "stdout",
     "output_type": "stream",
     "text": [
      "95 100\n"
     ]
    },
    {
     "data": {
      "application/vnd.jupyter.widget-view+json": {
       "model_id": "d9de82941426433384aae01caa46f658",
       "version_major": 2,
       "version_minor": 0
      },
      "text/plain": [
       "HBox(children=(FloatProgress(value=0.0, max=284.0), HTML(value='')))"
      ]
     },
     "metadata": {},
     "output_type": "display_data"
    },
    {
     "name": "stdout",
     "output_type": "stream",
     "text": [
      "95 200\n"
     ]
    },
    {
     "data": {
      "application/vnd.jupyter.widget-view+json": {
       "model_id": "8fd3680e3fd74d45b89e7973fdec21b3",
       "version_major": 2,
       "version_minor": 0
      },
      "text/plain": [
       "HBox(children=(FloatProgress(value=0.0, max=284.0), HTML(value='')))"
      ]
     },
     "metadata": {},
     "output_type": "display_data"
    },
    {
     "name": "stdout",
     "output_type": "stream",
     "text": [
      "95 500\n"
     ]
    },
    {
     "data": {
      "application/vnd.jupyter.widget-view+json": {
       "model_id": "8b9bdcf8706142729040a5f28019cac7",
       "version_major": 2,
       "version_minor": 0
      },
      "text/plain": [
       "HBox(children=(FloatProgress(value=0.0, max=284.0), HTML(value='')))"
      ]
     },
     "metadata": {},
     "output_type": "display_data"
    },
    {
     "name": "stdout",
     "output_type": "stream",
     "text": [
      "95 1000\n"
     ]
    },
    {
     "data": {
      "application/vnd.jupyter.widget-view+json": {
       "model_id": "e3ef1664045a49278c6b7a0c8a472a72",
       "version_major": 2,
       "version_minor": 0
      },
      "text/plain": [
       "HBox(children=(FloatProgress(value=0.0, max=284.0), HTML(value='')))"
      ]
     },
     "metadata": {},
     "output_type": "display_data"
    },
    {
     "name": "stdout",
     "output_type": "stream",
     "text": [
      "95 2000\n"
     ]
    },
    {
     "data": {
      "application/vnd.jupyter.widget-view+json": {
       "model_id": "b1b045286b8c4c4e9359187ad8c5fa57",
       "version_major": 2,
       "version_minor": 0
      },
      "text/plain": [
       "HBox(children=(FloatProgress(value=0.0, max=284.0), HTML(value='')))"
      ]
     },
     "metadata": {},
     "output_type": "display_data"
    },
    {
     "name": "stdout",
     "output_type": "stream",
     "text": [
      "95 5000\n"
     ]
    },
    {
     "data": {
      "application/vnd.jupyter.widget-view+json": {
       "model_id": "46b43900324b4a9aae9ce103afeccb33",
       "version_major": 2,
       "version_minor": 0
      },
      "text/plain": [
       "HBox(children=(FloatProgress(value=0.0, max=284.0), HTML(value='')))"
      ]
     },
     "metadata": {},
     "output_type": "display_data"
    },
    {
     "name": "stdout",
     "output_type": "stream",
     "text": [
      "95 7000\n"
     ]
    },
    {
     "data": {
      "application/vnd.jupyter.widget-view+json": {
       "model_id": "0e486c5270b740f59bd000254d353d1d",
       "version_major": 2,
       "version_minor": 0
      },
      "text/plain": [
       "HBox(children=(FloatProgress(value=0.0, max=284.0), HTML(value='')))"
      ]
     },
     "metadata": {},
     "output_type": "display_data"
    },
    {
     "name": "stdout",
     "output_type": "stream",
     "text": [
      "95 9000\n"
     ]
    },
    {
     "data": {
      "application/vnd.jupyter.widget-view+json": {
       "model_id": "9cf897c65f1242be8576cca0646d2930",
       "version_major": 2,
       "version_minor": 0
      },
      "text/plain": [
       "HBox(children=(FloatProgress(value=0.0, max=284.0), HTML(value='')))"
      ]
     },
     "metadata": {},
     "output_type": "display_data"
    },
    {
     "name": "stdout",
     "output_type": "stream",
     "text": [
      "\n"
     ]
    },
    {
     "data": {
      "application/vnd.jupyter.widget-view+json": {
       "model_id": "8bf567081cc44596950ad2a68c8442f7",
       "version_major": 2,
       "version_minor": 0
      },
      "text/plain": [
       "HBox(children=(FloatProgress(value=0.0, max=8.0), HTML(value='')))"
      ]
     },
     "metadata": {},
     "output_type": "display_data"
    },
    {
     "name": "stdout",
     "output_type": "stream",
     "text": [
      "190 100\n"
     ]
    },
    {
     "data": {
      "application/vnd.jupyter.widget-view+json": {
       "model_id": "428af7350aa74b87a3a3aedefa8e942a",
       "version_major": 2,
       "version_minor": 0
      },
      "text/plain": [
       "HBox(children=(FloatProgress(value=0.0, max=284.0), HTML(value='')))"
      ]
     },
     "metadata": {},
     "output_type": "display_data"
    },
    {
     "name": "stdout",
     "output_type": "stream",
     "text": [
      "190 200\n"
     ]
    },
    {
     "data": {
      "application/vnd.jupyter.widget-view+json": {
       "model_id": "6e77b8a29c6b425493988d17adba3174",
       "version_major": 2,
       "version_minor": 0
      },
      "text/plain": [
       "HBox(children=(FloatProgress(value=0.0, max=284.0), HTML(value='')))"
      ]
     },
     "metadata": {},
     "output_type": "display_data"
    },
    {
     "name": "stdout",
     "output_type": "stream",
     "text": [
      "190 500\n"
     ]
    },
    {
     "data": {
      "application/vnd.jupyter.widget-view+json": {
       "model_id": "cc85bcab0487498db4d65ae904ae613a",
       "version_major": 2,
       "version_minor": 0
      },
      "text/plain": [
       "HBox(children=(FloatProgress(value=0.0, max=284.0), HTML(value='')))"
      ]
     },
     "metadata": {},
     "output_type": "display_data"
    },
    {
     "name": "stdout",
     "output_type": "stream",
     "text": [
      "190 1000\n"
     ]
    },
    {
     "data": {
      "application/vnd.jupyter.widget-view+json": {
       "model_id": "55c9c73e99c24f13a7eb5ca9a62e62eb",
       "version_major": 2,
       "version_minor": 0
      },
      "text/plain": [
       "HBox(children=(FloatProgress(value=0.0, max=284.0), HTML(value='')))"
      ]
     },
     "metadata": {},
     "output_type": "display_data"
    },
    {
     "name": "stdout",
     "output_type": "stream",
     "text": [
      "190 2000\n"
     ]
    },
    {
     "data": {
      "application/vnd.jupyter.widget-view+json": {
       "model_id": "0ef01a61873348e39012e1e02595299c",
       "version_major": 2,
       "version_minor": 0
      },
      "text/plain": [
       "HBox(children=(FloatProgress(value=0.0, max=284.0), HTML(value='')))"
      ]
     },
     "metadata": {},
     "output_type": "display_data"
    },
    {
     "name": "stdout",
     "output_type": "stream",
     "text": [
      "190 5000\n"
     ]
    },
    {
     "data": {
      "application/vnd.jupyter.widget-view+json": {
       "model_id": "d1b9412a981c428ea52893e2f0c327ab",
       "version_major": 2,
       "version_minor": 0
      },
      "text/plain": [
       "HBox(children=(FloatProgress(value=0.0, max=284.0), HTML(value='')))"
      ]
     },
     "metadata": {},
     "output_type": "display_data"
    },
    {
     "name": "stdout",
     "output_type": "stream",
     "text": [
      "190 7000\n"
     ]
    },
    {
     "data": {
      "application/vnd.jupyter.widget-view+json": {
       "model_id": "aea90a571ec849749aa607f4e2ebff15",
       "version_major": 2,
       "version_minor": 0
      },
      "text/plain": [
       "HBox(children=(FloatProgress(value=0.0, max=284.0), HTML(value='')))"
      ]
     },
     "metadata": {},
     "output_type": "display_data"
    },
    {
     "name": "stdout",
     "output_type": "stream",
     "text": [
      "190 9000\n"
     ]
    },
    {
     "data": {
      "application/vnd.jupyter.widget-view+json": {
       "model_id": "38e8fba5153d4758b9ccac846180a134",
       "version_major": 2,
       "version_minor": 0
      },
      "text/plain": [
       "HBox(children=(FloatProgress(value=0.0, max=284.0), HTML(value='')))"
      ]
     },
     "metadata": {},
     "output_type": "display_data"
    },
    {
     "name": "stdout",
     "output_type": "stream",
     "text": [
      "\n"
     ]
    },
    {
     "data": {
      "application/vnd.jupyter.widget-view+json": {
       "model_id": "e6d76c76898c4aab82372628c5d579d5",
       "version_major": 2,
       "version_minor": 0
      },
      "text/plain": [
       "HBox(children=(FloatProgress(value=0.0, max=8.0), HTML(value='')))"
      ]
     },
     "metadata": {},
     "output_type": "display_data"
    },
    {
     "name": "stdout",
     "output_type": "stream",
     "text": [
      "285 100\n"
     ]
    },
    {
     "data": {
      "application/vnd.jupyter.widget-view+json": {
       "model_id": "6569743720ae46959d802020bd9e88ee",
       "version_major": 2,
       "version_minor": 0
      },
      "text/plain": [
       "HBox(children=(FloatProgress(value=0.0, max=284.0), HTML(value='')))"
      ]
     },
     "metadata": {},
     "output_type": "display_data"
    },
    {
     "name": "stdout",
     "output_type": "stream",
     "text": [
      "285 200\n"
     ]
    },
    {
     "data": {
      "application/vnd.jupyter.widget-view+json": {
       "model_id": "1987fdb072744ff1b4fd0d5c89e3ec29",
       "version_major": 2,
       "version_minor": 0
      },
      "text/plain": [
       "HBox(children=(FloatProgress(value=0.0, max=284.0), HTML(value='')))"
      ]
     },
     "metadata": {},
     "output_type": "display_data"
    },
    {
     "name": "stdout",
     "output_type": "stream",
     "text": [
      "285 500\n"
     ]
    },
    {
     "data": {
      "application/vnd.jupyter.widget-view+json": {
       "model_id": "83b11dc018824b4d9f4cf803ff0d5fef",
       "version_major": 2,
       "version_minor": 0
      },
      "text/plain": [
       "HBox(children=(FloatProgress(value=0.0, max=284.0), HTML(value='')))"
      ]
     },
     "metadata": {},
     "output_type": "display_data"
    },
    {
     "name": "stdout",
     "output_type": "stream",
     "text": [
      "285 1000\n"
     ]
    },
    {
     "data": {
      "application/vnd.jupyter.widget-view+json": {
       "model_id": "1e90c9c2ed284b559a190e9c86823630",
       "version_major": 2,
       "version_minor": 0
      },
      "text/plain": [
       "HBox(children=(FloatProgress(value=0.0, max=284.0), HTML(value='')))"
      ]
     },
     "metadata": {},
     "output_type": "display_data"
    },
    {
     "name": "stdout",
     "output_type": "stream",
     "text": [
      "285 2000\n"
     ]
    },
    {
     "data": {
      "application/vnd.jupyter.widget-view+json": {
       "model_id": "58c1abb82c2a4f35927b8ce97624ebe1",
       "version_major": 2,
       "version_minor": 0
      },
      "text/plain": [
       "HBox(children=(FloatProgress(value=0.0, max=284.0), HTML(value='')))"
      ]
     },
     "metadata": {},
     "output_type": "display_data"
    },
    {
     "name": "stdout",
     "output_type": "stream",
     "text": [
      "285 5000\n"
     ]
    },
    {
     "data": {
      "application/vnd.jupyter.widget-view+json": {
       "model_id": "cd9520c64ffc4e30bd734026d45964d8",
       "version_major": 2,
       "version_minor": 0
      },
      "text/plain": [
       "HBox(children=(FloatProgress(value=0.0, max=284.0), HTML(value='')))"
      ]
     },
     "metadata": {},
     "output_type": "display_data"
    },
    {
     "name": "stdout",
     "output_type": "stream",
     "text": [
      "285 7000\n"
     ]
    },
    {
     "data": {
      "application/vnd.jupyter.widget-view+json": {
       "model_id": "99502b31c2e241c2aaa5cf9716cb2767",
       "version_major": 2,
       "version_minor": 0
      },
      "text/plain": [
       "HBox(children=(FloatProgress(value=0.0, max=284.0), HTML(value='')))"
      ]
     },
     "metadata": {},
     "output_type": "display_data"
    },
    {
     "name": "stdout",
     "output_type": "stream",
     "text": [
      "285 9000\n"
     ]
    },
    {
     "data": {
      "application/vnd.jupyter.widget-view+json": {
       "model_id": "2a0e1bc6ce5d4835ac25c3eb9432e090",
       "version_major": 2,
       "version_minor": 0
      },
      "text/plain": [
       "HBox(children=(FloatProgress(value=0.0, max=284.0), HTML(value='')))"
      ]
     },
     "metadata": {},
     "output_type": "display_data"
    },
    {
     "name": "stdout",
     "output_type": "stream",
     "text": [
      "\n"
     ]
    },
    {
     "data": {
      "application/vnd.jupyter.widget-view+json": {
       "model_id": "0fccef0537164a6393a60dd45dccc286",
       "version_major": 2,
       "version_minor": 0
      },
      "text/plain": [
       "HBox(children=(FloatProgress(value=0.0, max=8.0), HTML(value='')))"
      ]
     },
     "metadata": {},
     "output_type": "display_data"
    },
    {
     "name": "stdout",
     "output_type": "stream",
     "text": [
      "476 100\n"
     ]
    },
    {
     "data": {
      "application/vnd.jupyter.widget-view+json": {
       "model_id": "7dca704ee1eb444980b4266eaf1a1059",
       "version_major": 2,
       "version_minor": 0
      },
      "text/plain": [
       "HBox(children=(FloatProgress(value=0.0, max=284.0), HTML(value='')))"
      ]
     },
     "metadata": {},
     "output_type": "display_data"
    },
    {
     "name": "stdout",
     "output_type": "stream",
     "text": [
      "476 200\n"
     ]
    },
    {
     "data": {
      "application/vnd.jupyter.widget-view+json": {
       "model_id": "78b7c15a569749d2b3fcbbdaeda29a3d",
       "version_major": 2,
       "version_minor": 0
      },
      "text/plain": [
       "HBox(children=(FloatProgress(value=0.0, max=284.0), HTML(value='')))"
      ]
     },
     "metadata": {},
     "output_type": "display_data"
    },
    {
     "name": "stdout",
     "output_type": "stream",
     "text": [
      "476 500\n"
     ]
    },
    {
     "data": {
      "application/vnd.jupyter.widget-view+json": {
       "model_id": "4f6500bf81c842a48e2225ad0e2cd47a",
       "version_major": 2,
       "version_minor": 0
      },
      "text/plain": [
       "HBox(children=(FloatProgress(value=0.0, max=284.0), HTML(value='')))"
      ]
     },
     "metadata": {},
     "output_type": "display_data"
    },
    {
     "name": "stdout",
     "output_type": "stream",
     "text": [
      "476 1000\n"
     ]
    },
    {
     "data": {
      "application/vnd.jupyter.widget-view+json": {
       "model_id": "246e857f14eb465b90a9bb909445e1b5",
       "version_major": 2,
       "version_minor": 0
      },
      "text/plain": [
       "HBox(children=(FloatProgress(value=0.0, max=284.0), HTML(value='')))"
      ]
     },
     "metadata": {},
     "output_type": "display_data"
    },
    {
     "name": "stdout",
     "output_type": "stream",
     "text": [
      "476 2000\n"
     ]
    },
    {
     "data": {
      "application/vnd.jupyter.widget-view+json": {
       "model_id": "26a9f166fc1542e68f35f91e5fa6d9d1",
       "version_major": 2,
       "version_minor": 0
      },
      "text/plain": [
       "HBox(children=(FloatProgress(value=0.0, max=284.0), HTML(value='')))"
      ]
     },
     "metadata": {},
     "output_type": "display_data"
    },
    {
     "name": "stdout",
     "output_type": "stream",
     "text": [
      "476 5000\n"
     ]
    },
    {
     "data": {
      "application/vnd.jupyter.widget-view+json": {
       "model_id": "aafbe683f0b94254bb63be3100e48ae5",
       "version_major": 2,
       "version_minor": 0
      },
      "text/plain": [
       "HBox(children=(FloatProgress(value=0.0, max=284.0), HTML(value='')))"
      ]
     },
     "metadata": {},
     "output_type": "display_data"
    },
    {
     "name": "stdout",
     "output_type": "stream",
     "text": [
      "476 7000\n"
     ]
    },
    {
     "data": {
      "application/vnd.jupyter.widget-view+json": {
       "model_id": "9eb0c43d04674bef87d3d19eca7266d1",
       "version_major": 2,
       "version_minor": 0
      },
      "text/plain": [
       "HBox(children=(FloatProgress(value=0.0, max=284.0), HTML(value='')))"
      ]
     },
     "metadata": {},
     "output_type": "display_data"
    },
    {
     "name": "stdout",
     "output_type": "stream",
     "text": [
      "476 9000\n"
     ]
    },
    {
     "data": {
      "application/vnd.jupyter.widget-view+json": {
       "model_id": "000b9eda9ee94d7cbb9141cc9bb699e4",
       "version_major": 2,
       "version_minor": 0
      },
      "text/plain": [
       "HBox(children=(FloatProgress(value=0.0, max=284.0), HTML(value='')))"
      ]
     },
     "metadata": {},
     "output_type": "display_data"
    },
    {
     "name": "stdout",
     "output_type": "stream",
     "text": [
      "\n"
     ]
    },
    {
     "data": {
      "application/vnd.jupyter.widget-view+json": {
       "model_id": "19d0e346c1f9441f9f17fb11f9f43a69",
       "version_major": 2,
       "version_minor": 0
      },
      "text/plain": [
       "HBox(children=(FloatProgress(value=0.0, max=8.0), HTML(value='')))"
      ]
     },
     "metadata": {},
     "output_type": "display_data"
    },
    {
     "name": "stdout",
     "output_type": "stream",
     "text": [
      "666 100\n"
     ]
    },
    {
     "data": {
      "application/vnd.jupyter.widget-view+json": {
       "model_id": "7544a2b734b540dab1ad44f556c9f2c5",
       "version_major": 2,
       "version_minor": 0
      },
      "text/plain": [
       "HBox(children=(FloatProgress(value=0.0, max=284.0), HTML(value='')))"
      ]
     },
     "metadata": {},
     "output_type": "display_data"
    },
    {
     "name": "stdout",
     "output_type": "stream",
     "text": [
      "666 200\n"
     ]
    },
    {
     "data": {
      "application/vnd.jupyter.widget-view+json": {
       "model_id": "fe509b5ca0684cf18afb3ed7738e627d",
       "version_major": 2,
       "version_minor": 0
      },
      "text/plain": [
       "HBox(children=(FloatProgress(value=0.0, max=284.0), HTML(value='')))"
      ]
     },
     "metadata": {},
     "output_type": "display_data"
    },
    {
     "name": "stdout",
     "output_type": "stream",
     "text": [
      "666 500\n"
     ]
    },
    {
     "data": {
      "application/vnd.jupyter.widget-view+json": {
       "model_id": "40bcea605e154c07a95eef78ca2ba519",
       "version_major": 2,
       "version_minor": 0
      },
      "text/plain": [
       "HBox(children=(FloatProgress(value=0.0, max=284.0), HTML(value='')))"
      ]
     },
     "metadata": {},
     "output_type": "display_data"
    },
    {
     "name": "stdout",
     "output_type": "stream",
     "text": [
      "666 1000\n"
     ]
    },
    {
     "data": {
      "application/vnd.jupyter.widget-view+json": {
       "model_id": "c41ca5c9ef8240d2a70a92a44cc4916a",
       "version_major": 2,
       "version_minor": 0
      },
      "text/plain": [
       "HBox(children=(FloatProgress(value=0.0, max=284.0), HTML(value='')))"
      ]
     },
     "metadata": {},
     "output_type": "display_data"
    },
    {
     "name": "stdout",
     "output_type": "stream",
     "text": [
      "666 2000\n"
     ]
    },
    {
     "data": {
      "application/vnd.jupyter.widget-view+json": {
       "model_id": "f5d964ccbe99464795a3786cea12f41f",
       "version_major": 2,
       "version_minor": 0
      },
      "text/plain": [
       "HBox(children=(FloatProgress(value=0.0, max=284.0), HTML(value='')))"
      ]
     },
     "metadata": {},
     "output_type": "display_data"
    },
    {
     "name": "stdout",
     "output_type": "stream",
     "text": [
      "666 5000\n"
     ]
    },
    {
     "data": {
      "application/vnd.jupyter.widget-view+json": {
       "model_id": "f60fa3fffef043b88f83e70f9292c174",
       "version_major": 2,
       "version_minor": 0
      },
      "text/plain": [
       "HBox(children=(FloatProgress(value=0.0, max=284.0), HTML(value='')))"
      ]
     },
     "metadata": {},
     "output_type": "display_data"
    },
    {
     "name": "stdout",
     "output_type": "stream",
     "text": [
      "666 7000\n"
     ]
    },
    {
     "data": {
      "application/vnd.jupyter.widget-view+json": {
       "model_id": "03f6a0fc1b0a4e59af04b761dacb8bc0",
       "version_major": 2,
       "version_minor": 0
      },
      "text/plain": [
       "HBox(children=(FloatProgress(value=0.0, max=284.0), HTML(value='')))"
      ]
     },
     "metadata": {},
     "output_type": "display_data"
    },
    {
     "name": "stdout",
     "output_type": "stream",
     "text": [
      "666 9000\n"
     ]
    },
    {
     "data": {
      "application/vnd.jupyter.widget-view+json": {
       "model_id": "a7239d8a37f44763982f9f9214dd1266",
       "version_major": 2,
       "version_minor": 0
      },
      "text/plain": [
       "HBox(children=(FloatProgress(value=0.0, max=284.0), HTML(value='')))"
      ]
     },
     "metadata": {},
     "output_type": "display_data"
    },
    {
     "name": "stdout",
     "output_type": "stream",
     "text": [
      "\n"
     ]
    },
    {
     "data": {
      "application/vnd.jupyter.widget-view+json": {
       "model_id": "d4fef4f98cc6464d955f2469ba6c2eb0",
       "version_major": 2,
       "version_minor": 0
      },
      "text/plain": [
       "HBox(children=(FloatProgress(value=0.0, max=8.0), HTML(value='')))"
      ]
     },
     "metadata": {},
     "output_type": "display_data"
    },
    {
     "name": "stdout",
     "output_type": "stream",
     "text": [
      "761 100\n"
     ]
    },
    {
     "data": {
      "application/vnd.jupyter.widget-view+json": {
       "model_id": "1e21f029ea974d2394309ca58cb4fd08",
       "version_major": 2,
       "version_minor": 0
      },
      "text/plain": [
       "HBox(children=(FloatProgress(value=0.0, max=284.0), HTML(value='')))"
      ]
     },
     "metadata": {},
     "output_type": "display_data"
    },
    {
     "name": "stdout",
     "output_type": "stream",
     "text": [
      "761 200\n"
     ]
    },
    {
     "data": {
      "application/vnd.jupyter.widget-view+json": {
       "model_id": "e5c4e2c072f641198d1ff71e0dabb52d",
       "version_major": 2,
       "version_minor": 0
      },
      "text/plain": [
       "HBox(children=(FloatProgress(value=0.0, max=284.0), HTML(value='')))"
      ]
     },
     "metadata": {},
     "output_type": "display_data"
    },
    {
     "name": "stdout",
     "output_type": "stream",
     "text": [
      "761 500\n"
     ]
    },
    {
     "data": {
      "application/vnd.jupyter.widget-view+json": {
       "model_id": "1be0dbd9c46e499a8c4868df53ef088d",
       "version_major": 2,
       "version_minor": 0
      },
      "text/plain": [
       "HBox(children=(FloatProgress(value=0.0, max=284.0), HTML(value='')))"
      ]
     },
     "metadata": {},
     "output_type": "display_data"
    },
    {
     "name": "stdout",
     "output_type": "stream",
     "text": [
      "761 1000\n"
     ]
    },
    {
     "data": {
      "application/vnd.jupyter.widget-view+json": {
       "model_id": "9506ec6e67424e1cb332c745c531bfbd",
       "version_major": 2,
       "version_minor": 0
      },
      "text/plain": [
       "HBox(children=(FloatProgress(value=0.0, max=284.0), HTML(value='')))"
      ]
     },
     "metadata": {},
     "output_type": "display_data"
    },
    {
     "name": "stdout",
     "output_type": "stream",
     "text": [
      "761 2000\n"
     ]
    },
    {
     "data": {
      "application/vnd.jupyter.widget-view+json": {
       "model_id": "8833cbefc259448d846ee59349ae298b",
       "version_major": 2,
       "version_minor": 0
      },
      "text/plain": [
       "HBox(children=(FloatProgress(value=0.0, max=284.0), HTML(value='')))"
      ]
     },
     "metadata": {},
     "output_type": "display_data"
    },
    {
     "name": "stdout",
     "output_type": "stream",
     "text": [
      "761 5000\n"
     ]
    },
    {
     "data": {
      "application/vnd.jupyter.widget-view+json": {
       "model_id": "215456f58d6545fbb8ea1ecd7e8e7b50",
       "version_major": 2,
       "version_minor": 0
      },
      "text/plain": [
       "HBox(children=(FloatProgress(value=0.0, max=284.0), HTML(value='')))"
      ]
     },
     "metadata": {},
     "output_type": "display_data"
    },
    {
     "name": "stdout",
     "output_type": "stream",
     "text": [
      "761 7000\n"
     ]
    },
    {
     "data": {
      "application/vnd.jupyter.widget-view+json": {
       "model_id": "98ac1fb7a63b4453bd35fe68e312f1c0",
       "version_major": 2,
       "version_minor": 0
      },
      "text/plain": [
       "HBox(children=(FloatProgress(value=0.0, max=284.0), HTML(value='')))"
      ]
     },
     "metadata": {},
     "output_type": "display_data"
    },
    {
     "name": "stdout",
     "output_type": "stream",
     "text": [
      "761 9000\n"
     ]
    },
    {
     "data": {
      "application/vnd.jupyter.widget-view+json": {
       "model_id": "6d9578c463d54451ae6a65bc967d8ef1",
       "version_major": 2,
       "version_minor": 0
      },
      "text/plain": [
       "HBox(children=(FloatProgress(value=0.0, max=284.0), HTML(value='')))"
      ]
     },
     "metadata": {},
     "output_type": "display_data"
    },
    {
     "name": "stdout",
     "output_type": "stream",
     "text": [
      "\n"
     ]
    },
    {
     "data": {
      "application/vnd.jupyter.widget-view+json": {
       "model_id": "9271ffa2a7a5482f9e43986e5bbe8fb8",
       "version_major": 2,
       "version_minor": 0
      },
      "text/plain": [
       "HBox(children=(FloatProgress(value=0.0, max=8.0), HTML(value='')))"
      ]
     },
     "metadata": {},
     "output_type": "display_data"
    },
    {
     "name": "stdout",
     "output_type": "stream",
     "text": [
      "856 100\n"
     ]
    },
    {
     "data": {
      "application/vnd.jupyter.widget-view+json": {
       "model_id": "3d1a310080554600b6929f6af93e1061",
       "version_major": 2,
       "version_minor": 0
      },
      "text/plain": [
       "HBox(children=(FloatProgress(value=0.0, max=284.0), HTML(value='')))"
      ]
     },
     "metadata": {},
     "output_type": "display_data"
    },
    {
     "name": "stdout",
     "output_type": "stream",
     "text": [
      "856 200\n"
     ]
    },
    {
     "data": {
      "application/vnd.jupyter.widget-view+json": {
       "model_id": "348792d769af405a8ea8d6293c6040a9",
       "version_major": 2,
       "version_minor": 0
      },
      "text/plain": [
       "HBox(children=(FloatProgress(value=0.0, max=284.0), HTML(value='')))"
      ]
     },
     "metadata": {},
     "output_type": "display_data"
    },
    {
     "name": "stdout",
     "output_type": "stream",
     "text": [
      "856 500\n"
     ]
    },
    {
     "data": {
      "application/vnd.jupyter.widget-view+json": {
       "model_id": "87b63872f3254583956f4bfd864031cd",
       "version_major": 2,
       "version_minor": 0
      },
      "text/plain": [
       "HBox(children=(FloatProgress(value=0.0, max=284.0), HTML(value='')))"
      ]
     },
     "metadata": {},
     "output_type": "display_data"
    },
    {
     "name": "stdout",
     "output_type": "stream",
     "text": [
      "856 1000\n"
     ]
    },
    {
     "data": {
      "application/vnd.jupyter.widget-view+json": {
       "model_id": "143770aa91764a41b08d941d371d8d70",
       "version_major": 2,
       "version_minor": 0
      },
      "text/plain": [
       "HBox(children=(FloatProgress(value=0.0, max=284.0), HTML(value='')))"
      ]
     },
     "metadata": {},
     "output_type": "display_data"
    },
    {
     "name": "stdout",
     "output_type": "stream",
     "text": [
      "856 2000\n"
     ]
    },
    {
     "data": {
      "application/vnd.jupyter.widget-view+json": {
       "model_id": "b281cbdb4ef146b3a16119741ad81282",
       "version_major": 2,
       "version_minor": 0
      },
      "text/plain": [
       "HBox(children=(FloatProgress(value=0.0, max=284.0), HTML(value='')))"
      ]
     },
     "metadata": {},
     "output_type": "display_data"
    },
    {
     "name": "stdout",
     "output_type": "stream",
     "text": [
      "856 5000\n"
     ]
    },
    {
     "data": {
      "application/vnd.jupyter.widget-view+json": {
       "model_id": "90c6160641c5485b803a298db6234982",
       "version_major": 2,
       "version_minor": 0
      },
      "text/plain": [
       "HBox(children=(FloatProgress(value=0.0, max=284.0), HTML(value='')))"
      ]
     },
     "metadata": {},
     "output_type": "display_data"
    },
    {
     "name": "stdout",
     "output_type": "stream",
     "text": [
      "856 7000\n"
     ]
    },
    {
     "data": {
      "application/vnd.jupyter.widget-view+json": {
       "model_id": "694af3f611b7489c874940c67d714edc",
       "version_major": 2,
       "version_minor": 0
      },
      "text/plain": [
       "HBox(children=(FloatProgress(value=0.0, max=284.0), HTML(value='')))"
      ]
     },
     "metadata": {},
     "output_type": "display_data"
    },
    {
     "name": "stdout",
     "output_type": "stream",
     "text": [
      "856 9000\n"
     ]
    },
    {
     "data": {
      "application/vnd.jupyter.widget-view+json": {
       "model_id": "0dbbafd593c64ef98fd04e2993a4ef13",
       "version_major": 2,
       "version_minor": 0
      },
      "text/plain": [
       "HBox(children=(FloatProgress(value=0.0, max=284.0), HTML(value='')))"
      ]
     },
     "metadata": {},
     "output_type": "display_data"
    },
    {
     "name": "stdout",
     "output_type": "stream",
     "text": [
      "\n"
     ]
    },
    {
     "data": {
      "application/vnd.jupyter.widget-view+json": {
       "model_id": "731720f16e3542e2bca97a1aa8ec8073",
       "version_major": 2,
       "version_minor": 0
      },
      "text/plain": [
       "HBox(children=(FloatProgress(value=0.0, max=8.0), HTML(value='')))"
      ]
     },
     "metadata": {},
     "output_type": "display_data"
    },
    {
     "name": "stdout",
     "output_type": "stream",
     "text": [
      "952 100\n"
     ]
    },
    {
     "data": {
      "application/vnd.jupyter.widget-view+json": {
       "model_id": "c5371bf07d0147a9b02cd50c0b42eb2d",
       "version_major": 2,
       "version_minor": 0
      },
      "text/plain": [
       "HBox(children=(FloatProgress(value=0.0, max=284.0), HTML(value='')))"
      ]
     },
     "metadata": {},
     "output_type": "display_data"
    },
    {
     "name": "stdout",
     "output_type": "stream",
     "text": [
      "952 200\n"
     ]
    },
    {
     "data": {
      "application/vnd.jupyter.widget-view+json": {
       "model_id": "7779497924314ab5b6df81d972886a06",
       "version_major": 2,
       "version_minor": 0
      },
      "text/plain": [
       "HBox(children=(FloatProgress(value=0.0, max=284.0), HTML(value='')))"
      ]
     },
     "metadata": {},
     "output_type": "display_data"
    },
    {
     "name": "stdout",
     "output_type": "stream",
     "text": [
      "952 500\n"
     ]
    },
    {
     "data": {
      "application/vnd.jupyter.widget-view+json": {
       "model_id": "3a2ff50c02424b3d85b883e43f17917e",
       "version_major": 2,
       "version_minor": 0
      },
      "text/plain": [
       "HBox(children=(FloatProgress(value=0.0, max=284.0), HTML(value='')))"
      ]
     },
     "metadata": {},
     "output_type": "display_data"
    },
    {
     "name": "stdout",
     "output_type": "stream",
     "text": [
      "952 1000\n"
     ]
    },
    {
     "data": {
      "application/vnd.jupyter.widget-view+json": {
       "model_id": "42dace95f8ac479d967484fecb1007a9",
       "version_major": 2,
       "version_minor": 0
      },
      "text/plain": [
       "HBox(children=(FloatProgress(value=0.0, max=284.0), HTML(value='')))"
      ]
     },
     "metadata": {},
     "output_type": "display_data"
    },
    {
     "name": "stdout",
     "output_type": "stream",
     "text": [
      "952 2000\n"
     ]
    },
    {
     "data": {
      "application/vnd.jupyter.widget-view+json": {
       "model_id": "572fe0f13bc44bdab553220424063628",
       "version_major": 2,
       "version_minor": 0
      },
      "text/plain": [
       "HBox(children=(FloatProgress(value=0.0, max=284.0), HTML(value='')))"
      ]
     },
     "metadata": {},
     "output_type": "display_data"
    },
    {
     "name": "stdout",
     "output_type": "stream",
     "text": [
      "952 5000\n"
     ]
    },
    {
     "data": {
      "application/vnd.jupyter.widget-view+json": {
       "model_id": "6c80aa2a5b71471fadad5d8d0ccd4536",
       "version_major": 2,
       "version_minor": 0
      },
      "text/plain": [
       "HBox(children=(FloatProgress(value=0.0, max=284.0), HTML(value='')))"
      ]
     },
     "metadata": {},
     "output_type": "display_data"
    },
    {
     "name": "stdout",
     "output_type": "stream",
     "text": [
      "952 7000\n"
     ]
    },
    {
     "data": {
      "application/vnd.jupyter.widget-view+json": {
       "model_id": "0fa3e620f65f4d2b8bb9609c89aecdb3",
       "version_major": 2,
       "version_minor": 0
      },
      "text/plain": [
       "HBox(children=(FloatProgress(value=0.0, max=284.0), HTML(value='')))"
      ]
     },
     "metadata": {},
     "output_type": "display_data"
    },
    {
     "name": "stdout",
     "output_type": "stream",
     "text": [
      "952 9000\n"
     ]
    },
    {
     "data": {
      "application/vnd.jupyter.widget-view+json": {
       "model_id": "569597eac77642fa81e65cceac46ba13",
       "version_major": 2,
       "version_minor": 0
      },
      "text/plain": [
       "HBox(children=(FloatProgress(value=0.0, max=284.0), HTML(value='')))"
      ]
     },
     "metadata": {},
     "output_type": "display_data"
    },
    {
     "name": "stdout",
     "output_type": "stream",
     "text": [
      "\n",
      "\n"
     ]
    }
   ],
   "source": [
    "from concurrent.futures import as_completed, ProcessPoolExecutor\n",
    "def init_proc(n_feature, n_sparse, zeta):\n",
    "    global X_pseudo\n",
    "    global soap\n",
    "    global kernel\n",
    "    X_pseudo = load_obj('sparse_points_np{}_nf{}.json'.format(n_sparse, n_feature))\n",
    "    hypers = X_pseudo.representation._get_init_params()\n",
    "    hypers['compute_gradients'] = True\n",
    "    soap = SphericalInvariants(**hypers)\n",
    "    kernel = Kernel(soap, name='GAP', zeta=zeta, target_type='Structure', kernel_type='Sparse')\n",
    "    \n",
    "def compute(i_frame,frame):   \n",
    "    feat = soap.transform([frame])\n",
    "    en_row = kernel(feat, X_pseudo)\n",
    "    grad_rows = kernel(feat, X_pseudo, grad=(True, False))\n",
    "    grad_rows = None\n",
    "    return en_row, grad_rows\n",
    "\n",
    "\n",
    "Nstructures  = len(frames)\n",
    "ii = 0\n",
    "for n_feature in tqdm(n_features):\n",
    "    for n_sparse in tqdm(n_sparses):\n",
    "        with ProcessPoolExecutor(max_workers=10, initializer=init_proc, \n",
    "                                 initargs=(n_feature, n_sparse, zeta)) as executor:\n",
    "            print(n_feature, n_sparse)\n",
    "            KNM = np.zeros((Nstructures+Ngrads, n_sparse))\n",
    "            KNM = np.zeros((Nstructures, n_sparse))\n",
    "\n",
    "            future_to_compute = {executor.submit(compute, i_frame, frame):i_frame\n",
    "                                                         for i_frame,frame in enumerate(frames)}\n",
    "            pbar = tqdm(total=len(future_to_compute))\n",
    "            for future in as_completed(future_to_compute):\n",
    "                i_frame = future_to_compute[future]\n",
    "                en_row, grad_rows = future.result()\n",
    "                KNM[i_frame] = en_row\n",
    "                KNM[Ngrad_stride[i_frame]:Ngrad_stride[i_frame+1]] = grad_rows\n",
    "                pbar.update()\n",
    "            np.save('KNM_z{}_np{}_nf{}.npy'.format(zeta, n_sparse, n_feature), KNM)"
   ]
  },
  {
   "cell_type": "code",
   "execution_count": 32,
   "metadata": {
    "hidden": true
   },
   "outputs": [
    {
     "data": {
      "text/plain": [
       "98"
      ]
     },
     "execution_count": 32,
     "metadata": {},
     "output_type": "execute_result"
    }
   ],
   "source": [
    "X_pseudo = load_obj('sparse_points_np{}_nf{}.json'.format(n_sparse, n_feature))\n",
    "X_pseudo.size()"
   ]
  },
  {
   "cell_type": "markdown",
   "metadata": {},
   "source": [
    "# get optimal hyper and LC"
   ]
  },
  {
   "cell_type": "code",
   "execution_count": 12,
   "metadata": {
    "code_folding": [
     3,
     106,
     154,
     171,
     182
    ]
   },
   "outputs": [],
   "source": [
    "from rascal.utils import BaseIO\n",
    "from concurrent.futures import as_completed, ProcessPoolExecutor\n",
    "\n",
    "class KRR(BaseIO):\n",
    "    \"\"\"Kernel Ridge Regression model. Only compatible fully with sparse GPR\n",
    "    training for the moment.\n",
    "\n",
    "    Parameters\n",
    "    ----------\n",
    "    weights : np.array\n",
    "        weights of the model\n",
    "\n",
    "    kernel : Kernel\n",
    "        kernel class used to train the model\n",
    "\n",
    "    X_train : PseudoPoints\n",
    "        reference samples used for the training\n",
    "\n",
    "    self_contributions : dictionary\n",
    "        map atomic number to the property baseline, e.g. isolated atoms\n",
    "        energies when the model has been trained on total energies.\n",
    "    \"\"\"\n",
    "\n",
    "    def __init__(self, weights, kernel, X_train, self_contributions):\n",
    "        super(KRR, self).__init__()\n",
    "        # Weights of the krr model\n",
    "        self.weights = weights\n",
    "        self.kernel = kernel\n",
    "        self.X_train = X_train\n",
    "        self.self_contributions = self_contributions\n",
    "        self.target_type = kernel.target_type\n",
    "\n",
    "    def _get_property_baseline(self, managers):\n",
    "        \"\"\"build total baseline contribution for each prediction\"\"\"\n",
    "        if self.target_type == 'Structure':\n",
    "            Y0 = np.zeros(len(managers))\n",
    "            for i_manager, manager in enumerate(managers):\n",
    "                if isinstance(manager, ase.Atoms):\n",
    "                    numbers = manager.get_atomic_numbers()\n",
    "                    for sp in numbers:\n",
    "                        Y0[i_manager] += self.self_contributions[sp]\n",
    "                else:\n",
    "                    for at in manager:\n",
    "                        Y0[i_manager] += self.self_contributions[at.atom_type]\n",
    "        elif self.target_type == 'Atom':\n",
    "            n_centers = 0\n",
    "            for manager in managers:\n",
    "                n_centers += len(manager)\n",
    "            Y0 = np.zeros(n_centers)\n",
    "            i_center = 0\n",
    "            for manager in managers:\n",
    "                for sp in manager.get_atomic_numbers():\n",
    "                    Y0[i_center] = self.self_contributions[sp]\n",
    "                    i_center += 1\n",
    "        return Y0\n",
    "\n",
    "    def _preprocess_input(self, managers, KNM, compute_gradients=False, compute_stress=False):\n",
    "        \"\"\"compute prediction kernel and total baseline contributions\"\"\"\n",
    "        from rascal.utils.io import is_npy\n",
    "\n",
    "        if KNM is not None: # if the KNM matrix is provided\n",
    "            kernel = KNM\n",
    "        else: # if the representation is provided\n",
    "            kernel = self.kernel(managers, self.X_train, (compute_gradients, False),)\n",
    "        Y0 = self._get_property_baseline(managers)\n",
    "        return kernel, Y0\n",
    "\n",
    "    def predict(self, managers, KNM=None, compute_gradients=False, compute_stress=False):\n",
    "        \"\"\"Predict properties associated with the atomic structures in managers\n",
    "        or their derivative w.r.t. atomic positions (if compute_gradients==True).\n",
    "\n",
    "        Parameters\n",
    "        ----------\n",
    "        managers : AtomsList\n",
    "            list of atomic structures with already computed features compatible\n",
    "            with representation in kernel\n",
    "        compute_gradients : bool, optional\n",
    "            predict the gradients of the property w.r.t atomic positions,\n",
    "            by default False\n",
    "\n",
    "        Returns\n",
    "        -------\n",
    "        np.array\n",
    "            predictions\n",
    "        \"\"\"\n",
    "        KNM, Y0 = self._preprocess_input(managers, KNM, compute_gradients, compute_stress)\n",
    "        if compute_gradients is False:\n",
    "            return Y0 + np.dot(KNM, self.weights).reshape(-1)\n",
    "        else:\n",
    "            aa = np.dot(KNM, self.weights)\n",
    "            return np.dot(KNM, self.weights)\n",
    "\n",
    "    def get_weigths(self):\n",
    "        return self.weights\n",
    "\n",
    "    def _get_init_params(self):\n",
    "        init_params = dict(weights=self.weights, kernel=self.kernel,\n",
    "                           X_train=self.X_train, self_contributions=self.self_contributions)\n",
    "        return init_params\n",
    "\n",
    "    def _set_data(self, data):\n",
    "        pass\n",
    "\n",
    "    def _get_data(self):\n",
    "        return dict()\n",
    "\n",
    "def train_gap_model_0(kernel, frames, KNM_, X_pseudo, y_train, self_contributions, grad_train=None, \n",
    "                    lambdas=None, jitter=1e-8):\n",
    "    KMM = kernel(X_pseudo)\n",
    "    Y = y_train.reshape((-1, 1)).copy()\n",
    "    KNM = KNM_.copy()\n",
    "    n_centers = Y.shape[0]\n",
    "    Natoms = np.zeros(n_centers)\n",
    "    Y0 = np.zeros((n_centers, 1))\n",
    "    for iframe, frame in enumerate(frames):\n",
    "        Natoms[iframe] = len(frame)\n",
    "        numbers = frame.get_atomic_numbers()\n",
    "        for sp in numbers:\n",
    "            Y0[iframe] += self_contributions[sp]\n",
    "    Y = Y - Y0\n",
    "    delta = np.std(Y)\n",
    "    # print(delta)\n",
    "    # lambdas[0] is provided per atom hence the '* np.sqrt(Natoms)'\n",
    "    # the first n_centers rows of KNM are expected to refer to the\n",
    "    # property\n",
    "#     print(Natoms)\n",
    "    KNM[:n_centers] /= lambdas[0] / delta * np.sqrt(Natoms)[:, None]\n",
    "    Y /= lambdas[0] / delta * np.sqrt(Natoms)[:, None]\n",
    "\n",
    "    if grad_train is not None:\n",
    "        KNM[n_centers:] /= lambdas[1] / delta\n",
    "        F = grad_train.reshape((-1, 1)).copy()\n",
    "        F /= lambdas[1] / delta\n",
    "        Y = np.vstack([Y, F])\n",
    "    \n",
    "    K = KMM + np.dot(KNM.T, KNM)\n",
    "    eig,_ = np.linalg.eig(K)\n",
    "    if eig.min() < 0:\n",
    "        jitter = 1.05*abs(eig.min())\n",
    "    \n",
    "    # print('jitter ',jitter, eig.min())\n",
    "    K[np.diag_indices_from(K)] += jitter\n",
    "    \n",
    "    Y = np.dot(KNM.T, Y)\n",
    "    weights = np.linalg.solve(K, Y)\n",
    "#     weights,_,_,_ = np.linalg.lstsq(K, Y, rcond=None)\n",
    "    model = KRR(weights, kernel, X_pseudo, self_contributions)\n",
    "    \n",
    "    # avoid memory clogging\n",
    "    del K, KMM\n",
    "    K, KMM = [], []\n",
    "\n",
    "    return model\n",
    "\n",
    "def extract_ref(frames,info_key='energy',array_key='force'):\n",
    "    y,f = [], []\n",
    "    for frame in frames:\n",
    "        y.append(frame.info[info_key])\n",
    "        if array_key is None:\n",
    "            pass\n",
    "        elif array_key == 'zeros':\n",
    "            f.append(np.zeros(frame.get_positions().shape))\n",
    "        else:\n",
    "            f.append(frame.get_array(array_key))\n",
    "    y= np.array(y)\n",
    "    try:\n",
    "        f = np.concatenate(f)\n",
    "    except:\n",
    "        pass\n",
    "    return y,f\n",
    "\n",
    "def get_strides(frames):\n",
    "    Nstructures = len(frames)\n",
    "    Ngrad_stride = [0]\n",
    "    Ngrads = 0\n",
    "    for frame in frames:\n",
    "        n_at = len(frame)\n",
    "        Ngrad_stride.append(n_at*3)\n",
    "        Ngrads += n_at*3\n",
    "    Ngrad_stride = np.cumsum(Ngrad_stride) + Nstructures\n",
    "    return Nstructures,Ngrads,Ngrad_stride\n",
    "\n",
    "def get_grad_strides(frames):\n",
    "    Nstructures = len(frames)\n",
    "    Ngrad_stride = [0]\n",
    "    Ngrads = 0\n",
    "    n_atoms = []\n",
    "    for frame in frames:\n",
    "        n_at = len(frame)\n",
    "        n_atoms.append(n_at)\n",
    "        Ngrad_stride.append(n_at*3)\n",
    "        Ngrads += n_at*3\n",
    "    Ngrad_stride = np.cumsum(Ngrad_stride)\n",
    "    return np.array(n_atoms).reshape((-1,1)),Ngrad_stride\n",
    "\n",
    "\n",
    "def _split_KNM(ids, frames, KNM, grad_strides):\n",
    "    Nstruct, Ngrad, _ = get_strides(frames)\n",
    "    KNM_ = np.zeros((Nstruct+Ngrad, KNM.shape[1]))\n",
    "    i_struct,i_grad = 0, Nstruct\n",
    "    for idx in ids:\n",
    "        KNM_[i_struct] = KNM[idx]\n",
    "        kk = KNM[grad_strides[idx]:grad_strides[idx+1]]\n",
    "        KNM_[i_grad:i_grad+kk.shape[0]] = kk\n",
    "        i_struct += 1\n",
    "        i_grad += kk.shape[0]\n",
    "    return KNM_\n",
    "\n",
    "# def split_data(frames,KNM,f,seed=10):\n",
    "#     Nstruct, Ngrad, grad_strides = get_strides(frames)\n",
    "#     ids = list(range(Nstruct))\n",
    "#     np.random.seed(seed)\n",
    "#     np.random.shuffle(ids)\n",
    "    \n",
    "#     frames_train = [frames[ii] for ii in ids[:int(f*Nstruct)]]\n",
    "#     frames_test = [frames[ii] for ii in ids[int(f*Nstruct):]]\n",
    "#     y_train, f_train = extract_ref(frames_train,'energy','force')\n",
    "#     y_test, f_test = extract_ref(frames_test,'energy','force')\n",
    "    \n",
    "#     KNM_train = _split_KNM(ids[:int(f*Nstruct)], frames_train, KNM, grad_strides)\n",
    "#     KNM_test = _split_KNM(ids[int(f*Nstruct)::], frames_test, KNM, grad_strides)\n",
    "#     return (frames_train, y_train, f_train, KNM_train), (frames_test, y_test, f_test, KNM_test)\n",
    "\n",
    "def split_KNM(frames,KNM,train_ids, test_ids):\n",
    "    Nstruct, Ngrad, grad_strides = get_strides(frames)\n",
    "    \n",
    "    frames_train = [frames[ii] for ii in train_ids]\n",
    "    frames_test = [frames[ii] for ii in test_ids]\n",
    "    y_train, f_train = extract_ref(frames_train,'energy','force')\n",
    "    y_test, f_test = extract_ref(frames_test,'energy','force')\n",
    "    \n",
    "    KNM_train = _split_KNM(train_ids, frames_train, KNM, grad_strides)\n",
    "    KNM_test = _split_KNM(test_ids, frames_test, KNM, grad_strides)\n",
    "    return (frames_train, y_train, f_train, KNM_train), (frames_test, y_test, f_test, KNM_test)\n",
    "\n",
    "\n",
    "\n",
    "def get_cv_scores(cv,KNM, frames, kernel, X_pseudo,self_contributions,lamda_es,lamda_fs,jitter=1e-7, **kwargs):\n",
    "    Natoms = []\n",
    "    y_baseline = []\n",
    "    for frame in frames:\n",
    "        Natoms.append(len(frame))\n",
    "        yyy = 0\n",
    "        for sp in frame.get_atomic_numbers():\n",
    "            yyy += self_contributions[sp]\n",
    "        y_baseline.append(yyy) \n",
    "    Natoms = np.array(Natoms).reshape(-1)  / 5 # the reference is per molecule of CH4 \n",
    "    y_baseline = np.array(y_baseline).reshape(-1)  \n",
    "    n_atoms, grad_strides = get_grad_strides(frames)\n",
    "#     data = {}\n",
    "#     for lamda_e in lamda_es:\n",
    "#         data[lamda_e] = {}\n",
    "#         for lamda_f in lamda_fs:\n",
    "#             data[lamda_e][lamda_f] = {'yp':np.zeros((len(frames))),'yt':np.zeros((len(frames))),\n",
    "#                                       'fp':[],'ft':[]}\n",
    "    scores = []\n",
    "    for train, val in tqdm(cv.split(np.ones((len(frames),1))), leave=False, total=cv.n_splits):\n",
    "        (frames_train, y_train, f_train, KNM_train), (frames_test, \n",
    "                                    y_test, f_test, KNM_test) = split_KNM(frames,KNM, train, val)\n",
    "        for lamda_e in tqdm(lamda_es,leave=False):\n",
    "            for lamda_f in tqdm(lamda_fs,leave=False):\n",
    "                if lamda_e>lamda_f: continue        \n",
    "                model = train_gap_model_0(kernel, frames_train, KNM_train, X_pseudo, y_train, self_contributions, \n",
    "                        grad_train=-f_train, lambdas=[lamda_e,lamda_f], jitter=jitter)\n",
    "                frames_v = [frames[ids] for ids in val]\n",
    "                yp = model.predict(frames_v, KNM=KNM_test[:len(frames_test)])\n",
    "                fp = -model.predict(frames_v, KNM=KNM_test[len(frames_test):], compute_gradients=True)\n",
    "#                 data[lamda_e][lamda_f]['yp'][val] = (yp.flatten()-y_baseline[val])/Natoms[val]\n",
    "#                 data[lamda_e][lamda_f]['yt'][val] = (y_test.flatten()-y_baseline[val])/Natoms[val]\n",
    "                en_score = get_score((yp.flatten()-y_baseline[val])/Natoms[val], \n",
    "                                     (y_test.flatten()-y_baseline[val])/Natoms[val])\n",
    "                score = {k+'_e':v for k,v in en_score.items()}\n",
    "                f_score = get_score(fp.flatten(), f_test.flatten())\n",
    "#                 data[lamda_e][lamda_f]['fp'].extend(fp.flatten())\n",
    "#                 data[lamda_e][lamda_f]['ft'].extend(f_test.flatten())\n",
    "                score.update({k+'_f':v for k,v in f_score.items()})\n",
    "                score.update(lambda_e=lamda_e,lambda_f=lamda_f, **kwargs)\n",
    "                scores.append(score)\n",
    "    return scores"
   ]
  },
  {
   "cell_type": "code",
   "execution_count": 13,
   "metadata": {},
   "outputs": [],
   "source": [
    "n_features = [int(952*f) for f in [0.01, 0.02, 0.05, 0.1, 0.2, 0.3, 0.5, 0.7, 0.8, 0.9, 1]]\n",
    "n_sparses = [100, 200, 500, 1000, 2000, 5000, 7000, 9000]\n",
    "self_contributions = {1:0,6:0}"
   ]
  },
  {
   "cell_type": "code",
   "execution_count": null,
   "metadata": {
    "code_folding": [],
    "scrolled": true
   },
   "outputs": [
    {
     "data": {
      "application/vnd.jupyter.widget-view+json": {
       "model_id": "d74fe78a60a54a71964888775e88ec3e",
       "version_major": 2,
       "version_minor": 0
      },
      "text/plain": [
       "HBox(children=(FloatProgress(value=0.0, max=88.0), HTML(value='')))"
      ]
     },
     "metadata": {},
     "output_type": "display_data"
    },
    {
     "name": "stderr",
     "output_type": "stream",
     "text": [
      "/local/ssd/miniconda/envs/rascal_benchmark/lib/python3.7/site-packages/numpy/lib/function_base.py:2534: RuntimeWarning: invalid value encountered in true_divide\n",
      "  c /= stddev[:, None]\n",
      "/local/ssd/miniconda/envs/rascal_benchmark/lib/python3.7/site-packages/numpy/lib/function_base.py:2535: RuntimeWarning: invalid value encountered in true_divide\n",
      "  c /= stddev[None, :]\n",
      "/local/ssd/miniconda/envs/rascal_benchmark/lib/python3.7/site-packages/scipy/stats/_distn_infrastructure.py:903: RuntimeWarning: invalid value encountered in greater\n",
      "  return (a < x) & (x < b)\n",
      "/local/ssd/miniconda/envs/rascal_benchmark/lib/python3.7/site-packages/scipy/stats/_distn_infrastructure.py:903: RuntimeWarning: invalid value encountered in less\n",
      "  return (a < x) & (x < b)\n",
      "/local/ssd/miniconda/envs/rascal_benchmark/lib/python3.7/site-packages/scipy/stats/_distn_infrastructure.py:1912: RuntimeWarning: invalid value encountered in less_equal\n",
      "  cond2 = cond0 & (x <= _a)\n"
     ]
    },
    {
     "data": {
      "application/vnd.jupyter.widget-view+json": {
       "model_id": "",
       "version_major": 2,
       "version_minor": 0
      },
      "text/plain": [
       "HBox(children=(FloatProgress(value=0.0, max=6.0), HTML(value='')))"
      ]
     },
     "metadata": {},
     "output_type": "display_data"
    },
    {
     "data": {
      "application/vnd.jupyter.widget-view+json": {
       "model_id": "",
       "version_major": 2,
       "version_minor": 0
      },
      "text/plain": [
       "HBox(children=(FloatProgress(value=0.0, max=6.0), HTML(value='')))"
      ]
     },
     "metadata": {},
     "output_type": "display_data"
    },
    {
     "data": {
      "application/vnd.jupyter.widget-view+json": {
       "model_id": "",
       "version_major": 2,
       "version_minor": 0
      },
      "text/plain": [
       "HBox(children=(FloatProgress(value=0.0, max=6.0), HTML(value='')))"
      ]
     },
     "metadata": {},
     "output_type": "display_data"
    },
    {
     "data": {
      "application/vnd.jupyter.widget-view+json": {
       "model_id": "",
       "version_major": 2,
       "version_minor": 0
      },
      "text/plain": [
       "HBox(children=(FloatProgress(value=0.0, max=6.0), HTML(value='')))"
      ]
     },
     "metadata": {},
     "output_type": "display_data"
    },
    {
     "data": {
      "application/vnd.jupyter.widget-view+json": {
       "model_id": "",
       "version_major": 2,
       "version_minor": 0
      },
      "text/plain": [
       "HBox(children=(FloatProgress(value=0.0, max=6.0), HTML(value='')))"
      ]
     },
     "metadata": {},
     "output_type": "display_data"
    },
    {
     "data": {
      "application/vnd.jupyter.widget-view+json": {
       "model_id": "",
       "version_major": 2,
       "version_minor": 0
      },
      "text/plain": [
       "HBox(children=(FloatProgress(value=0.0, max=6.0), HTML(value='')))"
      ]
     },
     "metadata": {},
     "output_type": "display_data"
    },
    {
     "data": {
      "application/vnd.jupyter.widget-view+json": {
       "model_id": "",
       "version_major": 2,
       "version_minor": 0
      },
      "text/plain": [
       "HBox(children=(FloatProgress(value=0.0, max=6.0), HTML(value='')))"
      ]
     },
     "metadata": {},
     "output_type": "display_data"
    },
    {
     "data": {
      "application/vnd.jupyter.widget-view+json": {
       "model_id": "",
       "version_major": 2,
       "version_minor": 0
      },
      "text/plain": [
       "HBox(children=(FloatProgress(value=0.0, max=6.0), HTML(value='')))"
      ]
     },
     "metadata": {},
     "output_type": "display_data"
    },
    {
     "data": {
      "application/vnd.jupyter.widget-view+json": {
       "model_id": "",
       "version_major": 2,
       "version_minor": 0
      },
      "text/plain": [
       "HBox(children=(FloatProgress(value=0.0, max=6.0), HTML(value='')))"
      ]
     },
     "metadata": {},
     "output_type": "display_data"
    },
    {
     "name": "stderr",
     "output_type": "stream",
     "text": [
      "/local/ssd/miniconda/envs/rascal_benchmark/lib/python3.7/site-packages/numpy/lib/function_base.py:2534: RuntimeWarning: invalid value encountered in true_divide\n",
      "  c /= stddev[:, None]\n",
      "/local/ssd/miniconda/envs/rascal_benchmark/lib/python3.7/site-packages/numpy/lib/function_base.py:2535: RuntimeWarning: invalid value encountered in true_divide\n",
      "  c /= stddev[None, :]\n",
      "/local/ssd/miniconda/envs/rascal_benchmark/lib/python3.7/site-packages/scipy/stats/_distn_infrastructure.py:903: RuntimeWarning: invalid value encountered in greater\n",
      "  return (a < x) & (x < b)\n",
      "/local/ssd/miniconda/envs/rascal_benchmark/lib/python3.7/site-packages/scipy/stats/_distn_infrastructure.py:903: RuntimeWarning: invalid value encountered in less\n",
      "  return (a < x) & (x < b)\n",
      "/local/ssd/miniconda/envs/rascal_benchmark/lib/python3.7/site-packages/scipy/stats/_distn_infrastructure.py:1912: RuntimeWarning: invalid value encountered in less_equal\n",
      "  cond2 = cond0 & (x <= _a)\n"
     ]
    },
    {
     "data": {
      "application/vnd.jupyter.widget-view+json": {
       "model_id": "",
       "version_major": 2,
       "version_minor": 0
      },
      "text/plain": [
       "HBox(children=(FloatProgress(value=0.0, max=6.0), HTML(value='')))"
      ]
     },
     "metadata": {},
     "output_type": "display_data"
    },
    {
     "data": {
      "application/vnd.jupyter.widget-view+json": {
       "model_id": "",
       "version_major": 2,
       "version_minor": 0
      },
      "text/plain": [
       "HBox(children=(FloatProgress(value=0.0, max=6.0), HTML(value='')))"
      ]
     },
     "metadata": {},
     "output_type": "display_data"
    },
    {
     "data": {
      "application/vnd.jupyter.widget-view+json": {
       "model_id": "",
       "version_major": 2,
       "version_minor": 0
      },
      "text/plain": [
       "HBox(children=(FloatProgress(value=0.0, max=6.0), HTML(value='')))"
      ]
     },
     "metadata": {},
     "output_type": "display_data"
    },
    {
     "data": {
      "application/vnd.jupyter.widget-view+json": {
       "model_id": "",
       "version_major": 2,
       "version_minor": 0
      },
      "text/plain": [
       "HBox(children=(FloatProgress(value=0.0, max=6.0), HTML(value='')))"
      ]
     },
     "metadata": {},
     "output_type": "display_data"
    },
    {
     "data": {
      "application/vnd.jupyter.widget-view+json": {
       "model_id": "",
       "version_major": 2,
       "version_minor": 0
      },
      "text/plain": [
       "HBox(children=(FloatProgress(value=0.0, max=6.0), HTML(value='')))"
      ]
     },
     "metadata": {},
     "output_type": "display_data"
    },
    {
     "data": {
      "application/vnd.jupyter.widget-view+json": {
       "model_id": "",
       "version_major": 2,
       "version_minor": 0
      },
      "text/plain": [
       "HBox(children=(FloatProgress(value=0.0, max=6.0), HTML(value='')))"
      ]
     },
     "metadata": {},
     "output_type": "display_data"
    },
    {
     "data": {
      "application/vnd.jupyter.widget-view+json": {
       "model_id": "",
       "version_major": 2,
       "version_minor": 0
      },
      "text/plain": [
       "HBox(children=(FloatProgress(value=0.0, max=6.0), HTML(value='')))"
      ]
     },
     "metadata": {},
     "output_type": "display_data"
    },
    {
     "data": {
      "application/vnd.jupyter.widget-view+json": {
       "model_id": "",
       "version_major": 2,
       "version_minor": 0
      },
      "text/plain": [
       "HBox(children=(FloatProgress(value=0.0, max=6.0), HTML(value='')))"
      ]
     },
     "metadata": {},
     "output_type": "display_data"
    },
    {
     "data": {
      "application/vnd.jupyter.widget-view+json": {
       "model_id": "",
       "version_major": 2,
       "version_minor": 0
      },
      "text/plain": [
       "HBox(children=(FloatProgress(value=0.0, max=6.0), HTML(value='')))"
      ]
     },
     "metadata": {},
     "output_type": "display_data"
    },
    {
     "data": {
      "application/vnd.jupyter.widget-view+json": {
       "model_id": "",
       "version_major": 2,
       "version_minor": 0
      },
      "text/plain": [
       "HBox(children=(FloatProgress(value=0.0, max=6.0), HTML(value='')))"
      ]
     },
     "metadata": {},
     "output_type": "display_data"
    },
    {
     "data": {
      "application/vnd.jupyter.widget-view+json": {
       "model_id": "",
       "version_major": 2,
       "version_minor": 0
      },
      "text/plain": [
       "HBox(children=(FloatProgress(value=0.0, max=6.0), HTML(value='')))"
      ]
     },
     "metadata": {},
     "output_type": "display_data"
    },
    {
     "data": {
      "application/vnd.jupyter.widget-view+json": {
       "model_id": "",
       "version_major": 2,
       "version_minor": 0
      },
      "text/plain": [
       "HBox(children=(FloatProgress(value=0.0, max=6.0), HTML(value='')))"
      ]
     },
     "metadata": {},
     "output_type": "display_data"
    },
    {
     "data": {
      "application/vnd.jupyter.widget-view+json": {
       "model_id": "",
       "version_major": 2,
       "version_minor": 0
      },
      "text/plain": [
       "HBox(children=(FloatProgress(value=0.0, max=6.0), HTML(value='')))"
      ]
     },
     "metadata": {},
     "output_type": "display_data"
    },
    {
     "data": {
      "application/vnd.jupyter.widget-view+json": {
       "model_id": "",
       "version_major": 2,
       "version_minor": 0
      },
      "text/plain": [
       "HBox(children=(FloatProgress(value=0.0, max=6.0), HTML(value='')))"
      ]
     },
     "metadata": {},
     "output_type": "display_data"
    },
    {
     "data": {
      "application/vnd.jupyter.widget-view+json": {
       "model_id": "",
       "version_major": 2,
       "version_minor": 0
      },
      "text/plain": [
       "HBox(children=(FloatProgress(value=0.0, max=6.0), HTML(value='')))"
      ]
     },
     "metadata": {},
     "output_type": "display_data"
    },
    {
     "data": {
      "application/vnd.jupyter.widget-view+json": {
       "model_id": "",
       "version_major": 2,
       "version_minor": 0
      },
      "text/plain": [
       "HBox(children=(FloatProgress(value=0.0, max=6.0), HTML(value='')))"
      ]
     },
     "metadata": {},
     "output_type": "display_data"
    },
    {
     "data": {
      "application/vnd.jupyter.widget-view+json": {
       "model_id": "",
       "version_major": 2,
       "version_minor": 0
      },
      "text/plain": [
       "HBox(children=(FloatProgress(value=0.0, max=6.0), HTML(value='')))"
      ]
     },
     "metadata": {},
     "output_type": "display_data"
    },
    {
     "data": {
      "application/vnd.jupyter.widget-view+json": {
       "model_id": "",
       "version_major": 2,
       "version_minor": 0
      },
      "text/plain": [
       "HBox(children=(FloatProgress(value=0.0, max=6.0), HTML(value='')))"
      ]
     },
     "metadata": {},
     "output_type": "display_data"
    },
    {
     "data": {
      "application/vnd.jupyter.widget-view+json": {
       "model_id": "",
       "version_major": 2,
       "version_minor": 0
      },
      "text/plain": [
       "HBox(children=(FloatProgress(value=0.0, max=4.0), HTML(value='')))"
      ]
     },
     "metadata": {},
     "output_type": "display_data"
    },
    {
     "data": {
      "application/vnd.jupyter.widget-view+json": {
       "model_id": "",
       "version_major": 2,
       "version_minor": 0
      },
      "text/plain": [
       "HBox(children=(FloatProgress(value=0.0, max=6.0), HTML(value='')))"
      ]
     },
     "metadata": {},
     "output_type": "display_data"
    },
    {
     "data": {
      "application/vnd.jupyter.widget-view+json": {
       "model_id": "",
       "version_major": 2,
       "version_minor": 0
      },
      "text/plain": [
       "HBox(children=(FloatProgress(value=0.0, max=6.0), HTML(value='')))"
      ]
     },
     "metadata": {},
     "output_type": "display_data"
    },
    {
     "data": {
      "application/vnd.jupyter.widget-view+json": {
       "model_id": "",
       "version_major": 2,
       "version_minor": 0
      },
      "text/plain": [
       "HBox(children=(FloatProgress(value=0.0, max=6.0), HTML(value='')))"
      ]
     },
     "metadata": {},
     "output_type": "display_data"
    },
    {
     "data": {
      "application/vnd.jupyter.widget-view+json": {
       "model_id": "",
       "version_major": 2,
       "version_minor": 0
      },
      "text/plain": [
       "HBox(children=(FloatProgress(value=0.0, max=6.0), HTML(value='')))"
      ]
     },
     "metadata": {},
     "output_type": "display_data"
    },
    {
     "data": {
      "application/vnd.jupyter.widget-view+json": {
       "model_id": "",
       "version_major": 2,
       "version_minor": 0
      },
      "text/plain": [
       "HBox(children=(FloatProgress(value=0.0, max=6.0), HTML(value='')))"
      ]
     },
     "metadata": {},
     "output_type": "display_data"
    },
    {
     "data": {
      "application/vnd.jupyter.widget-view+json": {
       "model_id": "",
       "version_major": 2,
       "version_minor": 0
      },
      "text/plain": [
       "HBox(children=(FloatProgress(value=0.0, max=6.0), HTML(value='')))"
      ]
     },
     "metadata": {},
     "output_type": "display_data"
    },
    {
     "data": {
      "application/vnd.jupyter.widget-view+json": {
       "model_id": "",
       "version_major": 2,
       "version_minor": 0
      },
      "text/plain": [
       "HBox(children=(FloatProgress(value=0.0, max=6.0), HTML(value='')))"
      ]
     },
     "metadata": {},
     "output_type": "display_data"
    },
    {
     "data": {
      "application/vnd.jupyter.widget-view+json": {
       "model_id": "",
       "version_major": 2,
       "version_minor": 0
      },
      "text/plain": [
       "HBox(children=(FloatProgress(value=0.0, max=6.0), HTML(value='')))"
      ]
     },
     "metadata": {},
     "output_type": "display_data"
    },
    {
     "data": {
      "application/vnd.jupyter.widget-view+json": {
       "model_id": "",
       "version_major": 2,
       "version_minor": 0
      },
      "text/plain": [
       "HBox(children=(FloatProgress(value=0.0, max=6.0), HTML(value='')))"
      ]
     },
     "metadata": {},
     "output_type": "display_data"
    },
    {
     "data": {
      "application/vnd.jupyter.widget-view+json": {
       "model_id": "",
       "version_major": 2,
       "version_minor": 0
      },
      "text/plain": [
       "HBox(children=(FloatProgress(value=0.0, max=6.0), HTML(value='')))"
      ]
     },
     "metadata": {},
     "output_type": "display_data"
    },
    {
     "data": {
      "application/vnd.jupyter.widget-view+json": {
       "model_id": "",
       "version_major": 2,
       "version_minor": 0
      },
      "text/plain": [
       "HBox(children=(FloatProgress(value=0.0, max=6.0), HTML(value='')))"
      ]
     },
     "metadata": {},
     "output_type": "display_data"
    },
    {
     "data": {
      "application/vnd.jupyter.widget-view+json": {
       "model_id": "",
       "version_major": 2,
       "version_minor": 0
      },
      "text/plain": [
       "HBox(children=(FloatProgress(value=0.0, max=6.0), HTML(value='')))"
      ]
     },
     "metadata": {},
     "output_type": "display_data"
    },
    {
     "data": {
      "application/vnd.jupyter.widget-view+json": {
       "model_id": "",
       "version_major": 2,
       "version_minor": 0
      },
      "text/plain": [
       "HBox(children=(FloatProgress(value=0.0, max=6.0), HTML(value='')))"
      ]
     },
     "metadata": {},
     "output_type": "display_data"
    },
    {
     "data": {
      "application/vnd.jupyter.widget-view+json": {
       "model_id": "",
       "version_major": 2,
       "version_minor": 0
      },
      "text/plain": [
       "HBox(children=(FloatProgress(value=0.0, max=6.0), HTML(value='')))"
      ]
     },
     "metadata": {},
     "output_type": "display_data"
    },
    {
     "data": {
      "application/vnd.jupyter.widget-view+json": {
       "model_id": "",
       "version_major": 2,
       "version_minor": 0
      },
      "text/plain": [
       "HBox(children=(FloatProgress(value=0.0, max=6.0), HTML(value='')))"
      ]
     },
     "metadata": {},
     "output_type": "display_data"
    },
    {
     "data": {
      "application/vnd.jupyter.widget-view+json": {
       "model_id": "",
       "version_major": 2,
       "version_minor": 0
      },
      "text/plain": [
       "HBox(children=(FloatProgress(value=0.0, max=6.0), HTML(value='')))"
      ]
     },
     "metadata": {},
     "output_type": "display_data"
    },
    {
     "data": {
      "application/vnd.jupyter.widget-view+json": {
       "model_id": "",
       "version_major": 2,
       "version_minor": 0
      },
      "text/plain": [
       "HBox(children=(FloatProgress(value=0.0, max=6.0), HTML(value='')))"
      ]
     },
     "metadata": {},
     "output_type": "display_data"
    },
    {
     "data": {
      "application/vnd.jupyter.widget-view+json": {
       "model_id": "",
       "version_major": 2,
       "version_minor": 0
      },
      "text/plain": [
       "HBox(children=(FloatProgress(value=0.0, max=6.0), HTML(value='')))"
      ]
     },
     "metadata": {},
     "output_type": "display_data"
    },
    {
     "data": {
      "application/vnd.jupyter.widget-view+json": {
       "model_id": "",
       "version_major": 2,
       "version_minor": 0
      },
      "text/plain": [
       "HBox(children=(FloatProgress(value=0.0, max=6.0), HTML(value='')))"
      ]
     },
     "metadata": {},
     "output_type": "display_data"
    },
    {
     "data": {
      "application/vnd.jupyter.widget-view+json": {
       "model_id": "",
       "version_major": 2,
       "version_minor": 0
      },
      "text/plain": [
       "HBox(children=(FloatProgress(value=0.0, max=6.0), HTML(value='')))"
      ]
     },
     "metadata": {},
     "output_type": "display_data"
    },
    {
     "data": {
      "application/vnd.jupyter.widget-view+json": {
       "model_id": "",
       "version_major": 2,
       "version_minor": 0
      },
      "text/plain": [
       "HBox(children=(FloatProgress(value=0.0, max=6.0), HTML(value='')))"
      ]
     },
     "metadata": {},
     "output_type": "display_data"
    },
    {
     "data": {
      "application/vnd.jupyter.widget-view+json": {
       "model_id": "",
       "version_major": 2,
       "version_minor": 0
      },
      "text/plain": [
       "HBox(children=(FloatProgress(value=0.0, max=6.0), HTML(value='')))"
      ]
     },
     "metadata": {},
     "output_type": "display_data"
    },
    {
     "data": {
      "application/vnd.jupyter.widget-view+json": {
       "model_id": "",
       "version_major": 2,
       "version_minor": 0
      },
      "text/plain": [
       "HBox(children=(FloatProgress(value=0.0, max=6.0), HTML(value='')))"
      ]
     },
     "metadata": {},
     "output_type": "display_data"
    },
    {
     "data": {
      "application/vnd.jupyter.widget-view+json": {
       "model_id": "",
       "version_major": 2,
       "version_minor": 0
      },
      "text/plain": [
       "HBox(children=(FloatProgress(value=0.0, max=6.0), HTML(value='')))"
      ]
     },
     "metadata": {},
     "output_type": "display_data"
    },
    {
     "data": {
      "application/vnd.jupyter.widget-view+json": {
       "model_id": "",
       "version_major": 2,
       "version_minor": 0
      },
      "text/plain": [
       "HBox(children=(FloatProgress(value=0.0, max=6.0), HTML(value='')))"
      ]
     },
     "metadata": {},
     "output_type": "display_data"
    },
    {
     "data": {
      "application/vnd.jupyter.widget-view+json": {
       "model_id": "",
       "version_major": 2,
       "version_minor": 0
      },
      "text/plain": [
       "HBox(children=(FloatProgress(value=0.0, max=6.0), HTML(value='')))"
      ]
     },
     "metadata": {},
     "output_type": "display_data"
    },
    {
     "data": {
      "application/vnd.jupyter.widget-view+json": {
       "model_id": "",
       "version_major": 2,
       "version_minor": 0
      },
      "text/plain": [
       "HBox(children=(FloatProgress(value=0.0, max=6.0), HTML(value='')))"
      ]
     },
     "metadata": {},
     "output_type": "display_data"
    },
    {
     "data": {
      "application/vnd.jupyter.widget-view+json": {
       "model_id": "",
       "version_major": 2,
       "version_minor": 0
      },
      "text/plain": [
       "HBox(children=(FloatProgress(value=0.0, max=6.0), HTML(value='')))"
      ]
     },
     "metadata": {},
     "output_type": "display_data"
    },
    {
     "data": {
      "application/vnd.jupyter.widget-view+json": {
       "model_id": "",
       "version_major": 2,
       "version_minor": 0
      },
      "text/plain": [
       "HBox(children=(FloatProgress(value=0.0, max=6.0), HTML(value='')))"
      ]
     },
     "metadata": {},
     "output_type": "display_data"
    },
    {
     "data": {
      "application/vnd.jupyter.widget-view+json": {
       "model_id": "",
       "version_major": 2,
       "version_minor": 0
      },
      "text/plain": [
       "HBox(children=(FloatProgress(value=0.0, max=4.0), HTML(value='')))"
      ]
     },
     "metadata": {},
     "output_type": "display_data"
    },
    {
     "data": {
      "application/vnd.jupyter.widget-view+json": {
       "model_id": "",
       "version_major": 2,
       "version_minor": 0
      },
      "text/plain": [
       "HBox(children=(FloatProgress(value=0.0, max=6.0), HTML(value='')))"
      ]
     },
     "metadata": {},
     "output_type": "display_data"
    },
    {
     "data": {
      "application/vnd.jupyter.widget-view+json": {
       "model_id": "",
       "version_major": 2,
       "version_minor": 0
      },
      "text/plain": [
       "HBox(children=(FloatProgress(value=0.0, max=6.0), HTML(value='')))"
      ]
     },
     "metadata": {},
     "output_type": "display_data"
    },
    {
     "data": {
      "application/vnd.jupyter.widget-view+json": {
       "model_id": "",
       "version_major": 2,
       "version_minor": 0
      },
      "text/plain": [
       "HBox(children=(FloatProgress(value=0.0, max=6.0), HTML(value='')))"
      ]
     },
     "metadata": {},
     "output_type": "display_data"
    },
    {
     "data": {
      "application/vnd.jupyter.widget-view+json": {
       "model_id": "",
       "version_major": 2,
       "version_minor": 0
      },
      "text/plain": [
       "HBox(children=(FloatProgress(value=0.0, max=6.0), HTML(value='')))"
      ]
     },
     "metadata": {},
     "output_type": "display_data"
    },
    {
     "data": {
      "application/vnd.jupyter.widget-view+json": {
       "model_id": "",
       "version_major": 2,
       "version_minor": 0
      },
      "text/plain": [
       "HBox(children=(FloatProgress(value=0.0, max=6.0), HTML(value='')))"
      ]
     },
     "metadata": {},
     "output_type": "display_data"
    },
    {
     "data": {
      "application/vnd.jupyter.widget-view+json": {
       "model_id": "",
       "version_major": 2,
       "version_minor": 0
      },
      "text/plain": [
       "HBox(children=(FloatProgress(value=0.0, max=6.0), HTML(value='')))"
      ]
     },
     "metadata": {},
     "output_type": "display_data"
    },
    {
     "data": {
      "application/vnd.jupyter.widget-view+json": {
       "model_id": "",
       "version_major": 2,
       "version_minor": 0
      },
      "text/plain": [
       "HBox(children=(FloatProgress(value=0.0, max=6.0), HTML(value='')))"
      ]
     },
     "metadata": {},
     "output_type": "display_data"
    },
    {
     "data": {
      "application/vnd.jupyter.widget-view+json": {
       "model_id": "",
       "version_major": 2,
       "version_minor": 0
      },
      "text/plain": [
       "HBox(children=(FloatProgress(value=0.0, max=6.0), HTML(value='')))"
      ]
     },
     "metadata": {},
     "output_type": "display_data"
    },
    {
     "data": {
      "application/vnd.jupyter.widget-view+json": {
       "model_id": "",
       "version_major": 2,
       "version_minor": 0
      },
      "text/plain": [
       "HBox(children=(FloatProgress(value=0.0, max=6.0), HTML(value='')))"
      ]
     },
     "metadata": {},
     "output_type": "display_data"
    },
    {
     "data": {
      "application/vnd.jupyter.widget-view+json": {
       "model_id": "",
       "version_major": 2,
       "version_minor": 0
      },
      "text/plain": [
       "HBox(children=(FloatProgress(value=0.0, max=6.0), HTML(value='')))"
      ]
     },
     "metadata": {},
     "output_type": "display_data"
    },
    {
     "data": {
      "application/vnd.jupyter.widget-view+json": {
       "model_id": "",
       "version_major": 2,
       "version_minor": 0
      },
      "text/plain": [
       "HBox(children=(FloatProgress(value=0.0, max=6.0), HTML(value='')))"
      ]
     },
     "metadata": {},
     "output_type": "display_data"
    },
    {
     "data": {
      "application/vnd.jupyter.widget-view+json": {
       "model_id": "",
       "version_major": 2,
       "version_minor": 0
      },
      "text/plain": [
       "HBox(children=(FloatProgress(value=0.0, max=6.0), HTML(value='')))"
      ]
     },
     "metadata": {},
     "output_type": "display_data"
    },
    {
     "data": {
      "application/vnd.jupyter.widget-view+json": {
       "model_id": "",
       "version_major": 2,
       "version_minor": 0
      },
      "text/plain": [
       "HBox(children=(FloatProgress(value=0.0, max=6.0), HTML(value='')))"
      ]
     },
     "metadata": {},
     "output_type": "display_data"
    },
    {
     "data": {
      "application/vnd.jupyter.widget-view+json": {
       "model_id": "",
       "version_major": 2,
       "version_minor": 0
      },
      "text/plain": [
       "HBox(children=(FloatProgress(value=0.0, max=6.0), HTML(value='')))"
      ]
     },
     "metadata": {},
     "output_type": "display_data"
    },
    {
     "data": {
      "application/vnd.jupyter.widget-view+json": {
       "model_id": "",
       "version_major": 2,
       "version_minor": 0
      },
      "text/plain": [
       "HBox(children=(FloatProgress(value=0.0, max=6.0), HTML(value='')))"
      ]
     },
     "metadata": {},
     "output_type": "display_data"
    },
    {
     "data": {
      "application/vnd.jupyter.widget-view+json": {
       "model_id": "",
       "version_major": 2,
       "version_minor": 0
      },
      "text/plain": [
       "HBox(children=(FloatProgress(value=0.0, max=6.0), HTML(value='')))"
      ]
     },
     "metadata": {},
     "output_type": "display_data"
    },
    {
     "data": {
      "application/vnd.jupyter.widget-view+json": {
       "model_id": "",
       "version_major": 2,
       "version_minor": 0
      },
      "text/plain": [
       "HBox(children=(FloatProgress(value=0.0, max=6.0), HTML(value='')))"
      ]
     },
     "metadata": {},
     "output_type": "display_data"
    },
    {
     "data": {
      "application/vnd.jupyter.widget-view+json": {
       "model_id": "",
       "version_major": 2,
       "version_minor": 0
      },
      "text/plain": [
       "HBox(children=(FloatProgress(value=0.0, max=6.0), HTML(value='')))"
      ]
     },
     "metadata": {},
     "output_type": "display_data"
    },
    {
     "data": {
      "application/vnd.jupyter.widget-view+json": {
       "model_id": "",
       "version_major": 2,
       "version_minor": 0
      },
      "text/plain": [
       "HBox(children=(FloatProgress(value=0.0, max=6.0), HTML(value='')))"
      ]
     },
     "metadata": {},
     "output_type": "display_data"
    },
    {
     "data": {
      "application/vnd.jupyter.widget-view+json": {
       "model_id": "",
       "version_major": 2,
       "version_minor": 0
      },
      "text/plain": [
       "HBox(children=(FloatProgress(value=0.0, max=6.0), HTML(value='')))"
      ]
     },
     "metadata": {},
     "output_type": "display_data"
    },
    {
     "data": {
      "application/vnd.jupyter.widget-view+json": {
       "model_id": "",
       "version_major": 2,
       "version_minor": 0
      },
      "text/plain": [
       "HBox(children=(FloatProgress(value=0.0, max=6.0), HTML(value='')))"
      ]
     },
     "metadata": {},
     "output_type": "display_data"
    },
    {
     "data": {
      "application/vnd.jupyter.widget-view+json": {
       "model_id": "",
       "version_major": 2,
       "version_minor": 0
      },
      "text/plain": [
       "HBox(children=(FloatProgress(value=0.0, max=6.0), HTML(value='')))"
      ]
     },
     "metadata": {},
     "output_type": "display_data"
    },
    {
     "data": {
      "application/vnd.jupyter.widget-view+json": {
       "model_id": "",
       "version_major": 2,
       "version_minor": 0
      },
      "text/plain": [
       "HBox(children=(FloatProgress(value=0.0, max=6.0), HTML(value='')))"
      ]
     },
     "metadata": {},
     "output_type": "display_data"
    },
    {
     "data": {
      "application/vnd.jupyter.widget-view+json": {
       "model_id": "",
       "version_major": 2,
       "version_minor": 0
      },
      "text/plain": [
       "HBox(children=(FloatProgress(value=0.0, max=6.0), HTML(value='')))"
      ]
     },
     "metadata": {},
     "output_type": "display_data"
    },
    {
     "data": {
      "application/vnd.jupyter.widget-view+json": {
       "model_id": "",
       "version_major": 2,
       "version_minor": 0
      },
      "text/plain": [
       "HBox(children=(FloatProgress(value=0.0, max=6.0), HTML(value='')))"
      ]
     },
     "metadata": {},
     "output_type": "display_data"
    },
    {
     "data": {
      "application/vnd.jupyter.widget-view+json": {
       "model_id": "",
       "version_major": 2,
       "version_minor": 0
      },
      "text/plain": [
       "HBox(children=(FloatProgress(value=0.0, max=6.0), HTML(value='')))"
      ]
     },
     "metadata": {},
     "output_type": "display_data"
    },
    {
     "data": {
      "application/vnd.jupyter.widget-view+json": {
       "model_id": "",
       "version_major": 2,
       "version_minor": 0
      },
      "text/plain": [
       "HBox(children=(FloatProgress(value=0.0, max=6.0), HTML(value='')))"
      ]
     },
     "metadata": {},
     "output_type": "display_data"
    },
    {
     "data": {
      "application/vnd.jupyter.widget-view+json": {
       "model_id": "",
       "version_major": 2,
       "version_minor": 0
      },
      "text/plain": [
       "HBox(children=(FloatProgress(value=0.0, max=6.0), HTML(value='')))"
      ]
     },
     "metadata": {},
     "output_type": "display_data"
    },
    {
     "data": {
      "application/vnd.jupyter.widget-view+json": {
       "model_id": "",
       "version_major": 2,
       "version_minor": 0
      },
      "text/plain": [
       "HBox(children=(FloatProgress(value=0.0, max=4.0), HTML(value='')))"
      ]
     },
     "metadata": {},
     "output_type": "display_data"
    },
    {
     "data": {
      "application/vnd.jupyter.widget-view+json": {
       "model_id": "",
       "version_major": 2,
       "version_minor": 0
      },
      "text/plain": [
       "HBox(children=(FloatProgress(value=0.0, max=6.0), HTML(value='')))"
      ]
     },
     "metadata": {},
     "output_type": "display_data"
    },
    {
     "data": {
      "application/vnd.jupyter.widget-view+json": {
       "model_id": "",
       "version_major": 2,
       "version_minor": 0
      },
      "text/plain": [
       "HBox(children=(FloatProgress(value=0.0, max=6.0), HTML(value='')))"
      ]
     },
     "metadata": {},
     "output_type": "display_data"
    },
    {
     "data": {
      "application/vnd.jupyter.widget-view+json": {
       "model_id": "",
       "version_major": 2,
       "version_minor": 0
      },
      "text/plain": [
       "HBox(children=(FloatProgress(value=0.0, max=6.0), HTML(value='')))"
      ]
     },
     "metadata": {},
     "output_type": "display_data"
    },
    {
     "data": {
      "application/vnd.jupyter.widget-view+json": {
       "model_id": "",
       "version_major": 2,
       "version_minor": 0
      },
      "text/plain": [
       "HBox(children=(FloatProgress(value=0.0, max=6.0), HTML(value='')))"
      ]
     },
     "metadata": {},
     "output_type": "display_data"
    },
    {
     "data": {
      "application/vnd.jupyter.widget-view+json": {
       "model_id": "",
       "version_major": 2,
       "version_minor": 0
      },
      "text/plain": [
       "HBox(children=(FloatProgress(value=0.0, max=6.0), HTML(value='')))"
      ]
     },
     "metadata": {},
     "output_type": "display_data"
    },
    {
     "data": {
      "application/vnd.jupyter.widget-view+json": {
       "model_id": "",
       "version_major": 2,
       "version_minor": 0
      },
      "text/plain": [
       "HBox(children=(FloatProgress(value=0.0, max=6.0), HTML(value='')))"
      ]
     },
     "metadata": {},
     "output_type": "display_data"
    },
    {
     "data": {
      "application/vnd.jupyter.widget-view+json": {
       "model_id": "",
       "version_major": 2,
       "version_minor": 0
      },
      "text/plain": [
       "HBox(children=(FloatProgress(value=0.0, max=6.0), HTML(value='')))"
      ]
     },
     "metadata": {},
     "output_type": "display_data"
    },
    {
     "data": {
      "application/vnd.jupyter.widget-view+json": {
       "model_id": "",
       "version_major": 2,
       "version_minor": 0
      },
      "text/plain": [
       "HBox(children=(FloatProgress(value=0.0, max=6.0), HTML(value='')))"
      ]
     },
     "metadata": {},
     "output_type": "display_data"
    },
    {
     "data": {
      "application/vnd.jupyter.widget-view+json": {
       "model_id": "",
       "version_major": 2,
       "version_minor": 0
      },
      "text/plain": [
       "HBox(children=(FloatProgress(value=0.0, max=6.0), HTML(value='')))"
      ]
     },
     "metadata": {},
     "output_type": "display_data"
    },
    {
     "data": {
      "application/vnd.jupyter.widget-view+json": {
       "model_id": "",
       "version_major": 2,
       "version_minor": 0
      },
      "text/plain": [
       "HBox(children=(FloatProgress(value=0.0, max=6.0), HTML(value='')))"
      ]
     },
     "metadata": {},
     "output_type": "display_data"
    },
    {
     "data": {
      "application/vnd.jupyter.widget-view+json": {
       "model_id": "",
       "version_major": 2,
       "version_minor": 0
      },
      "text/plain": [
       "HBox(children=(FloatProgress(value=0.0, max=6.0), HTML(value='')))"
      ]
     },
     "metadata": {},
     "output_type": "display_data"
    },
    {
     "data": {
      "application/vnd.jupyter.widget-view+json": {
       "model_id": "",
       "version_major": 2,
       "version_minor": 0
      },
      "text/plain": [
       "HBox(children=(FloatProgress(value=0.0, max=6.0), HTML(value='')))"
      ]
     },
     "metadata": {},
     "output_type": "display_data"
    },
    {
     "data": {
      "application/vnd.jupyter.widget-view+json": {
       "model_id": "",
       "version_major": 2,
       "version_minor": 0
      },
      "text/plain": [
       "HBox(children=(FloatProgress(value=0.0, max=6.0), HTML(value='')))"
      ]
     },
     "metadata": {},
     "output_type": "display_data"
    },
    {
     "data": {
      "application/vnd.jupyter.widget-view+json": {
       "model_id": "",
       "version_major": 2,
       "version_minor": 0
      },
      "text/plain": [
       "HBox(children=(FloatProgress(value=0.0, max=6.0), HTML(value='')))"
      ]
     },
     "metadata": {},
     "output_type": "display_data"
    },
    {
     "data": {
      "application/vnd.jupyter.widget-view+json": {
       "model_id": "",
       "version_major": 2,
       "version_minor": 0
      },
      "text/plain": [
       "HBox(children=(FloatProgress(value=0.0, max=6.0), HTML(value='')))"
      ]
     },
     "metadata": {},
     "output_type": "display_data"
    },
    {
     "data": {
      "application/vnd.jupyter.widget-view+json": {
       "model_id": "",
       "version_major": 2,
       "version_minor": 0
      },
      "text/plain": [
       "HBox(children=(FloatProgress(value=0.0, max=6.0), HTML(value='')))"
      ]
     },
     "metadata": {},
     "output_type": "display_data"
    },
    {
     "data": {
      "application/vnd.jupyter.widget-view+json": {
       "model_id": "",
       "version_major": 2,
       "version_minor": 0
      },
      "text/plain": [
       "HBox(children=(FloatProgress(value=0.0, max=6.0), HTML(value='')))"
      ]
     },
     "metadata": {},
     "output_type": "display_data"
    },
    {
     "data": {
      "application/vnd.jupyter.widget-view+json": {
       "model_id": "",
       "version_major": 2,
       "version_minor": 0
      },
      "text/plain": [
       "HBox(children=(FloatProgress(value=0.0, max=6.0), HTML(value='')))"
      ]
     },
     "metadata": {},
     "output_type": "display_data"
    },
    {
     "data": {
      "application/vnd.jupyter.widget-view+json": {
       "model_id": "",
       "version_major": 2,
       "version_minor": 0
      },
      "text/plain": [
       "HBox(children=(FloatProgress(value=0.0, max=6.0), HTML(value='')))"
      ]
     },
     "metadata": {},
     "output_type": "display_data"
    },
    {
     "data": {
      "application/vnd.jupyter.widget-view+json": {
       "model_id": "",
       "version_major": 2,
       "version_minor": 0
      },
      "text/plain": [
       "HBox(children=(FloatProgress(value=0.0, max=6.0), HTML(value='')))"
      ]
     },
     "metadata": {},
     "output_type": "display_data"
    },
    {
     "data": {
      "application/vnd.jupyter.widget-view+json": {
       "model_id": "",
       "version_major": 2,
       "version_minor": 0
      },
      "text/plain": [
       "HBox(children=(FloatProgress(value=0.0, max=6.0), HTML(value='')))"
      ]
     },
     "metadata": {},
     "output_type": "display_data"
    },
    {
     "data": {
      "application/vnd.jupyter.widget-view+json": {
       "model_id": "",
       "version_major": 2,
       "version_minor": 0
      },
      "text/plain": [
       "HBox(children=(FloatProgress(value=0.0, max=6.0), HTML(value='')))"
      ]
     },
     "metadata": {},
     "output_type": "display_data"
    },
    {
     "data": {
      "application/vnd.jupyter.widget-view+json": {
       "model_id": "",
       "version_major": 2,
       "version_minor": 0
      },
      "text/plain": [
       "HBox(children=(FloatProgress(value=0.0, max=6.0), HTML(value='')))"
      ]
     },
     "metadata": {},
     "output_type": "display_data"
    },
    {
     "data": {
      "application/vnd.jupyter.widget-view+json": {
       "model_id": "",
       "version_major": 2,
       "version_minor": 0
      },
      "text/plain": [
       "HBox(children=(FloatProgress(value=0.0, max=6.0), HTML(value='')))"
      ]
     },
     "metadata": {},
     "output_type": "display_data"
    },
    {
     "data": {
      "application/vnd.jupyter.widget-view+json": {
       "model_id": "",
       "version_major": 2,
       "version_minor": 0
      },
      "text/plain": [
       "HBox(children=(FloatProgress(value=0.0, max=6.0), HTML(value='')))"
      ]
     },
     "metadata": {},
     "output_type": "display_data"
    },
    {
     "data": {
      "application/vnd.jupyter.widget-view+json": {
       "model_id": "",
       "version_major": 2,
       "version_minor": 0
      },
      "text/plain": [
       "HBox(children=(FloatProgress(value=0.0, max=6.0), HTML(value='')))"
      ]
     },
     "metadata": {},
     "output_type": "display_data"
    },
    {
     "data": {
      "application/vnd.jupyter.widget-view+json": {
       "model_id": "",
       "version_major": 2,
       "version_minor": 0
      },
      "text/plain": [
       "HBox(children=(FloatProgress(value=0.0, max=6.0), HTML(value='')))"
      ]
     },
     "metadata": {},
     "output_type": "display_data"
    },
    {
     "data": {
      "application/vnd.jupyter.widget-view+json": {
       "model_id": "",
       "version_major": 2,
       "version_minor": 0
      },
      "text/plain": [
       "HBox(children=(FloatProgress(value=0.0, max=6.0), HTML(value='')))"
      ]
     },
     "metadata": {},
     "output_type": "display_data"
    },
    {
     "data": {
      "application/vnd.jupyter.widget-view+json": {
       "model_id": "",
       "version_major": 2,
       "version_minor": 0
      },
      "text/plain": [
       "HBox(children=(FloatProgress(value=0.0, max=6.0), HTML(value='')))"
      ]
     },
     "metadata": {},
     "output_type": "display_data"
    },
    {
     "data": {
      "application/vnd.jupyter.widget-view+json": {
       "model_id": "",
       "version_major": 2,
       "version_minor": 0
      },
      "text/plain": [
       "HBox(children=(FloatProgress(value=0.0, max=6.0), HTML(value='')))"
      ]
     },
     "metadata": {},
     "output_type": "display_data"
    },
    {
     "data": {
      "application/vnd.jupyter.widget-view+json": {
       "model_id": "61c90a07ea4142368b489dcd27f9f953",
       "version_major": 2,
       "version_minor": 0
      },
      "text/plain": [
       "HBox(children=(FloatProgress(value=0.0, max=4.0), HTML(value='')))"
      ]
     },
     "metadata": {},
     "output_type": "display_data"
    },
    {
     "data": {
      "application/vnd.jupyter.widget-view+json": {
       "model_id": "860847f62ac149a2806c32b44fba98cb",
       "version_major": 2,
       "version_minor": 0
      },
      "text/plain": [
       "HBox(children=(FloatProgress(value=0.0, max=6.0), HTML(value='')))"
      ]
     },
     "metadata": {},
     "output_type": "display_data"
    },
    {
     "data": {
      "application/vnd.jupyter.widget-view+json": {
       "model_id": "",
       "version_major": 2,
       "version_minor": 0
      },
      "text/plain": [
       "HBox(children=(FloatProgress(value=0.0, max=6.0), HTML(value='')))"
      ]
     },
     "metadata": {},
     "output_type": "display_data"
    },
    {
     "data": {
      "application/vnd.jupyter.widget-view+json": {
       "model_id": "",
       "version_major": 2,
       "version_minor": 0
      },
      "text/plain": [
       "HBox(children=(FloatProgress(value=0.0, max=6.0), HTML(value='')))"
      ]
     },
     "metadata": {},
     "output_type": "display_data"
    },
    {
     "data": {
      "application/vnd.jupyter.widget-view+json": {
       "model_id": "",
       "version_major": 2,
       "version_minor": 0
      },
      "text/plain": [
       "HBox(children=(FloatProgress(value=0.0, max=6.0), HTML(value='')))"
      ]
     },
     "metadata": {},
     "output_type": "display_data"
    },
    {
     "data": {
      "application/vnd.jupyter.widget-view+json": {
       "model_id": "",
       "version_major": 2,
       "version_minor": 0
      },
      "text/plain": [
       "HBox(children=(FloatProgress(value=0.0, max=6.0), HTML(value='')))"
      ]
     },
     "metadata": {},
     "output_type": "display_data"
    },
    {
     "data": {
      "application/vnd.jupyter.widget-view+json": {
       "model_id": "456961557cd74e3e9b55b8801dc6c0eb",
       "version_major": 2,
       "version_minor": 0
      },
      "text/plain": [
       "HBox(children=(FloatProgress(value=0.0, max=6.0), HTML(value='')))"
      ]
     },
     "metadata": {},
     "output_type": "display_data"
    },
    {
     "data": {
      "application/vnd.jupyter.widget-view+json": {
       "model_id": "",
       "version_major": 2,
       "version_minor": 0
      },
      "text/plain": [
       "HBox(children=(FloatProgress(value=0.0, max=6.0), HTML(value='')))"
      ]
     },
     "metadata": {},
     "output_type": "display_data"
    },
    {
     "data": {
      "application/vnd.jupyter.widget-view+json": {
       "model_id": "",
       "version_major": 2,
       "version_minor": 0
      },
      "text/plain": [
       "HBox(children=(FloatProgress(value=0.0, max=6.0), HTML(value='')))"
      ]
     },
     "metadata": {},
     "output_type": "display_data"
    },
    {
     "data": {
      "application/vnd.jupyter.widget-view+json": {
       "model_id": "",
       "version_major": 2,
       "version_minor": 0
      },
      "text/plain": [
       "HBox(children=(FloatProgress(value=0.0, max=6.0), HTML(value='')))"
      ]
     },
     "metadata": {},
     "output_type": "display_data"
    },
    {
     "data": {
      "application/vnd.jupyter.widget-view+json": {
       "model_id": "1b62601ad8b5454e97dc413ba79fa6e2",
       "version_major": 2,
       "version_minor": 0
      },
      "text/plain": [
       "HBox(children=(FloatProgress(value=0.0, max=6.0), HTML(value='')))"
      ]
     },
     "metadata": {},
     "output_type": "display_data"
    },
    {
     "data": {
      "application/vnd.jupyter.widget-view+json": {
       "model_id": "ffae07b2ad7141d99b7c6d97bdb2074f",
       "version_major": 2,
       "version_minor": 0
      },
      "text/plain": [
       "HBox(children=(FloatProgress(value=0.0, max=6.0), HTML(value='')))"
      ]
     },
     "metadata": {},
     "output_type": "display_data"
    }
   ],
   "source": [
    "zeta = 4\n",
    "lamda_es = [5e-2,1e-2,5e-3,1e-3,5e-4,1e-4]\n",
    "lamda_fs = [0.5,1e-1,5e-2,1e-2,5e-3,1e-3]\n",
    "\n",
    "scores = []\n",
    "computed_ids = []\n",
    "scores = frompickle(PATH+'/cv-scores-0.pck')\n",
    "computed_ids = np.unique([sc['tag'] for sc in scores])\n",
    "\n",
    "def compute_score(n_feature, n_sparse, zeta):\n",
    "    frames = read('mebox-minimal-pbe0-b1b.xyz',':')\n",
    "    frames.extend(read('mebox-minimal-oos-T110-pbe0-b1b.xyz',':'))\n",
    "    frames.extend(read('mebox-minimal-oos-T188-pbe0-b1b.xyz',':'))\n",
    "    for ff in frames:\n",
    "        ff.wrap(eps=1e-11)\n",
    "    cv = KFold(n_splits=4, shuffle=True, random_state=10)\n",
    "    X_pseudo = load_obj(PATH+'sparse_points_np{}_nf{}.json'.format(n_sparse,n_feature))\n",
    "    KNM = np.load(PATH+'KNM_z{}_np{}_nf{}.npy'.format(zeta, n_sparse, n_feature), mmap_mode=None)\n",
    "    hypers = X_pseudo.representation._get_init_params()\n",
    "    hypers['compute_gradients'] = True\n",
    "    soap = SphericalInvariants(**hypers)\n",
    "    kernel = Kernel(soap, name='GAP', zeta=zeta, target_type='Structure', kernel_type='Sparse')\n",
    "    \n",
    "    scores_ = get_cv_scores(cv, KNM, frames, kernel, X_pseudo,\n",
    "                           self_contributions, lamda_es, lamda_fs, **{'n_sparse':n_sparse, 'n_feature':n_feature})\n",
    "    return scores_\n",
    "\n",
    "\n",
    "inps = []\n",
    "for idp, (n_sparse, n_feature) in enumerate(product(n_sparses, n_features)):\n",
    "    if idp in computed_ids: continue\n",
    "    inps.append((idp,n_feature, n_sparse, zeta))\n",
    "    \n",
    "np.random.seed(10000)\n",
    "np.random.shuffle(inps)\n",
    "\n",
    "for idp,n_feature, n_sparse, zeta in tqdm(inps):\n",
    "    scores_ = compute_score(n_feature, n_sparse, zeta)\n",
    "    for sc in scores_:\n",
    "        sc.update(tag=idp)\n",
    "    scores.extend(scores_)\n",
    "    topickle(PATH+'cv-scores-0.pck', scores)\n",
    "    \n",
    "# with ProcessPoolExecutor(max_workers=2) as executor:\n",
    "#     with tqdm(total=len(inps)) as pbar:\n",
    "#         future_to_compute = {}\n",
    "#         for idp,n_feature, n_sparse, zeta in inps:\n",
    "#             if idp in computed_ids: continue\n",
    "#             future = executor.submit(compute_score, n_feature, n_sparse, zeta)\n",
    "#             future.add_done_callback(lambda p: pbar.update())\n",
    "#             future_to_compute[future] = idp\n",
    "\n",
    "#         for future in as_completed(future_to_compute):\n",
    "#             idp = future_to_compute[future]\n",
    "#             scores_ = future.result()\n",
    "#             for sc in scores_:\n",
    "#                 sc.update(tag=idp)\n",
    "#             scores.extend(scores_)\n",
    "#             topickle(PATH+'cv-scores-0.pck', scores)\n",
    "        \n",
    "scores = pd.DataFrame(scores)"
   ]
  },
  {
   "cell_type": "code",
   "execution_count": 71,
   "metadata": {},
   "outputs": [
    {
     "data": {
      "text/html": [
       "<div>\n",
       "<style scoped>\n",
       "    .dataframe tbody tr th:only-of-type {\n",
       "        vertical-align: middle;\n",
       "    }\n",
       "\n",
       "    .dataframe tbody tr th {\n",
       "        vertical-align: top;\n",
       "    }\n",
       "\n",
       "    .dataframe thead th {\n",
       "        text-align: right;\n",
       "    }\n",
       "</style>\n",
       "<table border=\"1\" class=\"dataframe\">\n",
       "  <thead>\n",
       "    <tr style=\"text-align: right;\">\n",
       "      <th></th>\n",
       "      <th></th>\n",
       "      <th></th>\n",
       "      <th></th>\n",
       "      <th></th>\n",
       "      <th>MAE_e</th>\n",
       "      <th>RMSE_e</th>\n",
       "      <th>SUP_e</th>\n",
       "      <th>R2_e</th>\n",
       "      <th>CORR_e</th>\n",
       "      <th>MAE_f</th>\n",
       "      <th>RMSE_f</th>\n",
       "      <th>SUP_f</th>\n",
       "      <th>R2_f</th>\n",
       "      <th>CORR_f</th>\n",
       "      <th>tag</th>\n",
       "    </tr>\n",
       "    <tr>\n",
       "      <th>tag</th>\n",
       "      <th>n_feature</th>\n",
       "      <th>n_sparse</th>\n",
       "      <th>lambda_e</th>\n",
       "      <th>lambda_f</th>\n",
       "      <th></th>\n",
       "      <th></th>\n",
       "      <th></th>\n",
       "      <th></th>\n",
       "      <th></th>\n",
       "      <th></th>\n",
       "      <th></th>\n",
       "      <th></th>\n",
       "      <th></th>\n",
       "      <th></th>\n",
       "      <th></th>\n",
       "    </tr>\n",
       "  </thead>\n",
       "  <tbody>\n",
       "    <tr>\n",
       "      <th>33</th>\n",
       "      <th>9</th>\n",
       "      <th>1000</th>\n",
       "      <th>0.001</th>\n",
       "      <th>0.001</th>\n",
       "      <td>0.00018</td>\n",
       "      <td>0.000224</td>\n",
       "      <td>0.000526</td>\n",
       "      <td>0.947887</td>\n",
       "      <td>0.962525</td>\n",
       "      <td>0.016408</td>\n",
       "      <td>0.024782</td>\n",
       "      <td>0.210718</td>\n",
       "      <td>-2.250422e-13</td>\n",
       "      <td>NaN</td>\n",
       "      <td>33</td>\n",
       "    </tr>\n",
       "  </tbody>\n",
       "</table>\n",
       "</div>"
      ],
      "text/plain": [
       "                                            MAE_e    RMSE_e     SUP_e  \\\n",
       "tag n_feature n_sparse lambda_e lambda_f                                \n",
       "33  9         1000     0.001    0.001     0.00018  0.000224  0.000526   \n",
       "\n",
       "                                              R2_e    CORR_e     MAE_f  \\\n",
       "tag n_feature n_sparse lambda_e lambda_f                                 \n",
       "33  9         1000     0.001    0.001     0.947887  0.962525  0.016408   \n",
       "\n",
       "                                            RMSE_f     SUP_f          R2_f  \\\n",
       "tag n_feature n_sparse lambda_e lambda_f                                     \n",
       "33  9         1000     0.001    0.001     0.024782  0.210718 -2.250422e-13   \n",
       "\n",
       "                                          CORR_f  tag  \n",
       "tag n_feature n_sparse lambda_e lambda_f               \n",
       "33  9         1000     0.001    0.001        NaN   33  "
      ]
     },
     "execution_count": 71,
     "metadata": {},
     "output_type": "execute_result"
    }
   ],
   "source": [
    "scores = pd.DataFrame(scores)\n",
    "scores.groupby(['n_feature','n_sparse','lambda_e','lambda_f']).mean().groupby(['tag']).apply(\n",
    "    lambda dfg: dfg.nsmallest(1,'RMSE_e')).sort_values('RMSE_e')"
   ]
  },
  {
   "cell_type": "code",
   "execution_count": 15,
   "metadata": {
    "collapsed": true
   },
   "outputs": [
    {
     "data": {
      "text/html": [
       "<div>\n",
       "<style scoped>\n",
       "    .dataframe tbody tr th:only-of-type {\n",
       "        vertical-align: middle;\n",
       "    }\n",
       "\n",
       "    .dataframe tbody tr th {\n",
       "        vertical-align: top;\n",
       "    }\n",
       "\n",
       "    .dataframe thead th {\n",
       "        text-align: right;\n",
       "    }\n",
       "</style>\n",
       "<table border=\"1\" class=\"dataframe\">\n",
       "  <thead>\n",
       "    <tr style=\"text-align: right;\">\n",
       "      <th></th>\n",
       "      <th></th>\n",
       "      <th></th>\n",
       "      <th></th>\n",
       "      <th>MAE_e</th>\n",
       "      <th>RMSE_e</th>\n",
       "      <th>SUP_e</th>\n",
       "      <th>R2_e</th>\n",
       "      <th>CORR_e</th>\n",
       "      <th>tag</th>\n",
       "    </tr>\n",
       "    <tr>\n",
       "      <th>tag</th>\n",
       "      <th>n_feature</th>\n",
       "      <th>n_sparse</th>\n",
       "      <th>lambda_e</th>\n",
       "      <th></th>\n",
       "      <th></th>\n",
       "      <th></th>\n",
       "      <th></th>\n",
       "      <th></th>\n",
       "      <th></th>\n",
       "    </tr>\n",
       "  </thead>\n",
       "  <tbody>\n",
       "    <tr>\n",
       "      <th>52</th>\n",
       "      <th>14640</th>\n",
       "      <th>2000</th>\n",
       "      <th>0.5</th>\n",
       "      <td>0.003650</td>\n",
       "      <td>0.006526</td>\n",
       "      <td>0.188278</td>\n",
       "      <td>0.998725</td>\n",
       "      <td>0.999398</td>\n",
       "      <td>52</td>\n",
       "    </tr>\n",
       "    <tr>\n",
       "      <th>50</th>\n",
       "      <th>9150</th>\n",
       "      <th>2000</th>\n",
       "      <th>0.5</th>\n",
       "      <td>0.003651</td>\n",
       "      <td>0.006528</td>\n",
       "      <td>0.188367</td>\n",
       "      <td>0.998725</td>\n",
       "      <td>0.999398</td>\n",
       "      <td>50</td>\n",
       "    </tr>\n",
       "    <tr>\n",
       "      <th>51</th>\n",
       "      <th>12810</th>\n",
       "      <th>2000</th>\n",
       "      <th>0.5</th>\n",
       "      <td>0.003650</td>\n",
       "      <td>0.006529</td>\n",
       "      <td>0.189073</td>\n",
       "      <td>0.998724</td>\n",
       "      <td>0.999398</td>\n",
       "      <td>51</td>\n",
       "    </tr>\n",
       "    <tr>\n",
       "      <th>53</th>\n",
       "      <th>16470</th>\n",
       "      <th>2000</th>\n",
       "      <th>0.5</th>\n",
       "      <td>0.003652</td>\n",
       "      <td>0.006531</td>\n",
       "      <td>0.188280</td>\n",
       "      <td>0.998724</td>\n",
       "      <td>0.999397</td>\n",
       "      <td>53</td>\n",
       "    </tr>\n",
       "    <tr>\n",
       "      <th>49</th>\n",
       "      <th>5490</th>\n",
       "      <th>2000</th>\n",
       "      <th>0.5</th>\n",
       "      <td>0.003657</td>\n",
       "      <td>0.006564</td>\n",
       "      <td>0.191668</td>\n",
       "      <td>0.998708</td>\n",
       "      <td>0.999395</td>\n",
       "      <td>49</td>\n",
       "    </tr>\n",
       "    <tr>\n",
       "      <th>...</th>\n",
       "      <th>...</th>\n",
       "      <th>...</th>\n",
       "      <th>...</th>\n",
       "      <td>...</td>\n",
       "      <td>...</td>\n",
       "      <td>...</td>\n",
       "      <td>...</td>\n",
       "      <td>...</td>\n",
       "      <td>...</td>\n",
       "    </tr>\n",
       "    <tr>\n",
       "      <th>6</th>\n",
       "      <th>9150</th>\n",
       "      <th>100</th>\n",
       "      <th>0.1</th>\n",
       "      <td>0.014687</td>\n",
       "      <td>0.022247</td>\n",
       "      <td>0.365052</td>\n",
       "      <td>0.985870</td>\n",
       "      <td>0.992999</td>\n",
       "      <td>6</td>\n",
       "    </tr>\n",
       "    <tr>\n",
       "      <th>7</th>\n",
       "      <th>12810</th>\n",
       "      <th>100</th>\n",
       "      <th>0.1</th>\n",
       "      <td>0.014687</td>\n",
       "      <td>0.022248</td>\n",
       "      <td>0.365078</td>\n",
       "      <td>0.985869</td>\n",
       "      <td>0.992999</td>\n",
       "      <td>7</td>\n",
       "    </tr>\n",
       "    <tr>\n",
       "      <th>8</th>\n",
       "      <th>14640</th>\n",
       "      <th>100</th>\n",
       "      <th>0.1</th>\n",
       "      <td>0.014687</td>\n",
       "      <td>0.022248</td>\n",
       "      <td>0.365078</td>\n",
       "      <td>0.985869</td>\n",
       "      <td>0.992999</td>\n",
       "      <td>8</td>\n",
       "    </tr>\n",
       "    <tr>\n",
       "      <th>9</th>\n",
       "      <th>16470</th>\n",
       "      <th>100</th>\n",
       "      <th>0.1</th>\n",
       "      <td>0.014687</td>\n",
       "      <td>0.022248</td>\n",
       "      <td>0.365078</td>\n",
       "      <td>0.985869</td>\n",
       "      <td>0.992999</td>\n",
       "      <td>9</td>\n",
       "    </tr>\n",
       "    <tr>\n",
       "      <th>10</th>\n",
       "      <th>18300</th>\n",
       "      <th>100</th>\n",
       "      <th>0.5</th>\n",
       "      <td>0.017402</td>\n",
       "      <td>0.027598</td>\n",
       "      <td>0.603812</td>\n",
       "      <td>0.978179</td>\n",
       "      <td>0.990232</td>\n",
       "      <td>10</td>\n",
       "    </tr>\n",
       "  </tbody>\n",
       "</table>\n",
       "<p>99 rows × 6 columns</p>\n",
       "</div>"
      ],
      "text/plain": [
       "                                    MAE_e    RMSE_e     SUP_e      R2_e  \\\n",
       "tag n_feature n_sparse lambda_e                                           \n",
       "52  14640     2000     0.5       0.003650  0.006526  0.188278  0.998725   \n",
       "50  9150      2000     0.5       0.003651  0.006528  0.188367  0.998725   \n",
       "51  12810     2000     0.5       0.003650  0.006529  0.189073  0.998724   \n",
       "53  16470     2000     0.5       0.003652  0.006531  0.188280  0.998724   \n",
       "49  5490      2000     0.5       0.003657  0.006564  0.191668  0.998708   \n",
       "...                                   ...       ...       ...       ...   \n",
       "6   9150      100      0.1       0.014687  0.022247  0.365052  0.985870   \n",
       "7   12810     100      0.1       0.014687  0.022248  0.365078  0.985869   \n",
       "8   14640     100      0.1       0.014687  0.022248  0.365078  0.985869   \n",
       "9   16470     100      0.1       0.014687  0.022248  0.365078  0.985869   \n",
       "10  18300     100      0.5       0.017402  0.027598  0.603812  0.978179   \n",
       "\n",
       "                                   CORR_e  tag  \n",
       "tag n_feature n_sparse lambda_e                 \n",
       "52  14640     2000     0.5       0.999398   52  \n",
       "50  9150      2000     0.5       0.999398   50  \n",
       "51  12810     2000     0.5       0.999398   51  \n",
       "53  16470     2000     0.5       0.999397   53  \n",
       "49  5490      2000     0.5       0.999395   49  \n",
       "...                                   ...  ...  \n",
       "6   9150      100      0.1       0.992999    6  \n",
       "7   12810     100      0.1       0.992999    7  \n",
       "8   14640     100      0.1       0.992999    8  \n",
       "9   16470     100      0.1       0.992999    9  \n",
       "10  18300     100      0.5       0.990232   10  \n",
       "\n",
       "[99 rows x 6 columns]"
      ]
     },
     "execution_count": 15,
     "metadata": {},
     "output_type": "execute_result"
    }
   ],
   "source": [
    "# fixed jitter and linalg.lstsq\n",
    "scores_ = pd.DataFrame(frompickle(PATH+'cv-scores-0.pck'))\n",
    "scores_.groupby(['n_feature','n_sparse','lambda_e','lambda_f']).mean().groupby(['tag']).apply(\n",
    "    lambda dfg: dfg.nsmallest(1,'RMSE_e')).sort_values('RMSE_e')"
   ]
  },
  {
   "cell_type": "markdown",
   "metadata": {},
   "source": [
    "# make figure"
   ]
  },
  {
   "cell_type": "code",
   "execution_count": 42,
   "metadata": {},
   "outputs": [
    {
     "data": {
      "text/html": [
       "<div>\n",
       "<style scoped>\n",
       "    .dataframe tbody tr th:only-of-type {\n",
       "        vertical-align: middle;\n",
       "    }\n",
       "\n",
       "    .dataframe tbody tr th {\n",
       "        vertical-align: top;\n",
       "    }\n",
       "\n",
       "    .dataframe thead th {\n",
       "        text-align: right;\n",
       "    }\n",
       "</style>\n",
       "<table border=\"1\" class=\"dataframe\">\n",
       "  <thead>\n",
       "    <tr style=\"text-align: right;\">\n",
       "      <th></th>\n",
       "      <th>tag</th>\n",
       "      <th>$N_{feature}$</th>\n",
       "      <th>$N_{sparse}$</th>\n",
       "      <th>lambda_e</th>\n",
       "      <th>formation energy MAE [meV/atom]</th>\n",
       "      <th>formation energy RMSE [meV/atom]</th>\n",
       "      <th>SUP_e</th>\n",
       "      <th>R2_e</th>\n",
       "      <th>CORR_e</th>\n",
       "    </tr>\n",
       "  </thead>\n",
       "  <tbody>\n",
       "    <tr>\n",
       "      <th>0</th>\n",
       "      <td>0</td>\n",
       "      <td>183</td>\n",
       "      <td>100</td>\n",
       "      <td>0.1</td>\n",
       "      <td>14.048517</td>\n",
       "      <td>20.780838</td>\n",
       "      <td>0.233511</td>\n",
       "      <td>0.987668</td>\n",
       "      <td>0.993502</td>\n",
       "    </tr>\n",
       "    <tr>\n",
       "      <th>1</th>\n",
       "      <td>1</td>\n",
       "      <td>366</td>\n",
       "      <td>100</td>\n",
       "      <td>0.1</td>\n",
       "      <td>14.567883</td>\n",
       "      <td>21.811853</td>\n",
       "      <td>0.311148</td>\n",
       "      <td>0.986419</td>\n",
       "      <td>0.993223</td>\n",
       "    </tr>\n",
       "    <tr>\n",
       "      <th>2</th>\n",
       "      <td>2</td>\n",
       "      <td>915</td>\n",
       "      <td>100</td>\n",
       "      <td>0.1</td>\n",
       "      <td>14.455622</td>\n",
       "      <td>21.720234</td>\n",
       "      <td>0.327330</td>\n",
       "      <td>0.986529</td>\n",
       "      <td>0.993203</td>\n",
       "    </tr>\n",
       "    <tr>\n",
       "      <th>3</th>\n",
       "      <td>3</td>\n",
       "      <td>1830</td>\n",
       "      <td>100</td>\n",
       "      <td>0.1</td>\n",
       "      <td>14.540466</td>\n",
       "      <td>22.043672</td>\n",
       "      <td>0.364937</td>\n",
       "      <td>0.986127</td>\n",
       "      <td>0.993127</td>\n",
       "    </tr>\n",
       "    <tr>\n",
       "      <th>4</th>\n",
       "      <td>4</td>\n",
       "      <td>3660</td>\n",
       "      <td>100</td>\n",
       "      <td>0.1</td>\n",
       "      <td>14.616822</td>\n",
       "      <td>22.167805</td>\n",
       "      <td>0.363393</td>\n",
       "      <td>0.985971</td>\n",
       "      <td>0.993062</td>\n",
       "    </tr>\n",
       "    <tr>\n",
       "      <th>...</th>\n",
       "      <td>...</td>\n",
       "      <td>...</td>\n",
       "      <td>...</td>\n",
       "      <td>...</td>\n",
       "      <td>...</td>\n",
       "      <td>...</td>\n",
       "      <td>...</td>\n",
       "      <td>...</td>\n",
       "      <td>...</td>\n",
       "    </tr>\n",
       "    <tr>\n",
       "      <th>94</th>\n",
       "      <td>94</td>\n",
       "      <td>9150</td>\n",
       "      <td>18000</td>\n",
       "      <td>1.0</td>\n",
       "      <td>5.297884</td>\n",
       "      <td>8.628129</td>\n",
       "      <td>0.179937</td>\n",
       "      <td>0.997866</td>\n",
       "      <td>0.998868</td>\n",
       "    </tr>\n",
       "    <tr>\n",
       "      <th>95</th>\n",
       "      <td>95</td>\n",
       "      <td>12810</td>\n",
       "      <td>18000</td>\n",
       "      <td>1.0</td>\n",
       "      <td>5.297931</td>\n",
       "      <td>8.628078</td>\n",
       "      <td>0.179915</td>\n",
       "      <td>0.997866</td>\n",
       "      <td>0.998868</td>\n",
       "    </tr>\n",
       "    <tr>\n",
       "      <th>96</th>\n",
       "      <td>96</td>\n",
       "      <td>14640</td>\n",
       "      <td>18000</td>\n",
       "      <td>1.0</td>\n",
       "      <td>5.297960</td>\n",
       "      <td>8.628100</td>\n",
       "      <td>0.179919</td>\n",
       "      <td>0.997866</td>\n",
       "      <td>0.998868</td>\n",
       "    </tr>\n",
       "    <tr>\n",
       "      <th>97</th>\n",
       "      <td>97</td>\n",
       "      <td>16470</td>\n",
       "      <td>18000</td>\n",
       "      <td>1.0</td>\n",
       "      <td>5.297910</td>\n",
       "      <td>8.628136</td>\n",
       "      <td>0.179932</td>\n",
       "      <td>0.997866</td>\n",
       "      <td>0.998868</td>\n",
       "    </tr>\n",
       "    <tr>\n",
       "      <th>98</th>\n",
       "      <td>98</td>\n",
       "      <td>18300</td>\n",
       "      <td>18000</td>\n",
       "      <td>1.0</td>\n",
       "      <td>10.504087</td>\n",
       "      <td>16.859575</td>\n",
       "      <td>0.286012</td>\n",
       "      <td>0.991874</td>\n",
       "      <td>0.996025</td>\n",
       "    </tr>\n",
       "  </tbody>\n",
       "</table>\n",
       "<p>99 rows × 9 columns</p>\n",
       "</div>"
      ],
      "text/plain": [
       "    tag  $N_{feature}$  $N_{sparse}$  lambda_e  \\\n",
       "0     0            183           100       0.1   \n",
       "1     1            366           100       0.1   \n",
       "2     2            915           100       0.1   \n",
       "3     3           1830           100       0.1   \n",
       "4     4           3660           100       0.1   \n",
       "..  ...            ...           ...       ...   \n",
       "94   94           9150         18000       1.0   \n",
       "95   95          12810         18000       1.0   \n",
       "96   96          14640         18000       1.0   \n",
       "97   97          16470         18000       1.0   \n",
       "98   98          18300         18000       1.0   \n",
       "\n",
       "    formation energy MAE [meV/atom]  formation energy RMSE [meV/atom]  \\\n",
       "0                         14.048517                         20.780838   \n",
       "1                         14.567883                         21.811853   \n",
       "2                         14.455622                         21.720234   \n",
       "3                         14.540466                         22.043672   \n",
       "4                         14.616822                         22.167805   \n",
       "..                              ...                               ...   \n",
       "94                         5.297884                          8.628129   \n",
       "95                         5.297931                          8.628078   \n",
       "96                         5.297960                          8.628100   \n",
       "97                         5.297910                          8.628136   \n",
       "98                        10.504087                         16.859575   \n",
       "\n",
       "       SUP_e      R2_e    CORR_e  \n",
       "0   0.233511  0.987668  0.993502  \n",
       "1   0.311148  0.986419  0.993223  \n",
       "2   0.327330  0.986529  0.993203  \n",
       "3   0.364937  0.986127  0.993127  \n",
       "4   0.363393  0.985971  0.993062  \n",
       "..       ...       ...       ...  \n",
       "94  0.179937  0.997866  0.998868  \n",
       "95  0.179915  0.997866  0.998868  \n",
       "96  0.179919  0.997866  0.998868  \n",
       "97  0.179932  0.997866  0.998868  \n",
       "98  0.286012  0.991874  0.996025  \n",
       "\n",
       "[99 rows x 9 columns]"
      ]
     },
     "execution_count": 42,
     "metadata": {},
     "output_type": "execute_result"
    }
   ],
   "source": [
    "scores = pd.DataFrame(frompickle(PATH+'cv-scores-full-0.pck'))\n",
    "scores_.append(pd.DataFrame(frompickle(PATH+'cv-scores-full-1.pck')))\n",
    "scores['RMSE_e'] = scores['RMSE_e'] * 1000\n",
    "scores['MAE_e'] = scores['MAE_e'] * 1000\n",
    "best_scores = scores.groupby(['n_feature','n_sparse','lambda_e']).mean().groupby(['tag']).apply(\n",
    "    lambda dfg: dfg.nsmallest(1,'MAE_e')).drop(columns=['tag']).reset_index()\n",
    "best_scores.head(40)\n",
    "\n",
    "data = best_scores.rename(columns={'n_feature':'$N_{feature}$',\n",
    "                            'n_sparse':'$N_{sparse}$',\n",
    "                            'RMSE_e':'formation energy RMSE [meV/atom]',\n",
    "                            'MAE_e':'formation energy MAE [meV/atom]'\n",
    "                           })\n",
    "data"
   ]
  },
  {
   "cell_type": "code",
   "execution_count": 43,
   "metadata": {},
   "outputs": [
    {
     "data": {
      "image/png": "[encoded data removed]",
      "text/plain": [
       "<Figure size 360x360 with 2 Axes>"
      ]
     },
     "metadata": {
      "needs_background": "light"
     },
     "output_type": "display_data"
    }
   ],
   "source": [
    "kwargs = dict(sharex=True, sharey=True, margin_titles=True)\n",
    "with sns.plotting_context(\"paper\",font_scale=1.,rc={\"font.size\":10,\"axes.titlesize\":15,\"axes.labelsize\":15}):\n",
    "    g = plot_contour_overlay(data, x='$N_{feature}$', y='$N_{sparse}$', values='formation energy MAE [meV/atom]' , row=None, col=None, **kwargs)\n",
    "    fname = 'QM9-sparse_vs_feat-rmse_e.png'\n",
    "    # plt.savefig(fpfx+fname, dpi=300, bbox_inches='tight')\n",
    "    plt.show()"
   ]
  },
  {
   "cell_type": "code",
   "execution_count": 41,
   "metadata": {},
   "outputs": [
    {
     "data": {
      "application/vnd.jupyter.widget-view+json": {
       "model_id": "",
       "version_major": 2,
       "version_minor": 0
      },
      "text/plain": [
       "HBox(children=(FloatProgress(value=0.0, max=390.0), HTML(value='')))"
      ]
     },
     "metadata": {},
     "output_type": "display_data"
    },
    {
     "data": {
      "application/vnd.jupyter.widget-view+json": {
       "model_id": "",
       "version_major": 2,
       "version_minor": 0
      },
      "text/plain": [
       "HBox(children=(FloatProgress(value=0.0, max=390.0), HTML(value='')))"
      ]
     },
     "metadata": {},
     "output_type": "display_data"
    }
   ],
   "source": [
    "train_sizes = [500,   1250,   2500,   5000,   7500,  12500,  20000,  25000]\n",
    "cv = LCSplit(cv=ShuffleSplit, n_repeats=[100, 90, 70, 60, 20, 20, 20, 10],\n",
    "                             train_sizes=train_sizes, \n",
    "                         test_size=0.15, random_state=10)\n",
    "zetas = [2]\n",
    "sigmas = {\n",
    "    # 'qm9_test0':1e-7,\n",
    "    #   'qm9_30k-rc_3-gs_vdw5-n_12-l_9-norm':1e-5,\n",
    "    #   'qm9_30k-rc_3-gs_0.3-n_12-l_9-norm':5e-5,\n",
    "    # 'qm9_30k-standard_soap-all_atom_H-rc_3-gs_0.3-n_12-l_9-norm':5e-5,\n",
    "    'qm9_30k-rc_3-gs_vdw5-n_12-l_9-norm-rs_1_2_7':1e-3,\n",
    "    'qm9_30k-rc_3-gs_0.3-n_12-l_9-norm-rs_1_2_7':1e-3\n",
    "         }\n",
    "\n",
    "scores = []\n",
    "\n",
    "# MAE_ref = np.array([6.2011 , 3.5596 , 2.4586 , 1.7491 , 1.4113 , 1.0892 , 0.84063, 0.73578, 0.5082 , 0.36424])\n",
    "# scores = []\n",
    "# for n,mae in zip(train_sizes,MAE_ref):\n",
    "#     scores.append(dict(train_size=n, name='RS ref',MAE=mae))\n",
    "    \n",
    "for name,zeta in product(sigmas.keys(), zetas):\n",
    "    kk = np.load('Kmat-z{}-{}.npy'.format(zeta, name))\n",
    "    for train, test in tqdm(cv.split(y),leave=False, total=np.sum(cv.n_repeats)):\n",
    "        score, y_pred, y_t = test_krr(train, test, kk, y, sigmas[name] , jitter=1e-7)\n",
    "        score = get_score(y_pred/natoms[test]*1000, y_t/natoms[test]*1000)\n",
    "        score.update(train_size=len(train), name=name)\n",
    "        scores.append(score)\n",
    "scores = pd.DataFrame(scores)\n",
    "scores.to_json('lc_scores-2.json')"
   ]
  },
  {
   "cell_type": "code",
   "execution_count": 42,
   "metadata": {},
   "outputs": [],
   "source": [
    "# scores.to_json('lc_scores.json')\n",
    "scores = scores.append(pd.read_json('lc_scores.json'))\n",
    "scores = scores.append(pd.read_json('lc_scores-1.json'))"
   ]
  },
  {
   "cell_type": "code",
   "execution_count": 43,
   "metadata": {
    "scrolled": true
   },
   "outputs": [
    {
     "data": {
      "text/html": [
       "<div>\n",
       "<style scoped>\n",
       "    .dataframe tbody tr th:only-of-type {\n",
       "        vertical-align: middle;\n",
       "    }\n",
       "\n",
       "    .dataframe tbody tr th {\n",
       "        vertical-align: top;\n",
       "    }\n",
       "\n",
       "    .dataframe thead th {\n",
       "        text-align: right;\n",
       "    }\n",
       "</style>\n",
       "<table border=\"1\" class=\"dataframe\">\n",
       "  <thead>\n",
       "    <tr style=\"text-align: right;\">\n",
       "      <th></th>\n",
       "      <th></th>\n",
       "      <th>CORR</th>\n",
       "      <th>MAE</th>\n",
       "      <th>R2</th>\n",
       "      <th>RMSE</th>\n",
       "      <th>SUP</th>\n",
       "    </tr>\n",
       "    <tr>\n",
       "      <th>name</th>\n",
       "      <th>train_size</th>\n",
       "      <th></th>\n",
       "      <th></th>\n",
       "      <th></th>\n",
       "      <th></th>\n",
       "      <th></th>\n",
       "    </tr>\n",
       "  </thead>\n",
       "  <tbody>\n",
       "    <tr>\n",
       "      <th rowspan=\"8\" valign=\"top\">RS ref</th>\n",
       "      <th>500</th>\n",
       "      <td>NaN</td>\n",
       "      <td>6.201100</td>\n",
       "      <td>NaN</td>\n",
       "      <td>NaN</td>\n",
       "      <td>NaN</td>\n",
       "    </tr>\n",
       "    <tr>\n",
       "      <th>1250</th>\n",
       "      <td>NaN</td>\n",
       "      <td>3.559600</td>\n",
       "      <td>NaN</td>\n",
       "      <td>NaN</td>\n",
       "      <td>NaN</td>\n",
       "    </tr>\n",
       "    <tr>\n",
       "      <th>2500</th>\n",
       "      <td>NaN</td>\n",
       "      <td>2.458600</td>\n",
       "      <td>NaN</td>\n",
       "      <td>NaN</td>\n",
       "      <td>NaN</td>\n",
       "    </tr>\n",
       "    <tr>\n",
       "      <th>5000</th>\n",
       "      <td>NaN</td>\n",
       "      <td>1.749100</td>\n",
       "      <td>NaN</td>\n",
       "      <td>NaN</td>\n",
       "      <td>NaN</td>\n",
       "    </tr>\n",
       "    <tr>\n",
       "      <th>7500</th>\n",
       "      <td>NaN</td>\n",
       "      <td>1.411300</td>\n",
       "      <td>NaN</td>\n",
       "      <td>NaN</td>\n",
       "      <td>NaN</td>\n",
       "    </tr>\n",
       "    <tr>\n",
       "      <th>12500</th>\n",
       "      <td>NaN</td>\n",
       "      <td>1.089200</td>\n",
       "      <td>NaN</td>\n",
       "      <td>NaN</td>\n",
       "      <td>NaN</td>\n",
       "    </tr>\n",
       "    <tr>\n",
       "      <th>20000</th>\n",
       "      <td>NaN</td>\n",
       "      <td>0.840630</td>\n",
       "      <td>NaN</td>\n",
       "      <td>NaN</td>\n",
       "      <td>NaN</td>\n",
       "    </tr>\n",
       "    <tr>\n",
       "      <th>25000</th>\n",
       "      <td>NaN</td>\n",
       "      <td>0.735780</td>\n",
       "      <td>NaN</td>\n",
       "      <td>NaN</td>\n",
       "      <td>NaN</td>\n",
       "    </tr>\n",
       "    <tr>\n",
       "      <th rowspan=\"8\" valign=\"top\">qm9_30k-rc_3-gs_0.3-n_12-l_9-norm</th>\n",
       "      <th>500</th>\n",
       "      <td>0.997249</td>\n",
       "      <td>8.522425</td>\n",
       "      <td>0.994517</td>\n",
       "      <td>13.762963</td>\n",
       "      <td>265.383973</td>\n",
       "    </tr>\n",
       "    <tr>\n",
       "      <th>1250</th>\n",
       "      <td>0.998721</td>\n",
       "      <td>5.321047</td>\n",
       "      <td>0.996870</td>\n",
       "      <td>10.319427</td>\n",
       "      <td>329.787740</td>\n",
       "    </tr>\n",
       "    <tr>\n",
       "      <th>2500</th>\n",
       "      <td>0.999209</td>\n",
       "      <td>4.121834</td>\n",
       "      <td>0.998052</td>\n",
       "      <td>8.060102</td>\n",
       "      <td>257.079320</td>\n",
       "    </tr>\n",
       "    <tr>\n",
       "      <th>5000</th>\n",
       "      <td>0.999433</td>\n",
       "      <td>3.146349</td>\n",
       "      <td>0.998734</td>\n",
       "      <td>6.387216</td>\n",
       "      <td>203.677444</td>\n",
       "    </tr>\n",
       "    <tr>\n",
       "      <th>7500</th>\n",
       "      <td>0.999511</td>\n",
       "      <td>2.569671</td>\n",
       "      <td>0.998631</td>\n",
       "      <td>6.574065</td>\n",
       "      <td>278.390692</td>\n",
       "    </tr>\n",
       "    <tr>\n",
       "      <th>12500</th>\n",
       "      <td>0.999682</td>\n",
       "      <td>1.923240</td>\n",
       "      <td>0.998904</td>\n",
       "      <td>5.556630</td>\n",
       "      <td>252.519022</td>\n",
       "    </tr>\n",
       "    <tr>\n",
       "      <th>20000</th>\n",
       "      <td>0.999721</td>\n",
       "      <td>1.613799</td>\n",
       "      <td>0.998423</td>\n",
       "      <td>6.747723</td>\n",
       "      <td>370.302798</td>\n",
       "    </tr>\n",
       "    <tr>\n",
       "      <th>25000</th>\n",
       "      <td>0.999808</td>\n",
       "      <td>1.448849</td>\n",
       "      <td>0.998783</td>\n",
       "      <td>5.615282</td>\n",
       "      <td>306.551871</td>\n",
       "    </tr>\n",
       "    <tr>\n",
       "      <th rowspan=\"8\" valign=\"top\">qm9_30k-rc_3-gs_0.3-n_12-l_9-norm-rs_1_2_7</th>\n",
       "      <th>500</th>\n",
       "      <td>0.991190</td>\n",
       "      <td>16.638346</td>\n",
       "      <td>0.983216</td>\n",
       "      <td>24.155367</td>\n",
       "      <td>326.815645</td>\n",
       "    </tr>\n",
       "    <tr>\n",
       "      <th>1250</th>\n",
       "      <td>0.996300</td>\n",
       "      <td>10.293158</td>\n",
       "      <td>0.992955</td>\n",
       "      <td>15.684550</td>\n",
       "      <td>256.496032</td>\n",
       "    </tr>\n",
       "    <tr>\n",
       "      <th>2500</th>\n",
       "      <td>0.998245</td>\n",
       "      <td>6.915375</td>\n",
       "      <td>0.996611</td>\n",
       "      <td>10.865783</td>\n",
       "      <td>221.281676</td>\n",
       "    </tr>\n",
       "    <tr>\n",
       "      <th>5000</th>\n",
       "      <td>0.999161</td>\n",
       "      <td>4.606184</td>\n",
       "      <td>0.998365</td>\n",
       "      <td>7.493436</td>\n",
       "      <td>175.597542</td>\n",
       "    </tr>\n",
       "    <tr>\n",
       "      <th>7500</th>\n",
       "      <td>0.999416</td>\n",
       "      <td>3.719206</td>\n",
       "      <td>0.998795</td>\n",
       "      <td>6.390539</td>\n",
       "      <td>169.679948</td>\n",
       "    </tr>\n",
       "    <tr>\n",
       "      <th>12500</th>\n",
       "      <td>0.999621</td>\n",
       "      <td>2.905206</td>\n",
       "      <td>0.998922</td>\n",
       "      <td>5.790416</td>\n",
       "      <td>207.546746</td>\n",
       "    </tr>\n",
       "    <tr>\n",
       "      <th>20000</th>\n",
       "      <td>0.999721</td>\n",
       "      <td>2.388923</td>\n",
       "      <td>0.998663</td>\n",
       "      <td>6.388086</td>\n",
       "      <td>312.091608</td>\n",
       "    </tr>\n",
       "    <tr>\n",
       "      <th>25000</th>\n",
       "      <td>0.999763</td>\n",
       "      <td>2.159184</td>\n",
       "      <td>0.998847</td>\n",
       "      <td>5.743333</td>\n",
       "      <td>278.831156</td>\n",
       "    </tr>\n",
       "    <tr>\n",
       "      <th rowspan=\"8\" valign=\"top\">qm9_30k-rc_3-gs_vdw5-n_12-l_9-norm</th>\n",
       "      <th>500</th>\n",
       "      <td>0.998151</td>\n",
       "      <td>6.936683</td>\n",
       "      <td>0.996262</td>\n",
       "      <td>11.350900</td>\n",
       "      <td>234.181633</td>\n",
       "    </tr>\n",
       "    <tr>\n",
       "      <th>1250</th>\n",
       "      <td>0.999074</td>\n",
       "      <td>4.626525</td>\n",
       "      <td>0.997625</td>\n",
       "      <td>8.932250</td>\n",
       "      <td>290.671383</td>\n",
       "    </tr>\n",
       "    <tr>\n",
       "      <th>2500</th>\n",
       "      <td>0.999324</td>\n",
       "      <td>3.654282</td>\n",
       "      <td>0.998139</td>\n",
       "      <td>7.772531</td>\n",
       "      <td>282.752742</td>\n",
       "    </tr>\n",
       "    <tr>\n",
       "      <th>5000</th>\n",
       "      <td>0.999482</td>\n",
       "      <td>2.792669</td>\n",
       "      <td>0.998634</td>\n",
       "      <td>6.437156</td>\n",
       "      <td>234.046502</td>\n",
       "    </tr>\n",
       "    <tr>\n",
       "      <th>7500</th>\n",
       "      <td>0.999563</td>\n",
       "      <td>2.214254</td>\n",
       "      <td>0.998845</td>\n",
       "      <td>6.015256</td>\n",
       "      <td>255.527500</td>\n",
       "    </tr>\n",
       "    <tr>\n",
       "      <th>12500</th>\n",
       "      <td>0.999663</td>\n",
       "      <td>1.675156</td>\n",
       "      <td>0.998444</td>\n",
       "      <td>6.647866</td>\n",
       "      <td>346.663605</td>\n",
       "    </tr>\n",
       "    <tr>\n",
       "      <th>20000</th>\n",
       "      <td>0.999734</td>\n",
       "      <td>1.359504</td>\n",
       "      <td>0.998501</td>\n",
       "      <td>6.447004</td>\n",
       "      <td>354.406898</td>\n",
       "    </tr>\n",
       "    <tr>\n",
       "      <th>25000</th>\n",
       "      <td>0.999749</td>\n",
       "      <td>1.211261</td>\n",
       "      <td>0.998842</td>\n",
       "      <td>5.461430</td>\n",
       "      <td>294.946366</td>\n",
       "    </tr>\n",
       "    <tr>\n",
       "      <th rowspan=\"8\" valign=\"top\">qm9_30k-rc_3-gs_vdw5-n_12-l_9-norm-rs_1_2_7</th>\n",
       "      <th>500</th>\n",
       "      <td>0.992996</td>\n",
       "      <td>14.663138</td>\n",
       "      <td>0.986566</td>\n",
       "      <td>21.598023</td>\n",
       "      <td>346.640233</td>\n",
       "    </tr>\n",
       "    <tr>\n",
       "      <th>1250</th>\n",
       "      <td>0.997674</td>\n",
       "      <td>8.045214</td>\n",
       "      <td>0.995293</td>\n",
       "      <td>12.766115</td>\n",
       "      <td>288.958590</td>\n",
       "    </tr>\n",
       "    <tr>\n",
       "      <th>2500</th>\n",
       "      <td>0.998853</td>\n",
       "      <td>5.494925</td>\n",
       "      <td>0.997560</td>\n",
       "      <td>9.139064</td>\n",
       "      <td>243.117339</td>\n",
       "    </tr>\n",
       "    <tr>\n",
       "      <th>5000</th>\n",
       "      <td>0.999411</td>\n",
       "      <td>3.788455</td>\n",
       "      <td>0.998649</td>\n",
       "      <td>6.697555</td>\n",
       "      <td>199.193928</td>\n",
       "    </tr>\n",
       "    <tr>\n",
       "      <th>7500</th>\n",
       "      <td>0.999591</td>\n",
       "      <td>3.065480</td>\n",
       "      <td>0.998883</td>\n",
       "      <td>6.048928</td>\n",
       "      <td>222.914923</td>\n",
       "    </tr>\n",
       "    <tr>\n",
       "      <th>12500</th>\n",
       "      <td>0.999718</td>\n",
       "      <td>2.413134</td>\n",
       "      <td>0.998872</td>\n",
       "      <td>5.771678</td>\n",
       "      <td>252.891415</td>\n",
       "    </tr>\n",
       "    <tr>\n",
       "      <th>20000</th>\n",
       "      <td>0.999780</td>\n",
       "      <td>2.017850</td>\n",
       "      <td>0.998568</td>\n",
       "      <td>6.517522</td>\n",
       "      <td>352.823783</td>\n",
       "    </tr>\n",
       "    <tr>\n",
       "      <th>25000</th>\n",
       "      <td>0.999792</td>\n",
       "      <td>1.816933</td>\n",
       "      <td>0.998793</td>\n",
       "      <td>5.682829</td>\n",
       "      <td>294.961367</td>\n",
       "    </tr>\n",
       "    <tr>\n",
       "      <th rowspan=\"8\" valign=\"top\">qm9_30k-standard_soap-all_atom_H-rc_3-gs_0.3-n_12-l_9-norm</th>\n",
       "      <th>500</th>\n",
       "      <td>0.997545</td>\n",
       "      <td>7.972349</td>\n",
       "      <td>0.995080</td>\n",
       "      <td>13.036643</td>\n",
       "      <td>248.966775</td>\n",
       "    </tr>\n",
       "    <tr>\n",
       "      <th>1250</th>\n",
       "      <td>0.998872</td>\n",
       "      <td>4.934809</td>\n",
       "      <td>0.997232</td>\n",
       "      <td>9.698948</td>\n",
       "      <td>304.221707</td>\n",
       "    </tr>\n",
       "    <tr>\n",
       "      <th>2500</th>\n",
       "      <td>0.999311</td>\n",
       "      <td>3.670472</td>\n",
       "      <td>0.998204</td>\n",
       "      <td>7.654763</td>\n",
       "      <td>263.495777</td>\n",
       "    </tr>\n",
       "    <tr>\n",
       "      <th>5000</th>\n",
       "      <td>0.999529</td>\n",
       "      <td>2.803087</td>\n",
       "      <td>0.998807</td>\n",
       "      <td>6.108165</td>\n",
       "      <td>224.232222</td>\n",
       "    </tr>\n",
       "    <tr>\n",
       "      <th>7500</th>\n",
       "      <td>0.999601</td>\n",
       "      <td>2.338308</td>\n",
       "      <td>0.998841</td>\n",
       "      <td>5.951323</td>\n",
       "      <td>248.054449</td>\n",
       "    </tr>\n",
       "    <tr>\n",
       "      <th>12500</th>\n",
       "      <td>0.999694</td>\n",
       "      <td>1.796104</td>\n",
       "      <td>0.998834</td>\n",
       "      <td>5.686867</td>\n",
       "      <td>275.855117</td>\n",
       "    </tr>\n",
       "    <tr>\n",
       "      <th>20000</th>\n",
       "      <td>0.999735</td>\n",
       "      <td>1.447638</td>\n",
       "      <td>0.998480</td>\n",
       "      <td>6.605132</td>\n",
       "      <td>375.143363</td>\n",
       "    </tr>\n",
       "    <tr>\n",
       "      <th>25000</th>\n",
       "      <td>0.999798</td>\n",
       "      <td>1.270632</td>\n",
       "      <td>0.998865</td>\n",
       "      <td>5.281967</td>\n",
       "      <td>282.018992</td>\n",
       "    </tr>\n",
       "    <tr>\n",
       "      <th rowspan=\"8\" valign=\"top\">qm9_test0</th>\n",
       "      <th>500</th>\n",
       "      <td>0.987133</td>\n",
       "      <td>19.345862</td>\n",
       "      <td>0.969826</td>\n",
       "      <td>31.897758</td>\n",
       "      <td>725.241730</td>\n",
       "    </tr>\n",
       "    <tr>\n",
       "      <th>1250</th>\n",
       "      <td>0.993337</td>\n",
       "      <td>13.053345</td>\n",
       "      <td>0.979504</td>\n",
       "      <td>25.494702</td>\n",
       "      <td>720.079232</td>\n",
       "    </tr>\n",
       "    <tr>\n",
       "      <th>2500</th>\n",
       "      <td>0.996443</td>\n",
       "      <td>8.677076</td>\n",
       "      <td>0.988850</td>\n",
       "      <td>18.772054</td>\n",
       "      <td>629.477893</td>\n",
       "    </tr>\n",
       "    <tr>\n",
       "      <th>5000</th>\n",
       "      <td>0.998302</td>\n",
       "      <td>5.844929</td>\n",
       "      <td>0.994133</td>\n",
       "      <td>13.368794</td>\n",
       "      <td>504.144034</td>\n",
       "    </tr>\n",
       "    <tr>\n",
       "      <th>7500</th>\n",
       "      <td>0.998595</td>\n",
       "      <td>4.970716</td>\n",
       "      <td>0.993799</td>\n",
       "      <td>13.725832</td>\n",
       "      <td>606.581921</td>\n",
       "    </tr>\n",
       "    <tr>\n",
       "      <th>12500</th>\n",
       "      <td>0.999000</td>\n",
       "      <td>4.082881</td>\n",
       "      <td>0.996931</td>\n",
       "      <td>9.621364</td>\n",
       "      <td>397.180115</td>\n",
       "    </tr>\n",
       "    <tr>\n",
       "      <th>20000</th>\n",
       "      <td>0.999365</td>\n",
       "      <td>3.611301</td>\n",
       "      <td>0.997030</td>\n",
       "      <td>9.561615</td>\n",
       "      <td>438.918852</td>\n",
       "    </tr>\n",
       "    <tr>\n",
       "      <th>25000</th>\n",
       "      <td>0.999469</td>\n",
       "      <td>3.338969</td>\n",
       "      <td>0.998478</td>\n",
       "      <td>6.929080</td>\n",
       "      <td>259.818750</td>\n",
       "    </tr>\n",
       "  </tbody>\n",
       "</table>\n",
       "</div>"
      ],
      "text/plain": [
       "                                                                   CORR  \\\n",
       "name                                               train_size             \n",
       "RS ref                                             500              NaN   \n",
       "                                                   1250             NaN   \n",
       "                                                   2500             NaN   \n",
       "                                                   5000             NaN   \n",
       "                                                   7500             NaN   \n",
       "                                                   12500            NaN   \n",
       "                                                   20000            NaN   \n",
       "                                                   25000            NaN   \n",
       "qm9_30k-rc_3-gs_0.3-n_12-l_9-norm                  500         0.997249   \n",
       "                                                   1250        0.998721   \n",
       "                                                   2500        0.999209   \n",
       "                                                   5000        0.999433   \n",
       "                                                   7500        0.999511   \n",
       "                                                   12500       0.999682   \n",
       "                                                   20000       0.999721   \n",
       "                                                   25000       0.999808   \n",
       "qm9_30k-rc_3-gs_0.3-n_12-l_9-norm-rs_1_2_7         500         0.991190   \n",
       "                                                   1250        0.996300   \n",
       "                                                   2500        0.998245   \n",
       "                                                   5000        0.999161   \n",
       "                                                   7500        0.999416   \n",
       "                                                   12500       0.999621   \n",
       "                                                   20000       0.999721   \n",
       "                                                   25000       0.999763   \n",
       "qm9_30k-rc_3-gs_vdw5-n_12-l_9-norm                 500         0.998151   \n",
       "                                                   1250        0.999074   \n",
       "                                                   2500        0.999324   \n",
       "                                                   5000        0.999482   \n",
       "                                                   7500        0.999563   \n",
       "                                                   12500       0.999663   \n",
       "                                                   20000       0.999734   \n",
       "                                                   25000       0.999749   \n",
       "qm9_30k-rc_3-gs_vdw5-n_12-l_9-norm-rs_1_2_7        500         0.992996   \n",
       "                                                   1250        0.997674   \n",
       "                                                   2500        0.998853   \n",
       "                                                   5000        0.999411   \n",
       "                                                   7500        0.999591   \n",
       "                                                   12500       0.999718   \n",
       "                                                   20000       0.999780   \n",
       "                                                   25000       0.999792   \n",
       "qm9_30k-standard_soap-all_atom_H-rc_3-gs_0.3-n_... 500         0.997545   \n",
       "                                                   1250        0.998872   \n",
       "                                                   2500        0.999311   \n",
       "                                                   5000        0.999529   \n",
       "                                                   7500        0.999601   \n",
       "                                                   12500       0.999694   \n",
       "                                                   20000       0.999735   \n",
       "                                                   25000       0.999798   \n",
       "qm9_test0                                          500         0.987133   \n",
       "                                                   1250        0.993337   \n",
       "                                                   2500        0.996443   \n",
       "                                                   5000        0.998302   \n",
       "                                                   7500        0.998595   \n",
       "                                                   12500       0.999000   \n",
       "                                                   20000       0.999365   \n",
       "                                                   25000       0.999469   \n",
       "\n",
       "                                                                     MAE  \\\n",
       "name                                               train_size              \n",
       "RS ref                                             500          6.201100   \n",
       "                                                   1250         3.559600   \n",
       "                                                   2500         2.458600   \n",
       "                                                   5000         1.749100   \n",
       "                                                   7500         1.411300   \n",
       "                                                   12500        1.089200   \n",
       "                                                   20000        0.840630   \n",
       "                                                   25000        0.735780   \n",
       "qm9_30k-rc_3-gs_0.3-n_12-l_9-norm                  500          8.522425   \n",
       "                                                   1250         5.321047   \n",
       "                                                   2500         4.121834   \n",
       "                                                   5000         3.146349   \n",
       "                                                   7500         2.569671   \n",
       "                                                   12500        1.923240   \n",
       "                                                   20000        1.613799   \n",
       "                                                   25000        1.448849   \n",
       "qm9_30k-rc_3-gs_0.3-n_12-l_9-norm-rs_1_2_7         500         16.638346   \n",
       "                                                   1250        10.293158   \n",
       "                                                   2500         6.915375   \n",
       "                                                   5000         4.606184   \n",
       "                                                   7500         3.719206   \n",
       "                                                   12500        2.905206   \n",
       "                                                   20000        2.388923   \n",
       "                                                   25000        2.159184   \n",
       "qm9_30k-rc_3-gs_vdw5-n_12-l_9-norm                 500          6.936683   \n",
       "                                                   1250         4.626525   \n",
       "                                                   2500         3.654282   \n",
       "                                                   5000         2.792669   \n",
       "                                                   7500         2.214254   \n",
       "                                                   12500        1.675156   \n",
       "                                                   20000        1.359504   \n",
       "                                                   25000        1.211261   \n",
       "qm9_30k-rc_3-gs_vdw5-n_12-l_9-norm-rs_1_2_7        500         14.663138   \n",
       "                                                   1250         8.045214   \n",
       "                                                   2500         5.494925   \n",
       "                                                   5000         3.788455   \n",
       "                                                   7500         3.065480   \n",
       "                                                   12500        2.413134   \n",
       "                                                   20000        2.017850   \n",
       "                                                   25000        1.816933   \n",
       "qm9_30k-standard_soap-all_atom_H-rc_3-gs_0.3-n_... 500          7.972349   \n",
       "                                                   1250         4.934809   \n",
       "                                                   2500         3.670472   \n",
       "                                                   5000         2.803087   \n",
       "                                                   7500         2.338308   \n",
       "                                                   12500        1.796104   \n",
       "                                                   20000        1.447638   \n",
       "                                                   25000        1.270632   \n",
       "qm9_test0                                          500         19.345862   \n",
       "                                                   1250        13.053345   \n",
       "                                                   2500         8.677076   \n",
       "                                                   5000         5.844929   \n",
       "                                                   7500         4.970716   \n",
       "                                                   12500        4.082881   \n",
       "                                                   20000        3.611301   \n",
       "                                                   25000        3.338969   \n",
       "\n",
       "                                                                     R2  \\\n",
       "name                                               train_size             \n",
       "RS ref                                             500              NaN   \n",
       "                                                   1250             NaN   \n",
       "                                                   2500             NaN   \n",
       "                                                   5000             NaN   \n",
       "                                                   7500             NaN   \n",
       "                                                   12500            NaN   \n",
       "                                                   20000            NaN   \n",
       "                                                   25000            NaN   \n",
       "qm9_30k-rc_3-gs_0.3-n_12-l_9-norm                  500         0.994517   \n",
       "                                                   1250        0.996870   \n",
       "                                                   2500        0.998052   \n",
       "                                                   5000        0.998734   \n",
       "                                                   7500        0.998631   \n",
       "                                                   12500       0.998904   \n",
       "                                                   20000       0.998423   \n",
       "                                                   25000       0.998783   \n",
       "qm9_30k-rc_3-gs_0.3-n_12-l_9-norm-rs_1_2_7         500         0.983216   \n",
       "                                                   1250        0.992955   \n",
       "                                                   2500        0.996611   \n",
       "                                                   5000        0.998365   \n",
       "                                                   7500        0.998795   \n",
       "                                                   12500       0.998922   \n",
       "                                                   20000       0.998663   \n",
       "                                                   25000       0.998847   \n",
       "qm9_30k-rc_3-gs_vdw5-n_12-l_9-norm                 500         0.996262   \n",
       "                                                   1250        0.997625   \n",
       "                                                   2500        0.998139   \n",
       "                                                   5000        0.998634   \n",
       "                                                   7500        0.998845   \n",
       "                                                   12500       0.998444   \n",
       "                                                   20000       0.998501   \n",
       "                                                   25000       0.998842   \n",
       "qm9_30k-rc_3-gs_vdw5-n_12-l_9-norm-rs_1_2_7        500         0.986566   \n",
       "                                                   1250        0.995293   \n",
       "                                                   2500        0.997560   \n",
       "                                                   5000        0.998649   \n",
       "                                                   7500        0.998883   \n",
       "                                                   12500       0.998872   \n",
       "                                                   20000       0.998568   \n",
       "                                                   25000       0.998793   \n",
       "qm9_30k-standard_soap-all_atom_H-rc_3-gs_0.3-n_... 500         0.995080   \n",
       "                                                   1250        0.997232   \n",
       "                                                   2500        0.998204   \n",
       "                                                   5000        0.998807   \n",
       "                                                   7500        0.998841   \n",
       "                                                   12500       0.998834   \n",
       "                                                   20000       0.998480   \n",
       "                                                   25000       0.998865   \n",
       "qm9_test0                                          500         0.969826   \n",
       "                                                   1250        0.979504   \n",
       "                                                   2500        0.988850   \n",
       "                                                   5000        0.994133   \n",
       "                                                   7500        0.993799   \n",
       "                                                   12500       0.996931   \n",
       "                                                   20000       0.997030   \n",
       "                                                   25000       0.998478   \n",
       "\n",
       "                                                                    RMSE  \\\n",
       "name                                               train_size              \n",
       "RS ref                                             500               NaN   \n",
       "                                                   1250              NaN   \n",
       "                                                   2500              NaN   \n",
       "                                                   5000              NaN   \n",
       "                                                   7500              NaN   \n",
       "                                                   12500             NaN   \n",
       "                                                   20000             NaN   \n",
       "                                                   25000             NaN   \n",
       "qm9_30k-rc_3-gs_0.3-n_12-l_9-norm                  500         13.762963   \n",
       "                                                   1250        10.319427   \n",
       "                                                   2500         8.060102   \n",
       "                                                   5000         6.387216   \n",
       "                                                   7500         6.574065   \n",
       "                                                   12500        5.556630   \n",
       "                                                   20000        6.747723   \n",
       "                                                   25000        5.615282   \n",
       "qm9_30k-rc_3-gs_0.3-n_12-l_9-norm-rs_1_2_7         500         24.155367   \n",
       "                                                   1250        15.684550   \n",
       "                                                   2500        10.865783   \n",
       "                                                   5000         7.493436   \n",
       "                                                   7500         6.390539   \n",
       "                                                   12500        5.790416   \n",
       "                                                   20000        6.388086   \n",
       "                                                   25000        5.743333   \n",
       "qm9_30k-rc_3-gs_vdw5-n_12-l_9-norm                 500         11.350900   \n",
       "                                                   1250         8.932250   \n",
       "                                                   2500         7.772531   \n",
       "                                                   5000         6.437156   \n",
       "                                                   7500         6.015256   \n",
       "                                                   12500        6.647866   \n",
       "                                                   20000        6.447004   \n",
       "                                                   25000        5.461430   \n",
       "qm9_30k-rc_3-gs_vdw5-n_12-l_9-norm-rs_1_2_7        500         21.598023   \n",
       "                                                   1250        12.766115   \n",
       "                                                   2500         9.139064   \n",
       "                                                   5000         6.697555   \n",
       "                                                   7500         6.048928   \n",
       "                                                   12500        5.771678   \n",
       "                                                   20000        6.517522   \n",
       "                                                   25000        5.682829   \n",
       "qm9_30k-standard_soap-all_atom_H-rc_3-gs_0.3-n_... 500         13.036643   \n",
       "                                                   1250         9.698948   \n",
       "                                                   2500         7.654763   \n",
       "                                                   5000         6.108165   \n",
       "                                                   7500         5.951323   \n",
       "                                                   12500        5.686867   \n",
       "                                                   20000        6.605132   \n",
       "                                                   25000        5.281967   \n",
       "qm9_test0                                          500         31.897758   \n",
       "                                                   1250        25.494702   \n",
       "                                                   2500        18.772054   \n",
       "                                                   5000        13.368794   \n",
       "                                                   7500        13.725832   \n",
       "                                                   12500        9.621364   \n",
       "                                                   20000        9.561615   \n",
       "                                                   25000        6.929080   \n",
       "\n",
       "                                                                      SUP  \n",
       "name                                               train_size              \n",
       "RS ref                                             500                NaN  \n",
       "                                                   1250               NaN  \n",
       "                                                   2500               NaN  \n",
       "                                                   5000               NaN  \n",
       "                                                   7500               NaN  \n",
       "                                                   12500              NaN  \n",
       "                                                   20000              NaN  \n",
       "                                                   25000              NaN  \n",
       "qm9_30k-rc_3-gs_0.3-n_12-l_9-norm                  500         265.383973  \n",
       "                                                   1250        329.787740  \n",
       "                                                   2500        257.079320  \n",
       "                                                   5000        203.677444  \n",
       "                                                   7500        278.390692  \n",
       "                                                   12500       252.519022  \n",
       "                                                   20000       370.302798  \n",
       "                                                   25000       306.551871  \n",
       "qm9_30k-rc_3-gs_0.3-n_12-l_9-norm-rs_1_2_7         500         326.815645  \n",
       "                                                   1250        256.496032  \n",
       "                                                   2500        221.281676  \n",
       "                                                   5000        175.597542  \n",
       "                                                   7500        169.679948  \n",
       "                                                   12500       207.546746  \n",
       "                                                   20000       312.091608  \n",
       "                                                   25000       278.831156  \n",
       "qm9_30k-rc_3-gs_vdw5-n_12-l_9-norm                 500         234.181633  \n",
       "                                                   1250        290.671383  \n",
       "                                                   2500        282.752742  \n",
       "                                                   5000        234.046502  \n",
       "                                                   7500        255.527500  \n",
       "                                                   12500       346.663605  \n",
       "                                                   20000       354.406898  \n",
       "                                                   25000       294.946366  \n",
       "qm9_30k-rc_3-gs_vdw5-n_12-l_9-norm-rs_1_2_7        500         346.640233  \n",
       "                                                   1250        288.958590  \n",
       "                                                   2500        243.117339  \n",
       "                                                   5000        199.193928  \n",
       "                                                   7500        222.914923  \n",
       "                                                   12500       252.891415  \n",
       "                                                   20000       352.823783  \n",
       "                                                   25000       294.961367  \n",
       "qm9_30k-standard_soap-all_atom_H-rc_3-gs_0.3-n_... 500         248.966775  \n",
       "                                                   1250        304.221707  \n",
       "                                                   2500        263.495777  \n",
       "                                                   5000        224.232222  \n",
       "                                                   7500        248.054449  \n",
       "                                                   12500       275.855117  \n",
       "                                                   20000       375.143363  \n",
       "                                                   25000       282.018992  \n",
       "qm9_test0                                          500         725.241730  \n",
       "                                                   1250        720.079232  \n",
       "                                                   2500        629.477893  \n",
       "                                                   5000        504.144034  \n",
       "                                                   7500        606.581921  \n",
       "                                                   12500       397.180115  \n",
       "                                                   20000       438.918852  \n",
       "                                                   25000       259.818750  "
      ]
     },
     "execution_count": 43,
     "metadata": {},
     "output_type": "execute_result"
    }
   ],
   "source": [
    "scores.groupby(['name','train_size']).mean()"
   ]
  },
  {
   "cell_type": "code",
   "execution_count": 44,
   "metadata": {},
   "outputs": [
    {
     "data": {
      "image/png": "[encoded data removed]",
      "text/plain": [
       "<Figure size 432x288 with 1 Axes>"
      ]
     },
     "metadata": {
      "needs_background": "light"
     },
     "output_type": "display_data"
    }
   ],
   "source": [
    "sns.lineplot(data=scores, x='train_size', y='MAE',hue='name', estimator=np.mean,\n",
    "               dashes=True,markers=True,err_style=\"bars\")\n",
    "plt.xscale('log')\n",
    "plt.yscale('log')\n",
    "plt.legend(title='kernel',loc='upper right', bbox_to_anchor=(2.1, 1))\n",
    "plt.savefig('lc-qm9.png', dpi=300, bbox_inches='tight')"
   ]
  },
  {
   "cell_type": "code",
   "execution_count": 172,
   "metadata": {},
   "outputs": [],
   "source": [
    "sns.lineplot?"
   ]
  },
  {
   "cell_type": "code",
   "execution_count": 161,
   "metadata": {},
   "outputs": [],
   "source": [
    "df = scores.groupby(['name','train_size']).mean()"
   ]
  },
  {
   "cell_type": "code",
   "execution_count": 165,
   "metadata": {},
   "outputs": [],
   "source": [
    "df.groupby?"
   ]
  },
  {
   "cell_type": "code",
   "execution_count": null,
   "metadata": {},
   "outputs": [],
   "source": []
  }
 ],
 "metadata": {
  "kernelspec": {
   "display_name": "rascal_benchmark",
   "language": "python",
   "name": "rascal_benchmark"
  },
  "language_info": {
   "codemirror_mode": {
    "name": "ipython",
    "version": 3
   },
   "file_extension": ".py",
   "mimetype": "text/x-python",
   "name": "python",
   "nbconvert_exporter": "python",
   "pygments_lexer": "ipython3",
   "version": "3.7.6"
  },
  "latex_envs": {
   "LaTeX_envs_menu_present": true,
   "autoclose": false,
   "autocomplete": true,
   "bibliofile": "biblio.bib",
   "cite_by": "apalike",
   "current_citInitial": 1,
   "eqLabelWithNumbers": true,
   "eqNumInitial": 1,
   "hotkeys": {
    "equation": "Ctrl-E",
    "itemize": "Ctrl-I"
   },
   "labels_anchors": false,
   "latex_user_defs": false,
   "report_style_numbering": false,
   "user_envs_cfg": false
  },
  "toc": {
   "base_numbering": 1,
   "nav_menu": {},
   "number_sections": true,
   "sideBar": true,
   "skip_h1_title": false,
   "title_cell": "Table of Contents",
   "title_sidebar": "Contents",
   "toc_cell": false,
   "toc_position": {},
   "toc_section_display": true,
   "toc_window_display": false
  }
 },
 "nbformat": 4,
 "nbformat_minor": 2
}
