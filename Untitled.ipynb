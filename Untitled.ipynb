{
 "cells": [
  {
   "cell_type": "code",
   "execution_count": 1,
   "metadata": {},
   "outputs": [],
   "source": [
    "import signac"
   ]
  },
  {
   "cell_type": "code",
   "execution_count": 3,
   "metadata": {},
   "outputs": [
    {
     "name": "stdout",
     "output_type": "stream",
     "text": [
      "--------------\n",
      "{'radial_integral_cpp': None}\n"
     ]
    }
   ],
   "source": [
    "project = signac.get_project('./scripts/structure2representation')\n",
    "for job in project:\n",
    "    print('--------------')\n",
    "    print(job.document)"
   ]
  },
  {
   "cell_type": "code",
   "execution_count": 3,
   "metadata": {},
   "outputs": [],
   "source": [
    "import sys\n",
    "sys.path.insert(0,'scripts')"
   ]
  },
  {
   "cell_type": "code",
   "execution_count": 4,
   "metadata": {},
   "outputs": [
    {
     "name": "stdout",
     "output_type": "stream",
     "text": [
      "{'filename': '../../structures/qm9.json', 'representation': {'interaction_cutoff': 3, 'cutoff_smooth_width': 0.5, 'max_radial': 3, 'max_angular': 3, 'gaussian_sigma_type': 'Constant', 'soap_type': 'PowerSpectrum', 'radial_basis': 'GTO', 'normalize': False, 'optimization_args': {}, 'expansion_by_species_method': 'structure wise', 'global_species': [1, 6, 7, 8], 'compute_gradients': False, 'inversion_symmetry': True, 'cutoff_function_parameters': {}, 'cutoff_function_type': 'ShiftedCosine', 'gaussian_sigma_constant': 0.3, 'coefficient_subselection': None}, 'N_ITERATIONS': 100, 'n_structures': 50}\n"
     ]
    }
   ],
   "source": [
    "from representation_params import REPRESENTATION_PARAMS\n",
    "print(REPRESENTATION_PARAMS[0])"
   ]
  },
  {
   "cell_type": "code",
   "execution_count": 5,
   "metadata": {},
   "outputs": [
    {
     "name": "stdout",
     "output_type": "stream",
     "text": [
      "--------------\n",
      "f0323ac658c87482693f5a7d2f571c5c\n"
     ]
    }
   ],
   "source": [
    "import sys\n",
    "sys.path.insert(0,'scripts')\n",
    "from scripts.structure2representation.init import project\n",
    "\n",
    "for job in project:\n",
    "    print('--------------')\n",
    "    print(job)"
   ]
  },
  {
   "cell_type": "code",
   "execution_count": 6,
   "metadata": {},
   "outputs": [
    {
     "name": "stdout",
     "output_type": "stream",
     "text": [
      "/home/felix/git/rascal_benchmarks/scripts/structure2representation\n"
     ]
    }
   ],
   "source": [
    "from flow import FlowProject"
   ]
  },
  {
   "cell_type": "code",
   "execution_count": 8,
   "metadata": {},
   "outputs": [],
   "source": [
    "import flow"
   ]
  },
  {
   "cell_type": "code",
   "execution_count": 9,
   "metadata": {},
   "outputs": [
    {
     "data": {
      "text/plain": [
       "'0.9.0'"
      ]
     },
     "execution_count": 9,
     "metadata": {},
     "output_type": "execute_result"
    }
   ],
   "source": [
    "flow.__version__"
   ]
  },
  {
   "cell_type": "code",
   "execution_count": 10,
   "metadata": {},
   "outputs": [],
   "source": [
    "RASCAL_BUILD_PATH = './build/_deps/rascal-build/'\n",
    "sys.path.insert(0, RASCAL_BUILD_PATH)\n",
    "from rascal.representations import SphericalInvariants, SphericalExpansion"
   ]
  },
  {
   "cell_type": "code",
   "execution_count": 11,
   "metadata": {},
   "outputs": [
    {
     "name": "stdout",
     "output_type": "stream",
     "text": [
      "{'max_radial': 3, 'max_angular': 3, 'soap_type': 'PowerSpectrum', 'normalize': False, 'inversion_symmetry': True, 'expansion_by_species_method': 'structure wise', 'global_species': [1, 6, 7, 8], 'compute_gradients': False, 'cutoff_function': {'type': 'ShiftedCosine', 'cutoff': {'value': 3, 'unit': 'AA'}, 'smooth_width': {'value': 0.5, 'unit': 'AA'}}, 'gaussian_density': {'type': 'Constant', 'gaussian_sigma': {'value': 0.3, 'unit': 'AA'}}, 'radial_contribution': {'type': 'GTO', 'optimization': {'type': 'None'}}}\n"
     ]
    }
   ],
   "source": [
    "aa = {'interaction_cutoff': 3, 'cutoff_smooth_width': 0.5, 'max_radial': 3, 'max_angular': 3, 'gaussian_sigma_type': 'Constant', 'soap_type': 'PowerSpectrum', 'radial_basis': 'GTO', 'normalize': False, 'optimization_args': {}, 'expansion_by_species_method': 'structure wise', 'global_species': [1, 6, 7, 8], 'compute_gradients': False, 'inversion_symmetry': True, 'cutoff_function_parameters': {}, 'cutoff_function_type': 'ShiftedCosine', 'gaussian_sigma_constant': 0.3, 'coefficient_subselection': None}\n",
    "ee = SphericalInvariants(**aa)\n",
    "print(ee.hypers)"
   ]
  },
  {
   "cell_type": "code",
   "execution_count": null,
   "metadata": {},
   "outputs": [],
   "source": [
    "FlowProject."
   ]
  }
 ],
 "metadata": {
  "kernelspec": {
   "display_name": "rascal_benchmark",
   "language": "python",
   "name": "rascal_benchmark"
  },
  "language_info": {
   "codemirror_mode": {
    "name": "ipython",
    "version": 3
   },
   "file_extension": ".py",
   "mimetype": "text/x-python",
   "name": "python",
   "nbconvert_exporter": "python",
   "pygments_lexer": "ipython3",
   "version": "3.7.6"
  },
  "toc": {
   "base_numbering": 1,
   "nav_menu": {},
   "number_sections": true,
   "sideBar": true,
   "skip_h1_title": false,
   "title_cell": "Table of Contents",
   "title_sidebar": "Contents",
   "toc_cell": false,
   "toc_position": {},
   "toc_section_display": true,
   "toc_window_display": false
  }
 },
 "nbformat": 4,
 "nbformat_minor": 4
}
