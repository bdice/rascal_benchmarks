{
 "cells": [
  {
   "cell_type": "code",
   "execution_count": 1,
   "metadata": {},
   "outputs": [],
   "source": [
    "import os,sys,json\n",
    "sys.path.insert(0, '../../scripts/python')\n",
    "from prettyjson import prettyjson\n",
    "import ase\n",
    "from ase.io import read\n"
   ]
  },
  {
   "cell_type": "code",
   "execution_count": 2,
   "metadata": {},
   "outputs": [],
   "source": [
    "def tofile(fn,frames):\n",
    "    data = {}\n",
    "    for ii,frame in enumerate(frames):\n",
    "        aa = dict(positions=frame.get_positions().tolist(),cell=frame.get_cell().tolist(),\n",
    "                numbers=frame.get_atomic_numbers().tolist(),pbc=frame.get_pbc().tolist())\n",
    "        data[ii+1] = aa\n",
    "    data['ids'] = list(range(1, len(frames)+1))\n",
    "    data['nextid'] = len(frames)+1\n",
    "    with open(fn_out, 'w') as f:\n",
    "        data_pretty = prettyjson(data,indent=2, maxlinelength=80)\n",
    "        f.write(data_pretty)"
   ]
  },
  {
   "cell_type": "code",
   "execution_count": 3,
   "metadata": {},
   "outputs": [
    {
     "name": "stdout",
     "output_type": "stream",
     "text": [
      "CSD1000-r.xyz             gp_iter6_sparse9k.xml.xyz \u001b[31mqm9_5000.xyz\u001b[m\u001b[m\r\n",
      "convert_structures.ipynb  qm7-50.json               \u001b[34mrepo-fit-bulk\u001b[m\u001b[m\r\n"
     ]
    }
   ],
   "source": [
    "!ls"
   ]
  },
  {
   "cell_type": "code",
   "execution_count": null,
   "metadata": {},
   "outputs": [],
   "source": [
    "fns = ['CSD1000-r.xyz','gp_iter6_sparse9k.xml.xyz','qm9_5000.xyz',]"
   ]
  }
 ],
 "metadata": {
  "kernelspec": {
   "display_name": "py36",
   "language": "python",
   "name": "py36"
  },
  "language_info": {
   "codemirror_mode": {
    "name": "ipython",
    "version": 3
   },
   "file_extension": ".py",
   "mimetype": "text/x-python",
   "name": "python",
   "nbconvert_exporter": "python",
   "pygments_lexer": "ipython3",
   "version": "3.6.7"
  },
  "toc": {
   "colors": {
    "hover_highlight": "#DAA520",
    "navigate_num": "#000000",
    "navigate_text": "#333333",
    "running_highlight": "#FF0000",
    "selected_highlight": "#FFD700",
    "sidebar_border": "#EEEEEE",
    "wrapper_background": "#FFFFFF"
   },
   "moveMenuLeft": true,
   "nav_menu": {
    "height": "12px",
    "width": "252px"
   },
   "navigate_menu": true,
   "number_sections": true,
   "sideBar": true,
   "threshold": 4,
   "toc_cell": false,
   "toc_section_display": "block",
   "toc_window_display": false,
   "widenNotebook": false
  }
 },
 "nbformat": 4,
 "nbformat_minor": 2
}
