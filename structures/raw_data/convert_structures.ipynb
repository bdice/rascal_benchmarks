{
 "cells": [
  {
   "cell_type": "code",
   "execution_count": 1,
   "metadata": {},
   "outputs": [],
   "source": [
    "import os,sys,json,re\n",
    "sys.path.insert(0, '../../scripts/utils')\n",
    "from prettyjson import prettyjson\n",
    "import ase\n",
    "from ase.io import read\n",
    "from ase.visualize import view\n",
    "import numpy as np\n",
    "import ubjson, json"
   ]
  },
  {
   "cell_type": "code",
   "execution_count": 4,
   "metadata": {},
   "outputs": [
    {
     "name": "stdout",
     "output_type": "stream",
     "text": [
      "README                                 mebox-minimal-oos-T188-pbe-b1b.xyz\r\n",
      "dispts_quip_params.xml                 mebox-minimal-oos-T188-pbe-mbdint.xyz\r\n",
      "fit_mbd_soap.sh                        mebox-minimal-oos-T188-pbe0-b1b.xyz\r\n",
      "\u001b[31mfit_soap_box.sh\u001b[m\u001b[m                        mebox-minimal-oos-T188-pbe0-mbdint.xyz\r\n",
      "mebox-minimal-oos-T110-pbe-b1b.xyz     mebox-minimal-pbe-b1b.xyz\r\n",
      "mebox-minimal-oos-T110-pbe-mbdint.xyz  mebox-minimal-pbe-mbdint.xyz\r\n",
      "mebox-minimal-oos-T110-pbe0-b1b.xyz    mebox-minimal-pbe0-b1b.xyz\r\n",
      "mebox-minimal-oos-T110-pbe0-mbdint.xyz mebox-minimal-pbe0-pbeotf-mbdint.xyz\r\n"
     ]
    }
   ],
   "source": [
    "!ls repo-fit-bulk/"
   ]
  },
  {
   "cell_type": "code",
   "execution_count": 49,
   "metadata": {},
   "outputs": [],
   "source": [
    "fn = '/Users/iMac/Downloads/input.data'\n",
    "with open(fn, 'r') as f:\n",
    "    data = f.read().encode('unicode-escape').decode()"
   ]
  },
  {
   "cell_type": "code",
   "execution_count": 111,
   "metadata": {
    "code_folding": [
     9
    ]
   },
   "outputs": [],
   "source": [
    "patterns = {\n",
    "    'struture':r'(?<=begin).*?(?=end)',\n",
    "    'lattice':r'(?<=lattice).*?(?=\\\\n)',\n",
    "    'atom':r'(?<=atom).*?(?=\\\\n)',\n",
    "   'float':r\"[-+]?[0-9]*\\.?[0-9]+\",\n",
    "    'energy':r\"energy\\s+([-+]?[0-9]*\\.?[0-9]+)\\s+\\\\n\",\n",
    "   'species':r\"[BCFHIKNOPSUVWY]|A[cglmrstu]|B[aehikr]|C[adeflmnorsu]|D[bsy]|E[rsu]|F[elmr]|G[ade]|H[efgos]|I[nr]|Kr|L[airuv]|M[dgnot]|N[abdeiop]|Os|P[abdmortu]|R[abefghnu]|S[bcegimnr]|T[abcehilm]|Uu[opst]|Xe|Yb|Z[nr]\",\n",
    "           }\n",
    "frames = []\n",
    "for res in results:\n",
    "    ddd = re.findall(patterns['lattice'] , res)\n",
    "    lat = []\n",
    "    for d in ddd:\n",
    "        lat.append(list(map(float,re.findall(patterns['float'] , d))))\n",
    "    \n",
    "    ddd = re.findall(patterns['atom'] , res)\n",
    "    pos,sym,force = [],[],[]\n",
    "    for d in ddd:\n",
    "        aa = d.split()\n",
    "        pos.append(list(map(float,aa[:3])))\n",
    "        force.append(list(map(float,aa[-3:])))\n",
    "        aa = aa[3]\n",
    "        sym.append(aa)\n",
    "    energy = float(re.findall(patterns['energy'] , res)[0])\n",
    "    frame = ase.Atoms(positions=pos,symbols=sym,cell=lat,pbc=True)\n",
    "    frame.info['energy'] = energy\n",
    "    frame.set_array('forces',np.array(force))\n",
    "    frame.wrap(eps=1e-11)\n",
    "    frames.append(frame)"
   ]
  },
  {
   "cell_type": "code",
   "execution_count": 154,
   "metadata": {},
   "outputs": [
    {
     "data": {
      "text/plain": [
       "{'energy': -1272.64893}"
      ]
     },
     "execution_count": 154,
     "metadata": {},
     "output_type": "execute_result"
    }
   ],
   "source": [
    "frame.info"
   ]
  },
  {
   "cell_type": "code",
   "execution_count": 2,
   "metadata": {},
   "outputs": [
    {
     "data": {
      "text/plain": [
       "['1', '2', '3', '4', '5', '6', '7', '8', '9', '10']"
      ]
     },
     "execution_count": 2,
     "metadata": {},
     "output_type": "execute_result"
    }
   ],
   "source": [
    "list(map(\"{}\".format,range(1, 10+1)))"
   ]
  },
  {
   "cell_type": "code",
   "execution_count": 4,
   "metadata": {},
   "outputs": [
    {
     "data": {
      "text/plain": [
       "'10'"
      ]
     },
     "execution_count": 4,
     "metadata": {},
     "output_type": "execute_result"
    }
   ],
   "source": [
    "aa = 10\n",
    "str(aa)"
   ]
  },
  {
   "cell_type": "code",
   "execution_count": 9,
   "metadata": {
    "collapsed": true
   },
   "outputs": [
    {
     "ename": "NameError",
     "evalue": "name 'frames' is not defined",
     "output_type": "error",
     "traceback": [
      "\u001b[0;31m---------------------------------------------------------------------------\u001b[0m",
      "\u001b[0;31mNameError\u001b[0m                                 Traceback (most recent call last)",
      "\u001b[0;32m<ipython-input-9-1e3173764fa9>\u001b[0m in \u001b[0;36m<module>\u001b[0;34m\u001b[0m\n\u001b[1;32m      1\u001b[0m \u001b[0mfn_out\u001b[0m \u001b[0;34m=\u001b[0m \u001b[0;34m'../methane_sulfonic.ubjson'\u001b[0m\u001b[0;34m\u001b[0m\u001b[0;34m\u001b[0m\u001b[0m\n\u001b[0;32m----> 2\u001b[0;31m \u001b[0mtofile\u001b[0m\u001b[0;34m(\u001b[0m\u001b[0mfn_out\u001b[0m\u001b[0;34m,\u001b[0m\u001b[0mframes\u001b[0m\u001b[0;34m)\u001b[0m\u001b[0;34m\u001b[0m\u001b[0;34m\u001b[0m\u001b[0m\n\u001b[0m",
      "\u001b[0;31mNameError\u001b[0m: name 'frames' is not defined"
     ]
    }
   ],
   "source": [
    "fn_out = '../methane_sulfonic.ubjson'\n",
    "tofile(fn_out,frames)"
   ]
  },
  {
   "cell_type": "code",
   "execution_count": 168,
   "metadata": {},
   "outputs": [],
   "source": [
    "frames = fromfile(fn_out)"
   ]
  },
  {
   "cell_type": "code",
   "execution_count": 169,
   "metadata": {},
   "outputs": [
    {
     "data": {
      "text/plain": [
       "4141"
      ]
     },
     "execution_count": 169,
     "metadata": {},
     "output_type": "execute_result"
    }
   ],
   "source": [
    "len(frames)"
   ]
  },
  {
   "cell_type": "code",
   "execution_count": 170,
   "metadata": {},
   "outputs": [],
   "source": [
    "view(frames)"
   ]
  },
  {
   "cell_type": "code",
   "execution_count": 21,
   "metadata": {
    "code_folding": [
     25
    ]
   },
   "outputs": [],
   "source": [
    "def tofile(fn,frames):\n",
    "    import numpy as np\n",
    "    keys = ['positions','cell','numbers','pbc']\n",
    "    data = {}\n",
    "    data['ids'] = list(map('{}'.format,range(1, len(frames)+1)))\n",
    "    for ii,frame in zip(range(1, len(frames)+1), frames):\n",
    "        aa = dict(positions=frame.get_positions().tolist(),cell=frame.get_cell().tolist(),\n",
    "                numbers=frame.get_atomic_numbers().tolist(),pbc=frame.get_pbc().tolist())\n",
    "        aa['info'] = frame.info\n",
    "        for k,v in  frames[0].info.items():\n",
    "            if isinstance(v, np.integer):\n",
    "                aa['info'][k] = int(v)\n",
    "            elif isinstance(v, np.bool_):\n",
    "                aa['info'][k] = bool(v)\n",
    "            elif isinstance(v, np.float):\n",
    "                aa['info'][k] = float(v)\n",
    "            else:\n",
    "                aa['info'][k] = v\n",
    "        aa['arrays'] = {}\n",
    "        for k,v in frame.arrays.items():\n",
    "            if k not in keys:\n",
    "                aa['arrays'][k] = v.tolist()\n",
    "        data['{}'.format(ii)] = aa\n",
    "    data['nextid'] = '{}'.format(len(frames)+1)\n",
    "    _, extension = os.path.splitext(fn)\n",
    "    if extension == '.json':\n",
    "        with open(fn, 'w') as f:\n",
    "            # json.dump(data, f)\n",
    "            data_pretty = prettyjson(data,indent=2, maxlinelength=80)\n",
    "            f.write(data_pretty)\n",
    "    elif extension == '.ubjson':\n",
    "        import ubjson\n",
    "        with open(fn, 'wb') as f:\n",
    "            ubjson.dump(data, f,no_float32=False)\n",
    "            \n",
    "def fromfile(fn):\n",
    "    _, extension = os.path.splitext(fn)\n",
    "    if extension == '.json':\n",
    "        frames = read(fn, ':')\n",
    "    elif extension == '.ubjson':\n",
    "        import ubjson\n",
    "        with open(fn, 'rb') as f:\n",
    "            data = ubjson.load(f)\n",
    "        frames = []\n",
    "        for idx in data['ids']:\n",
    "            ff = data['{}'.format(idx)]\n",
    "            frame = ase.Atoms(positions=ff['positions'], cell=ff['cell'], \n",
    "                              numbers=ff['numbers'], pbc=ff['pbc'])\n",
    "            if 'info' in ff:\n",
    "                frame.info = ff['info']\n",
    "            if 'arrays' in ff:\n",
    "                for k,v in ff['arrays'].items():\n",
    "                    frame.set_array(k, np.array(v))\n",
    "            frames.append(frame)\n",
    "    return frames"
   ]
  },
  {
   "cell_type": "code",
   "execution_count": 22,
   "metadata": {},
   "outputs": [
    {
     "name": "stdout",
     "output_type": "stream",
     "text": [
      "molecular_crystals 1000\n"
     ]
    }
   ],
   "source": [
    "# fns = {'molecular_crystals':'CSD1000-r.xyz',\n",
    "#        'silicon_bulk':'gp_iter6_sparse9k.xml.xyz',\n",
    "#        'qm9':'qm9_5000.xyz',\n",
    "#        'methane_liquide':'repo-fit-bulk/mebox-minimal-pbe0-b1b.xyz'}\n",
    "fns = {'molecular_crystals':'CSD1000-r.xyz'}\n",
    "for k,fn in fns.items():\n",
    "    frames = read(fn,':')\n",
    "    print(k,len(frames))\n",
    "    fn_out = '../'+k+'.json'\n",
    "    tofile(fn_out,frames)"
   ]
  },
  {
   "cell_type": "code",
   "execution_count": null,
   "metadata": {},
   "outputs": [],
   "source": []
  }
 ],
 "metadata": {
  "kernelspec": {
   "display_name": "py36",
   "language": "python",
   "name": "py36"
  },
  "language_info": {
   "codemirror_mode": {
    "name": "ipython",
    "version": 3
   },
   "file_extension": ".py",
   "mimetype": "text/x-python",
   "name": "python",
   "nbconvert_exporter": "python",
   "pygments_lexer": "ipython3",
   "version": "3.6.7"
  },
  "toc": {
   "base_numbering": 1,
   "nav_menu": {
    "height": "12px",
    "width": "252px"
   },
   "number_sections": true,
   "sideBar": true,
   "skip_h1_title": false,
   "title_cell": "Table of Contents",
   "title_sidebar": "Contents",
   "toc_cell": false,
   "toc_position": {},
   "toc_section_display": "block",
   "toc_window_display": false
  }
 },
 "nbformat": 4,
 "nbformat_minor": 2
}
