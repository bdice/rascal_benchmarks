{
 "cells": [
  {
   "cell_type": "code",
   "execution_count": 13,
   "metadata": {},
   "outputs": [],
   "source": [
    "import os,sys,json,re\n",
    "sys.path.insert(0, '../../scripts/')\n",
    "from utils.io import tofile, fromfile, prettyjson\n",
    "import ase\n",
    "from ase.io import read\n",
    "from ase.visualize import view\n",
    "import numpy as np\n",
    "import ubjson, json"
   ]
  },
  {
   "cell_type": "code",
   "execution_count": 2,
   "metadata": {
    "scrolled": true
   },
   "outputs": [
    {
     "name": "stdout",
     "output_type": "stream",
     "text": [
      "dispts_quip_params.xml\t\t\tmebox-minimal-oos-T188-pbe0-mbdint.xyz\r\n",
      "fit_mbd_soap.sh\t\t\t\tmebox-minimal-oos-T188-pbe-b1b.xyz\r\n",
      "fit_soap_box.sh\t\t\t\tmebox-minimal-oos-T188-pbe-mbdint.xyz\r\n",
      "mebox-minimal-oos-T110-pbe0-b1b.xyz\tmebox-minimal-pbe0-b1b.xyz\r\n",
      "mebox-minimal-oos-T110-pbe0-mbdint.xyz\tmebox-minimal-pbe0-pbeotf-mbdint.xyz\r\n",
      "mebox-minimal-oos-T110-pbe-b1b.xyz\tmebox-minimal-pbe-b1b.xyz\r\n",
      "mebox-minimal-oos-T110-pbe-mbdint.xyz\tmebox-minimal-pbe-mbdint.xyz\r\n",
      "mebox-minimal-oos-T188-pbe0-b1b.xyz\tREADME\r\n"
     ]
    }
   ],
   "source": [
    "!ls repo-fit-bulk/"
   ]
  },
  {
   "cell_type": "code",
   "execution_count": 2,
   "metadata": {
    "collapsed": true
   },
   "outputs": [
    {
     "ename": "FileNotFoundError",
     "evalue": "[Errno 2] No such file or directory: '/Users/iMac/Downloads/input.data'",
     "output_type": "error",
     "traceback": [
      "\u001b[0;31m---------------------------------------------------------------------------\u001b[0m",
      "\u001b[0;31mFileNotFoundError\u001b[0m                         Traceback (most recent call last)",
      "\u001b[0;32m<ipython-input-2-84bb9a065085>\u001b[0m in \u001b[0;36m<module>\u001b[0;34m\u001b[0m\n\u001b[1;32m      1\u001b[0m \u001b[0mfn\u001b[0m \u001b[0;34m=\u001b[0m \u001b[0;34m'/Users/iMac/Downloads/input.data'\u001b[0m\u001b[0;34m\u001b[0m\u001b[0;34m\u001b[0m\u001b[0m\n\u001b[0;32m----> 2\u001b[0;31m \u001b[0;32mwith\u001b[0m \u001b[0mopen\u001b[0m\u001b[0;34m(\u001b[0m\u001b[0mfn\u001b[0m\u001b[0;34m,\u001b[0m \u001b[0;34m'r'\u001b[0m\u001b[0;34m)\u001b[0m \u001b[0;32mas\u001b[0m \u001b[0mf\u001b[0m\u001b[0;34m:\u001b[0m\u001b[0;34m\u001b[0m\u001b[0;34m\u001b[0m\u001b[0m\n\u001b[0m\u001b[1;32m      3\u001b[0m     \u001b[0mdata\u001b[0m \u001b[0;34m=\u001b[0m \u001b[0mf\u001b[0m\u001b[0;34m.\u001b[0m\u001b[0mread\u001b[0m\u001b[0;34m(\u001b[0m\u001b[0;34m)\u001b[0m\u001b[0;34m.\u001b[0m\u001b[0mencode\u001b[0m\u001b[0;34m(\u001b[0m\u001b[0;34m'unicode-escape'\u001b[0m\u001b[0;34m)\u001b[0m\u001b[0;34m.\u001b[0m\u001b[0mdecode\u001b[0m\u001b[0;34m(\u001b[0m\u001b[0;34m)\u001b[0m\u001b[0;34m\u001b[0m\u001b[0;34m\u001b[0m\u001b[0m\n",
      "\u001b[0;31mFileNotFoundError\u001b[0m: [Errno 2] No such file or directory: '/Users/iMac/Downloads/input.data'"
     ]
    }
   ],
   "source": [
    "fn = '/Users/iMac/Downloads/input.data'\n",
    "with open(fn, 'r') as f:\n",
    "    data = f.read().encode('unicode-escape').decode()"
   ]
  },
  {
   "cell_type": "code",
   "execution_count": 111,
   "metadata": {
    "code_folding": [
     9
    ]
   },
   "outputs": [],
   "source": [
    "patterns = {\n",
    "    'struture':r'(?<=begin).*?(?=end)',\n",
    "    'lattice':r'(?<=lattice).*?(?=\\\\n)',\n",
    "    'atom':r'(?<=atom).*?(?=\\\\n)',\n",
    "   'float':r\"[-+]?[0-9]*\\.?[0-9]+\",\n",
    "    'energy':r\"energy\\s+([-+]?[0-9]*\\.?[0-9]+)\\s+\\\\n\",\n",
    "   'species':r\"[BCFHIKNOPSUVWY]|A[cglmrstu]|B[aehikr]|C[adeflmnorsu]|D[bsy]|E[rsu]|F[elmr]|G[ade]|H[efgos]|I[nr]|Kr|L[airuv]|M[dgnot]|N[abdeiop]|Os|P[abdmortu]|R[abefghnu]|S[bcegimnr]|T[abcehilm]|Uu[opst]|Xe|Yb|Z[nr]\",\n",
    "           }\n",
    "frames = []\n",
    "for res in results:\n",
    "    ddd = re.findall(patterns['lattice'] , res)\n",
    "    lat = []\n",
    "    for d in ddd:\n",
    "        lat.append(list(map(float,re.findall(patterns['float'] , d))))\n",
    "    \n",
    "    ddd = re.findall(patterns['atom'] , res)\n",
    "    pos,sym,force = [],[],[]\n",
    "    for d in ddd:\n",
    "        aa = d.split()\n",
    "        pos.append(list(map(float,aa[:3])))\n",
    "        force.append(list(map(float,aa[-3:])))\n",
    "        aa = aa[3]\n",
    "        sym.append(aa)\n",
    "    energy = float(re.findall(patterns['energy'] , res)[0])\n",
    "    frame = ase.Atoms(positions=pos,symbols=sym,cell=lat,pbc=True)\n",
    "    frame.info['energy'] = energy\n",
    "    frame.set_array('forces',np.array(force))\n",
    "    frame.wrap(eps=1e-11)\n",
    "    frames.append(frame)"
   ]
  },
  {
   "cell_type": "code",
   "execution_count": 9,
   "metadata": {
    "collapsed": true
   },
   "outputs": [
    {
     "ename": "NameError",
     "evalue": "name 'frames' is not defined",
     "output_type": "error",
     "traceback": [
      "\u001b[0;31m---------------------------------------------------------------------------\u001b[0m",
      "\u001b[0;31mNameError\u001b[0m                                 Traceback (most recent call last)",
      "\u001b[0;32m<ipython-input-9-1e3173764fa9>\u001b[0m in \u001b[0;36m<module>\u001b[0;34m\u001b[0m\n\u001b[1;32m      1\u001b[0m \u001b[0mfn_out\u001b[0m \u001b[0;34m=\u001b[0m \u001b[0;34m'../methane_sulfonic.ubjson'\u001b[0m\u001b[0;34m\u001b[0m\u001b[0;34m\u001b[0m\u001b[0m\n\u001b[0;32m----> 2\u001b[0;31m \u001b[0mtofile\u001b[0m\u001b[0;34m(\u001b[0m\u001b[0mfn_out\u001b[0m\u001b[0;34m,\u001b[0m\u001b[0mframes\u001b[0m\u001b[0;34m)\u001b[0m\u001b[0;34m\u001b[0m\u001b[0;34m\u001b[0m\u001b[0m\n\u001b[0m",
      "\u001b[0;31mNameError\u001b[0m: name 'frames' is not defined"
     ]
    }
   ],
   "source": [
    "fn_out = '../methane_sulfonic.json'\n",
    "tofile(fn_out,frames)"
   ]
  },
  {
   "cell_type": "code",
   "execution_count": 168,
   "metadata": {},
   "outputs": [],
   "source": [
    "frames = fromfile(fn_out)"
   ]
  },
  {
   "cell_type": "code",
   "execution_count": 169,
   "metadata": {
    "scrolled": true
   },
   "outputs": [
    {
     "data": {
      "text/plain": [
       "4141"
      ]
     },
     "execution_count": 169,
     "metadata": {},
     "output_type": "execute_result"
    }
   ],
   "source": [
    "len(frames)"
   ]
  },
  {
   "cell_type": "code",
   "execution_count": 14,
   "metadata": {},
   "outputs": [
    {
     "data": {
      "text/plain": [
       "'asdf'"
      ]
     },
     "execution_count": 14,
     "metadata": {},
     "output_type": "execute_result"
    }
   ],
   "source": [
    "'Asdf'.lower()"
   ]
  },
  {
   "cell_type": "code",
   "execution_count": 21,
   "metadata": {},
   "outputs": [
    {
     "name": "stdout",
     "output_type": "stream",
     "text": [
      "silicon_bulk 2475\n"
     ]
    }
   ],
   "source": [
    "fns = {'molecular_crystals':'CSD1000-r.xyz',\n",
    "       'silicon_bulk':'gp_iter6_sparse9k.xml.xyz',\n",
    "       'qm9':'qm9_5000.xyz',\n",
    "       'methane_liquid':'repo-fit-bulk/mebox-minimal-pbe0-b1b.xyz'\n",
    "}\n",
    "fns = {'silicon_bulk':'gp_iter6_sparse9k.xml.xyz',}\n",
    "for name,fn in fns.items():\n",
    "    frames = read(fn,':')\n",
    "    for frame in frames:\n",
    "        if name == 'qm9':\n",
    "            frame.set_pbc(False)\n",
    "            frame.set_cell(np.eye(3)*12)\n",
    "            frame.center(about=[6,6,6])\n",
    "        frame.wrap(eps=1e-11)\n",
    "        aa = {}\n",
    "        for k,v in frame.info.items():\n",
    "            aa[k.lower()] = v\n",
    "        frame.info = aa\n",
    "        aa = {}\n",
    "        for k,v in frame.arrays.items():\n",
    "            aa[k.lower()] = v\n",
    "        frame.arrays = aa\n",
    "    print(name,len(frames))\n",
    "    fn_out = '../'+name+'.json'\n",
    "    tofile(fn_out,frames)"
   ]
  },
  {
   "cell_type": "code",
   "execution_count": 12,
   "metadata": {},
   "outputs": [],
   "source": [
    "fn = '../'+'qm9'+'.json'\n",
    "frames = read(fn,':')\n",
    "y = np.load('qm9_eV_5000.dHf_peratom.npy')\n",
    "for ii,ff in enumerate(frames):\n",
    "    ff.info['dHf_peratom'] = y[ii]\n",
    "    # pp = ff.get_positions()\n",
    "    # if np.any(pp > 12) or np.any(pp < 0):\n",
    "    #     print(ii,'%%%%%%%%%%%%')\n",
    "    #     print(pp)\n",
    "tofile(fn, frames)"
   ]
  },
  {
   "cell_type": "code",
   "execution_count": 11,
   "metadata": {},
   "outputs": [
    {
     "data": {
      "text/plain": [
       "array([-4.17287931, -4.55281707, -4.37783951, ..., -4.22765394,\n",
       "       -4.2937652 , -4.36285139])"
      ]
     },
     "execution_count": 11,
     "metadata": {},
     "output_type": "execute_result"
    }
   ],
   "source": []
  },
  {
   "cell_type": "code",
   "execution_count": 20,
   "metadata": {
    "code_folding": []
   },
   "outputs": [
    {
     "name": "stdout",
     "output_type": "stream",
     "text": [
      "molecular_crystals.json 14535 394656 [1 6 7 8]\n"
     ]
    }
   ],
   "source": [
    "from ase.neighborlist import neighbor_list\n",
    "path = '../'\n",
    "fns = ['qm9.json', 'molecular_crystals.json', 'silicon_bulk.json', \n",
    "       'methane_liquid.json', 'methane_sulfonic.ubjson']\n",
    "sp = {\n",
    "    # 'qm9.json' : {'st':0,'nd':500, 'c':4, 'o':'qm9_0_500.json'}, \n",
    "    'molecular_crystals.json' : {'lg':100, 'c':4, 'o':'molecular_crystals_100.json'}, \n",
    "    # 'silicon_bulk.json' : {'st':600,'nd':700, 'c':4, 'o':'silicon_bulk_600_700.json'}, \n",
    "    # 'methane_liquid.json' : {'st':100,'nd':150, 'c':4, 'o':'methane_liquid_100_150.json'}, \n",
    "    #'methane_sulfonic.ubjson' : {'lg':150, 'c':4, 'o':'methane_sulfonic_150.json'}\n",
    "}\n",
    "\n",
    "\n",
    "for fn in sp:\n",
    "    frames = fromfile(path+fn)\n",
    "    s = sp[fn]\n",
    "    ffs = frames\n",
    "    nat = 0\n",
    "    nneigh = 0\n",
    "    sps = []\n",
    "    sel = []\n",
    "    ii = 0\n",
    "    for ff in ffs:\n",
    "        if ii >= s['lg']:\n",
    "            break\n",
    "        if np.product(ff.get_pbc()):\n",
    "            cl = ff.get_cell_lengths_and_angles()[:3]\n",
    "            if np.any(cl < 2 * s['c']):\n",
    "                continue\n",
    "            else:\n",
    "                sel.append(ff)\n",
    "                ii += 1\n",
    "        i,j = ase.neighborlist.neighbor_list('ij', ff, s['c']) \n",
    "        nat += len(np.unique(i))\n",
    "        nneigh += len(j)\n",
    "        sps.extend(ff.get_atomic_numbers())\n",
    "    print(fn, nat, nneigh, np.unique(sps))\n",
    "    tofile(path+s['o'], sel)"
   ]
  },
  {
   "cell_type": "code",
   "execution_count": 6,
   "metadata": {},
   "outputs": [],
   "source": [
    "view(sel)"
   ]
  },
  {
   "cell_type": "code",
   "execution_count": 33,
   "metadata": {},
   "outputs": [
    {
     "data": {
      "text/plain": [
       "['centers',\n",
       " 'neighbourlist',\n",
       " 'centercontribution',\n",
       " 'strict',\n",
       " 'maxorder',\n",
       " 'halflist',\n",
       " 'fulllist']"
      ]
     },
     "execution_count": 33,
     "metadata": {},
     "output_type": "execute_result"
    }
   ],
   "source": [
    "from rascal.neighbourlist.base import _neighbourlist_list\n",
    "_neighbourlist_list"
   ]
  },
  {
   "cell_type": "code",
   "execution_count": 6,
   "metadata": {},
   "outputs": [],
   "source": [
    "frames = fromfile('../molecular_crystals_50.json')\n",
    "view(frames)"
   ]
  },
  {
   "cell_type": "code",
   "execution_count": 4,
   "metadata": {},
   "outputs": [
    {
     "data": {
      "text/plain": [
       "1000"
      ]
     },
     "execution_count": 4,
     "metadata": {},
     "output_type": "execute_result"
    }
   ],
   "source": [
    "len(frames)"
   ]
  },
  {
   "cell_type": "code",
   "execution_count": 31,
   "metadata": {},
   "outputs": [
    {
     "name": "stdout",
     "output_type": "stream",
     "text": [
      "methane_liquid.json\t qm9_0_500.json  README.md\r\n",
      "methane_sulfonic.ubjson  qm9.json\t silicon_bulk_600_700.json\r\n",
      "molecular_crystals.json  raw_data\t silicon_bulk.json\r\n"
     ]
    }
   ],
   "source": [
    "!ls ../"
   ]
  },
  {
   "cell_type": "code",
   "execution_count": null,
   "metadata": {},
   "outputs": [],
   "source": []
  }
 ],
 "metadata": {
  "kernelspec": {
   "display_name": "py36",
   "language": "python",
   "name": "py36"
  },
  "language_info": {
   "codemirror_mode": {
    "name": "ipython",
    "version": 3
   },
   "file_extension": ".py",
   "mimetype": "text/x-python",
   "name": "python",
   "nbconvert_exporter": "python",
   "pygments_lexer": "ipython3",
   "version": "3.6.8"
  },
  "toc": {
   "base_numbering": 1,
   "nav_menu": {
    "height": "12px",
    "width": "252px"
   },
   "number_sections": true,
   "sideBar": true,
   "skip_h1_title": false,
   "title_cell": "Table of Contents",
   "title_sidebar": "Contents",
   "toc_cell": false,
   "toc_position": {},
   "toc_section_display": "block",
   "toc_window_display": false
  }
 },
 "nbformat": 4,
 "nbformat_minor": 2
}
