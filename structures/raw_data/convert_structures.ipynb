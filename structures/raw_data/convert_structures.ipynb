{
 "cells": [
  {
   "cell_type": "code",
   "execution_count": 1,
   "metadata": {},
   "outputs": [],
   "source": [
    "import os,sys,json\n",
    "sys.path.insert(0, '../../scripts/python')\n",
    "from prettyjson import prettyjson\n",
    "import ase\n",
    "from ase.io import read\n"
   ]
  },
  {
   "cell_type": "code",
   "execution_count": 2,
   "metadata": {},
   "outputs": [],
   "source": [
    "def tofile(fn,frames):\n",
    "    data = {}\n",
    "    for ii,frame in enumerate(frames):\n",
    "        aa = dict(positions=frame.get_positions().tolist(),cell=frame.get_cell().tolist(),\n",
    "                numbers=frame.get_atomic_numbers().tolist(),pbc=frame.get_pbc().tolist())\n",
    "        data[ii+1] = aa\n",
    "    data['ids'] = list(range(1, len(frames)+1))\n",
    "    data['nextid'] = len(frames)+1\n",
    "    with open(fn_out, 'w') as f:\n",
    "        data_pretty = prettyjson(data,indent=2, maxlinelength=80)\n",
    "        f.write(data_pretty)"
   ]
  },
  {
   "cell_type": "code",
   "execution_count": 4,
   "metadata": {},
   "outputs": [
    {
     "name": "stdout",
     "output_type": "stream",
     "text": [
      "README                                 mebox-minimal-oos-T188-pbe-b1b.xyz\r\n",
      "dispts_quip_params.xml                 mebox-minimal-oos-T188-pbe-mbdint.xyz\r\n",
      "fit_mbd_soap.sh                        mebox-minimal-oos-T188-pbe0-b1b.xyz\r\n",
      "\u001b[31mfit_soap_box.sh\u001b[m\u001b[m                        mebox-minimal-oos-T188-pbe0-mbdint.xyz\r\n",
      "mebox-minimal-oos-T110-pbe-b1b.xyz     mebox-minimal-pbe-b1b.xyz\r\n",
      "mebox-minimal-oos-T110-pbe-mbdint.xyz  mebox-minimal-pbe-mbdint.xyz\r\n",
      "mebox-minimal-oos-T110-pbe0-b1b.xyz    mebox-minimal-pbe0-b1b.xyz\r\n",
      "mebox-minimal-oos-T110-pbe0-mbdint.xyz mebox-minimal-pbe0-pbeotf-mbdint.xyz\r\n"
     ]
    }
   ],
   "source": [
    "!ls repo-fit-bulk/"
   ]
  },
  {
   "cell_type": "code",
   "execution_count": null,
   "metadata": {},
   "outputs": [],
   "source": []
  },
  {
   "cell_type": "code",
   "execution_count": 5,
   "metadata": {},
   "outputs": [
    {
     "name": "stdout",
     "output_type": "stream",
     "text": [
      "molecular_crystals 1000\n",
      "silicon_bulk 2475\n",
      "qm9 5000\n",
      "methane_liquide 258\n"
     ]
    }
   ],
   "source": [
    "fns = {'molecular_crystals':'CSD1000-r.xyz',\n",
    "       'silicon_bulk':'gp_iter6_sparse9k.xml.xyz',\n",
    "       'qm9':'qm9_5000.xyz',\n",
    "       'methane_liquide':'repo-fit-bulk/mebox-minimal-pbe0-b1b.xyz'}\n",
    "for k,fn in fns.items():\n",
    "    frames = read(fn,':')\n",
    "    print(k,len(frames))\n",
    "    fn_out = '../'+k+'.json'\n",
    "    tofile(fn_out,frames)"
   ]
  },
  {
   "cell_type": "code",
   "execution_count": null,
   "metadata": {},
   "outputs": [],
   "source": []
  }
 ],
 "metadata": {
  "kernelspec": {
   "display_name": "py36",
   "language": "python",
   "name": "py36"
  },
  "language_info": {
   "codemirror_mode": {
    "name": "ipython",
    "version": 3
   },
   "file_extension": ".py",
   "mimetype": "text/x-python",
   "name": "python",
   "nbconvert_exporter": "python",
   "pygments_lexer": "ipython3",
   "version": "3.6.7"
  },
  "toc": {
   "colors": {
    "hover_highlight": "#DAA520",
    "navigate_num": "#000000",
    "navigate_text": "#333333",
    "running_highlight": "#FF0000",
    "selected_highlight": "#FFD700",
    "sidebar_border": "#EEEEEE",
    "wrapper_background": "#FFFFFF"
   },
   "moveMenuLeft": true,
   "nav_menu": {
    "height": "12px",
    "width": "252px"
   },
   "navigate_menu": true,
   "number_sections": true,
   "sideBar": true,
   "threshold": 4,
   "toc_cell": false,
   "toc_section_display": "block",
   "toc_window_display": false,
   "widenNotebook": false
  }
 },
 "nbformat": 4,
 "nbformat_minor": 2
}
